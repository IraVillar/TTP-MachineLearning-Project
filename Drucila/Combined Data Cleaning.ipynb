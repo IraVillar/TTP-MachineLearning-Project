{
 "cells": [
  {
   "cell_type": "code",
   "execution_count": 1,
   "metadata": {},
   "outputs": [],
   "source": [
    "import pandas as pd"
   ]
  },
  {
   "cell_type": "code",
   "execution_count": 19,
   "metadata": {},
   "outputs": [],
   "source": [
    "# Importing Combined DataSet (Test and Train)\n",
    "train = pd.read_csv('test_train.csv')"
   ]
  },
  {
   "cell_type": "code",
   "execution_count": 23,
   "metadata": {},
   "outputs": [],
   "source": [
    "# Preprocessing: Imputation: Filling Missing Values \n",
    "train.loc[:, \"BedroomAbvGr\"] = train.loc[:, \"BedroomAbvGr\"].fillna(0)\n",
    "train.loc[:, \"BsmtQual\"] = train.loc[:, \"BsmtQual\"].fillna(\"No\")\n",
    "train.loc[:, \"BsmtCond\"] = train.loc[:, \"BsmtCond\"].fillna(\"No\")\n",
    "train.loc[:, \"BsmtExposure\"] = train.loc[:, \"BsmtExposure\"].fillna(\"No\")\n",
    "train.loc[:, \"BsmtFinType1\"] = train.loc[:, \"BsmtFinType1\"].fillna(\"No\")\n",
    "train.loc[:, \"BsmtFinType2\"] = train.loc[:, \"BsmtFinType2\"].fillna(\"No\")\n",
    "train.loc[:, \"BsmtFullBath\"] = train.loc[:, \"BsmtFullBath\"].fillna(0)\n",
    "train.loc[:, \"BsmtHalfBath\"] = train.loc[:, \"BsmtHalfBath\"].fillna(0)\n",
    "train.loc[:, \"BsmtUnfSF\"] = train.loc[:, \"BsmtUnfSF\"].fillna(0)\n",
    "train.loc[:, \"CentralAir\"] = train.loc[:, \"CentralAir\"].fillna(\"N\")\n",
    "train.loc[:, \"Condition1\"] = train.loc[:, \"Condition1\"].fillna(\"Norm\")\n",
    "train.loc[:, \"Condition2\"] = train.loc[:, \"Condition2\"].fillna(\"Norm\")\n",
    "train.loc[:, \"EnclosedPorch\"] = train.loc[:, \"EnclosedPorch\"].fillna(0)\n",
    "train.loc[:, \"ExterCond\"] = train.loc[:, \"ExterCond\"].fillna(\"TA\")\n",
    "train.loc[:, \"ExterQual\"] = train.loc[:, \"ExterQual\"].fillna(\"TA\")\n",
    "train.loc[:, \"FireplaceQu\"] = train.loc[:, \"FireplaceQu\"].fillna(\"No\")\n",
    "train.loc[:, \"Fireplaces\"] = train.loc[:, \"Fireplaces\"].fillna(0)\n",
    "train.loc[:, \"Functional\"] = train.loc[:, \"Functional\"].fillna(\"Typ\")\n",
    "train.loc[:, \"GarageType\"] = train.loc[:, \"GarageType\"].fillna(\"No\")\n",
    "train.loc[:, \"GarageFinish\"] = train.loc[:, \"GarageFinish\"].fillna(\"No\")\n",
    "train.loc[:, \"GarageQual\"] = train.loc[:, \"GarageQual\"].fillna(\"No\")\n",
    "train.loc[:, \"GarageCond\"] = train.loc[:, \"GarageCond\"].fillna(\"No\")\n",
    "train.loc[:, \"GarageArea\"] = train.loc[:, \"GarageArea\"].fillna(0)\n",
    "train.loc[:, \"GarageCars\"] = train.loc[:, \"GarageCars\"].fillna(0)\n",
    "train.loc[:, \"HalfBath\"] = train.loc[:, \"HalfBath\"].fillna(0)\n",
    "train.loc[:, \"HeatingQC\"] = train.loc[:, \"HeatingQC\"].fillna(\"TA\")\n",
    "train.loc[:, \"KitchenAbvGr\"] = train.loc[:, \"KitchenAbvGr\"].fillna(0)\n",
    "train.loc[:, \"KitchenQual\"] = train.loc[:, \"KitchenQual\"].fillna(\"TA\")\n",
    "train.loc[:, \"LotFrontage\"] = train.loc[:, \"LotFrontage\"].fillna(0)\n",
    "train.loc[:, \"LotShape\"] = train.loc[:, \"LotShape\"].fillna(\"Reg\")\n",
    "train.loc[:, \"MasVnrType\"] = train.loc[:, \"MasVnrType\"].fillna(\"None\")\n",
    "train.loc[:, \"MasVnrArea\"] = train.loc[:, \"MasVnrArea\"].fillna(0)\n",
    "train.loc[:, \"MiscVal\"] = train.loc[:, \"MiscVal\"].fillna(0)\n",
    "train.loc[:, \"OpenPorchSF\"] = train.loc[:, \"OpenPorchSF\"].fillna(0)\n",
    "train.loc[:, \"PavedDrive\"] = train.loc[:, \"PavedDrive\"].fillna(\"N\")\n",
    "train.loc[:, \"SaleCondition\"] = train.loc[:, \"SaleCondition\"].fillna(\"Normal\")\n",
    "train.loc[:, \"ScreenPorch\"] = train.loc[:, \"ScreenPorch\"].fillna(0)\n",
    "train.loc[:, \"TotRmsAbvGrd\"] = train.loc[:, \"TotRmsAbvGrd\"].fillna(0)\n",
    "train.loc[:, \"Utilities\"] = train.loc[:, \"Utilities\"].fillna(\"AllPub\")\n",
    "train.loc[:, \"WoodDeckSF\"] = train.loc[:, \"WoodDeckSF\"].fillna(0)"
   ]
  },
  {
   "cell_type": "code",
   "execution_count": 65,
   "metadata": {},
   "outputs": [],
   "source": [
    "train.loc[:, \"Exterior1st\"] = train.loc[:, \"Exterior1st\"].fillna(\"No\")\n",
    "train.loc[:, \"Exterior2nd\"] = train.loc[:, \"Exterior2nd\"].fillna(\"No\")\n",
    "train.loc[:, \"BsmtFinSF1\"] = train.loc[:, \"BsmtFinSF1\"].fillna(0)\n",
    "train.loc[:, \"BsmtFinSF2\"] = train.loc[:, \"BsmtFinSF2\"].fillna(0)\n",
    "train.loc[:, \"TotalBsmtSF\"] = train.loc[:, \"TotalBsmtSF\"].fillna(0)\n",
    "train.loc[:, \"Electrical\"] = train.loc[:, \"Electrical\"].fillna(\"Electrical\")\n",
    "train.loc[:, \"SaleType\"] = train.loc[:, \"SaleType\"].fillna(\"WD\")\n",
    "train.loc[:, \"GarageYrBlt\"] = train.loc[:, \"GarageYrBlt\"].fillna(\"None\")\n"
   ]
  },
  {
   "cell_type": "code",
   "execution_count": 66,
   "metadata": {},
   "outputs": [],
   "source": [
    "# Ms Zoning and Garage Yr Blt Still * Pending* "
   ]
  },
  {
   "cell_type": "code",
   "execution_count": null,
   "metadata": {},
   "outputs": [],
   "source": [
    "# Lookig at the frequency of garage year built\n",
    "temp = train['GarageYrBlt'].value_counts().reset_index(name='GarageYrBlt')"
   ]
  },
  {
   "cell_type": "code",
   "execution_count": null,
   "metadata": {},
   "outputs": [],
   "source": [
    "# Looking at Scatterplot\n",
    "sns.scatterplot(x = 'GarageCars',  y = 'GarageArea', data = train)"
   ]
  }
 ],
 "metadata": {
  "kernelspec": {
   "display_name": "Python 3",
   "language": "python",
   "name": "python3"
  },
  "language_info": {
   "codemirror_mode": {
    "name": "ipython",
    "version": 3
   },
   "file_extension": ".py",
   "mimetype": "text/x-python",
   "name": "python",
   "nbconvert_exporter": "python",
   "pygments_lexer": "ipython3",
   "version": "3.7.3"
  }
 },
 "nbformat": 4,
 "nbformat_minor": 2
}
