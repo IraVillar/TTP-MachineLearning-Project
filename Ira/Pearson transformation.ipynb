{
 "cells": [
  {
   "cell_type": "code",
   "execution_count": 30,
   "metadata": {},
   "outputs": [],
   "source": [
    "import pandas as pd\n",
    "\n",
    "try5 = pd.read_csv('try5.csv')\n",
    "te5 = pd.read_csv('te5.csv')"
   ]
  },
  {
   "cell_type": "code",
   "execution_count": 33,
   "metadata": {},
   "outputs": [],
   "source": [
    "testpearson5 = te5.loc[:,['TotalSF','OverallQual','GrLivArea', 'TotalBath', 'GarageCars', \\\n",
    "                   'YearBuilt', 'YearRemodAdd', 'TotRmsAbvGrd', 'GarageArea', 'Fireplaces', \\\n",
    "                   'MasVnrArea', 'LotArea', 'TotalPorchSF', 'Neighborhood_NridgHt', 'GarageYrBlt', \\\n",
    "                      'ExterQual_TA', 'KitchenQual_TA', 'FireplaceQu_No', 'BsmtQual_TA', 'GarageFinish_Unf', \\\n",
    "                      'MasVnrType_None', 'GarageType_Detchd', 'Foundation_CBlock', 'HeatingQC_TA', 'GarageCond_No', \\\n",
    "                      'GarageQual_No', 'GarageFinish_No', 'GarageType_No', 'BsmtExposure_No']]\n",
    "\n",
    "\n",
    "pearson5 = try5.loc[:,['TotalSF','OverallQual','GrLivArea', 'TotalBath', 'GarageCars', \\\n",
    "                   'YearBuilt', 'YearRemodAdd', 'TotRmsAbvGrd', 'GarageArea', 'Fireplaces', \\\n",
    "                   'MasVnrArea', 'LotArea', 'TotalPorchSF', 'Neighborhood_NridgHt', 'GarageYrBlt', \\\n",
    "                      'ExterQual_TA', 'KitchenQual_TA', 'FireplaceQu_No', 'BsmtQual_TA', 'GarageFinish_Unf', \\\n",
    "                      'MasVnrType_None', 'GarageType_Detchd', 'Foundation_CBlock', 'HeatingQC_TA', 'GarageCond_No', \\\n",
    "                      'GarageQual_No', 'GarageFinish_No', 'GarageType_No', 'BsmtExposure_No', 'ylogSalePrice']]"
   ]
  },
  {
   "cell_type": "code",
   "execution_count": 34,
   "metadata": {},
   "outputs": [],
   "source": [
    "pearson5.to_csv('pearson5.csv')\n",
    "testpearson5.to_csv('testpearson5.csv')"
   ]
  },
  {
   "cell_type": "code",
   "execution_count": 35,
   "metadata": {},
   "outputs": [
    {
     "data": {
      "text/plain": [
       "(1456, 30)"
      ]
     },
     "execution_count": 35,
     "metadata": {},
     "output_type": "execute_result"
    }
   ],
   "source": [
    "pearson5.shape"
   ]
  },
  {
   "cell_type": "code",
   "execution_count": 36,
   "metadata": {},
   "outputs": [
    {
     "data": {
      "text/plain": [
       "(1459, 29)"
      ]
     },
     "execution_count": 36,
     "metadata": {},
     "output_type": "execute_result"
    }
   ],
   "source": [
    "testpearson5.shape"
   ]
  },
  {
   "cell_type": "code",
   "execution_count": null,
   "metadata": {},
   "outputs": [],
   "source": []
  }
 ],
 "metadata": {
  "kernelspec": {
   "display_name": "Python 3",
   "language": "python",
   "name": "python3"
  },
  "language_info": {
   "codemirror_mode": {
    "name": "ipython",
    "version": 3
   },
   "file_extension": ".py",
   "mimetype": "text/x-python",
   "name": "python",
   "nbconvert_exporter": "python",
   "pygments_lexer": "ipython3",
   "version": "3.7.3"
  }
 },
 "nbformat": 4,
 "nbformat_minor": 2
}
