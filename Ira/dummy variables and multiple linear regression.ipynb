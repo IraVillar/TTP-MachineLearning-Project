{
 "cells": [
  {
   "cell_type": "code",
   "execution_count": 333,
   "metadata": {},
   "outputs": [],
   "source": [
    "##IMPORT\n",
    "#import the packages\n",
    "import pandas as pd\n",
    "import matplotlib.pyplot as plt\n",
    "import seaborn as sns\n",
    "import numpy as np\n",
    "from scipy import stats\n",
    "from sklearn.preprocessing import StandardScaler\n",
    "from sklearn import linear_model\n",
    "from sklearn.linear_model import LinearRegression\n",
    "ols = linear_model.LinearRegression()\n",
    "\n",
    "#import the data\n",
    "train = pd.read_csv('train.csv')\n",
    "test = pd.read_csv('test.csv')\n",
    "cleanedtrain = pd.read_csv('cleanedtrain.csv')\n",
    "ctd = cleanedtrain"
   ]
  },
  {
   "cell_type": "code",
   "execution_count": 334,
   "metadata": {},
   "outputs": [],
   "source": [
    "#listing categorical values so we can create dummy columns\n",
    "dl = []\n",
    "for i in ctd:\n",
    "    if ctd[i].dtype == 'O':\n",
    "        dl.append(i)"
   ]
  },
  {
   "cell_type": "code",
   "execution_count": 335,
   "metadata": {},
   "outputs": [],
   "source": [
    "ctd['GarageYrBlt'] #<- to be imputed\n",
    "ctd['GarageYrBlt'] = pd.to_numeric(ctd['GarageYrBlt'], \\\n",
    "                                                   errors='coerce').fillna(0, downcast='infer')"
   ]
  },
  {
   "cell_type": "code",
   "execution_count": 336,
   "metadata": {},
   "outputs": [],
   "source": [
    "#Creating Dummy variables, and dropping first instances\n",
    "cleantraindum = pd.get_dummies(ctd, columns = ['MSZoning', 'Street','LotShape','LandContour','Utilities', \\\n",
    "                          'LotConfig', 'LandSlope', 'Neighborhood', 'Condition1', 'Condition2', \\\n",
    "                          'BldgType', 'HouseStyle', 'RoofStyle', 'RoofMatl', 'Exterior1st', \\\n",
    "                          'Exterior2nd', 'MasVnrType', 'ExterQual', 'ExterCond', 'Foundation', \\\n",
    "                          'BsmtQual', 'BsmtCond', 'BsmtExposure', 'BsmtFinType1', 'BsmtFinType2', \\\n",
    "                          'Heating', 'HeatingQC', 'CentralAir', 'Electrical', 'KitchenQual', \\\n",
    "                          'Functional', 'FireplaceQu', 'GarageType', 'GarageFinish', 'GarageQual', \\\n",
    "                          'GarageCond', 'PavedDrive', 'SaleType', 'SaleCondition'],drop_first = True)"
   ]
  },
  {
   "cell_type": "code",
   "execution_count": 337,
   "metadata": {},
   "outputs": [],
   "source": [
    "#removed unnecessary index columns\n",
    "cleantraindum.drop(['level_0','level_1'], inplace=True, axis =1)"
   ]
  },
  {
   "cell_type": "code",
   "execution_count": 338,
   "metadata": {},
   "outputs": [
    {
     "data": {
      "text/plain": [
       "array([[6.000e+01, 6.500e+01, 8.450e+03, ..., 0.000e+00, 1.000e+00,\n",
       "        0.000e+00],\n",
       "       [2.000e+01, 8.000e+01, 9.600e+03, ..., 0.000e+00, 1.000e+00,\n",
       "        0.000e+00],\n",
       "       [6.000e+01, 6.800e+01, 1.125e+04, ..., 0.000e+00, 1.000e+00,\n",
       "        0.000e+00],\n",
       "       ...,\n",
       "       [7.000e+01, 6.600e+01, 9.042e+03, ..., 0.000e+00, 1.000e+00,\n",
       "        0.000e+00],\n",
       "       [2.000e+01, 6.800e+01, 9.717e+03, ..., 0.000e+00, 1.000e+00,\n",
       "        0.000e+00],\n",
       "       [2.000e+01, 7.500e+01, 9.937e+03, ..., 0.000e+00, 1.000e+00,\n",
       "        0.000e+00]])"
      ]
     },
     "execution_count": 338,
     "metadata": {},
     "output_type": "execute_result"
    }
   ],
   "source": [
    "#Create DataFrame with all the independant variables and betas\n",
    "temp_df = cleantraindum.drop(['SalePrice'], axis=1)\n",
    "#appending to an empty list, creating into an array then transposing\n",
    "ll = []\n",
    "for column in temp_df:\n",
    "    ll.append(list(temp_df[column]))\n",
    "lla = np.array(ll[1:])\n",
    "x_m = lla.T\n",
    "y_m = list(cleantraindum['SalePrice'])\n",
    "x_m"
   ]
  },
  {
   "cell_type": "code",
   "execution_count": 339,
   "metadata": {},
   "outputs": [
    {
     "name": "stdout",
     "output_type": "stream",
     "text": [
      "betas: [-3.03450000e+01  6.83500000e+00  7.52000000e-01  6.62973500e+03\n",
      "  5.71777700e+03  3.25670000e+02  9.68790000e+01  1.94010000e+01\n",
      "  9.77600000e+00  1.28000000e+00 -8.62300000e+00  2.43300000e+00\n",
      "  2.49900000e+00  2.17070000e+01 -6.41900000e+00  1.77870000e+01\n",
      " -6.18467000e+02 -1.01135000e+03  2.23360700e+03  4.74336000e+02\n",
      " -3.36325400e+03 -1.30529440e+04  1.12973400e+03  6.29849700e+03\n",
      " -3.06730000e+01  4.12838000e+03  1.87730000e+01  3.06000000e-01\n",
      " -1.13500000e+01 -8.77300000e+00  1.96540000e+01  1.41330000e+01\n",
      "  8.44600000e+01  3.00000000e-03 -4.43836000e+02 -4.56549000e+02\n",
      "  2.66390000e+01  1.34663200e+03  1.39700000e+01 -1.37971300e+03\n",
      "  3.31511870e+04  2.43372070e+04  2.63082410e+04  2.31650490e+04\n",
      "  3.21941860e+04  3.77942600e+03  6.03629100e+03  1.58771400e+03\n",
      "  7.64920500e+03 -1.14221500e+04  5.33623600e+03 -2.88650560e+04\n",
      "  8.17962600e+03 -8.01679800e+03 -1.61316910e+04 -1.63316500e+03\n",
      "  7.57347700e+03 -4.42359510e+04 -1.77071400e+03 -1.83027500e+03\n",
      " -5.03356900e+03 -1.52805090e+04 -1.03759520e+04  1.11056200e+04\n",
      " -2.08750020e+04 -1.07015660e+04 -1.11879340e+04 -7.37899100e+03\n",
      " -2.27773910e+04 -1.64822410e+04  1.42737780e+04 -1.80792390e+04\n",
      "  2.56035210e+04  1.78134640e+04 -1.47643880e+04 -8.98363900e+03\n",
      " -1.06205240e+04 -4.10852100e+03 -2.00644800e+03  3.77828420e+04\n",
      " -1.08671560e+04  1.04844600e+03  5.65486500e+03  1.48059010e+04\n",
      "  8.56572900e+03  1.31312760e+04 -1.67277260e+04  7.98234200e+03\n",
      " -3.71914500e+03  6.29815600e+03 -2.69604900e+03 -4.35197000e+03\n",
      "  4.22842150e+04 -2.35814056e+05 -1.25814176e+05 -1.63285700e+04\n",
      "  3.05476200e+03 -5.31765600e+03 -9.46525500e+03 -2.11964830e+04\n",
      " -1.72946710e+04  1.17738690e+04  7.42695200e+03 -2.29720060e+04\n",
      " -9.16755600e+03 -5.91711800e+03  1.45826100e+03  2.99812700e+03\n",
      "  5.80606000e+03  8.89642100e+03  5.73480600e+03  1.84504510e+04\n",
      "  1.00425451e+05  6.75271256e+05  7.67864174e+05  7.39800767e+05\n",
      "  6.63791012e+05  6.80471511e+05  6.66557026e+05  7.27195705e+05\n",
      " -2.65495620e+04 -1.16048920e+04  4.04047100e+03 -8.75816800e+03\n",
      " -1.53942730e+04 -1.65519940e+04 -4.57419550e+04 -8.48764600e+03\n",
      " -1.83521290e+04 -5.42990500e+03 -9.13252700e+03 -1.76007050e+04\n",
      " -1.67105960e+04 -1.29584070e+04  1.20223990e+04  7.71781200e+03\n",
      "  6.13963500e+03 -8.75816800e+03  1.47962170e+04  1.10953490e+04\n",
      "  2.91373780e+04  7.39842200e+03 -1.34401190e+04  9.29534800e+03\n",
      " -1.02849410e+04  9.09220000e+03  1.58123390e+04  1.36091960e+04\n",
      "  7.93682000e+03  6.13268700e+03  9.42764400e+03  1.13313620e+04\n",
      " -6.79378400e+03 -1.99685840e+04 -2.06112120e+04 -3.35702700e+03\n",
      " -7.41700600e+03  3.29490800e+03 -4.76500200e+03  2.94608200e+03\n",
      "  3.83563500e+03 -8.85411500e+03  7.38551600e+03 -2.86704070e+04\n",
      " -1.34048430e+04 -1.90250220e+04  9.80054900e+03 -1.60457350e+04\n",
      " -3.96951000e+02  9.80054900e+03  7.34395860e+04  3.08991700e+03\n",
      "  1.30539230e+04 -4.37046700e+03 -5.81253600e+03  2.01115700e+03\n",
      "  5.69485300e+03 -3.68534600e+03  9.80054900e+03 -4.05978000e+02\n",
      "  1.37971300e+03 -1.30067930e+04 -2.92089800e+03 -1.52194850e+04\n",
      " -2.80877110e+04 -1.03923600e+04 -9.00165600e+03  1.09052480e+04\n",
      "  7.24250900e+03  4.73064900e+03 -1.17031360e+04  2.56483420e+04\n",
      "  4.30394000e+02 -3.62759800e+03  3.18213900e+03 -3.57809600e+03\n",
      "  2.82836000e+02 -1.45027850e+04 -1.46992250e+04 -2.37416190e+04\n",
      " -6.48320730e+04 -1.57513620e+04 -1.89044020e+04 -2.43164210e+04\n",
      " -2.21657010e+04 -7.31667000e+02  9.26482300e+03  1.14216400e+04\n",
      " -6.03750000e+02 -4.59778780e+04  2.07509300e+04 -2.16827500e+03\n",
      "  2.09563600e+03  8.13247700e+03  8.79210300e+03  3.23660000e+03\n",
      "  2.04833810e+04  2.36297130e+04  1.96959090e+04  2.69152410e+04\n",
      "  2.34405940e+04 -8.98500900e+03 -8.98500900e+03 -2.70782100e+03\n",
      " -4.56300000e+01 -1.17028285e+05 -1.09102977e+05 -8.98500900e+03\n",
      " -1.32043288e+05 -1.11052965e+05  1.04221985e+05  1.03750698e+05\n",
      " -8.98500900e+03  1.09325281e+05  1.05730495e+05 -2.49225800e+03\n",
      "  1.68680000e+01  1.57708680e+04  2.62523040e+04  1.70703600e+04\n",
      "  4.41795300e+03  8.57534000e+02  2.33306470e+04  8.04582500e+03\n",
      "  1.17990000e+02  7.07971900e+03  5.08982600e+03 -6.00714000e+02\n",
      "  5.50836400e+03 -2.88260500e+03]\n",
      "beta_0: -598981.559\n",
      "RSS: 633027477269.51\n",
      "R^2: 0.93125\n"
     ]
    }
   ],
   "source": [
    "ols.fit(x_m, y_m)\n",
    "print(\"betas: \" + str(np.round(ols.coef_, 3)))\n",
    "print(\"beta_0: \" + str(np.round(ols.intercept_, 3)))\n",
    "print(\"RSS: %.2f\" % np.sum((ols.predict(x_m) - y_m) ** 2))\n",
    "print(\"R^2: %.5f\" % ols.score(x_m, y_m))"
   ]
  },
  {
   "cell_type": "code",
   "execution_count": 340,
   "metadata": {},
   "outputs": [
    {
     "data": {
      "text/plain": [
       "(array([  1.,   2.,   1.,  35., 671., 717.,  22.,   4.,   6.,   1.]),\n",
       " array([-1.79718478e+05, -1.43774782e+05, -1.07831087e+05, -7.18873911e+04,\n",
       "        -3.59436955e+04,  6.51925802e-08,  3.59436955e+04,  7.18873911e+04,\n",
       "         1.07831087e+05,  1.43774782e+05,  1.79718478e+05]),\n",
       " <a list of 10 Patch objects>)"
      ]
     },
     "execution_count": 340,
     "metadata": {},
     "output_type": "execute_result"
    },
    {
     "data": {
      "image/png": "[encoded data removed]",
      "text/plain": [
       "<Figure size 432x288 with 1 Axes>"
      ]
     },
     "metadata": {
      "needs_background": "light"
     },
     "output_type": "display_data"
    }
   ],
   "source": [
    "temp = temp_df.iloc[:,1:]\n",
    "features = temp.copy()\n",
    "price   = cleantraindum['SalePrice']\n",
    "\n",
    "lm = LinearRegression()\n",
    "lm.fit(features, price)\n",
    "residuals = price - lm.predict(features)\n",
    "plt.hist(residuals)"
   ]
  },
  {
   "cell_type": "code",
   "execution_count": 341,
   "metadata": {},
   "outputs": [
    {
     "name": "stdout",
     "output_type": "stream",
     "text": [
      "R^2 is equal to 0.931\n",
      "RSS is equal to 633027477269.511\n",
      "The intercept is -598981.559\n",
      "The slopes are [-3.03454966e+01  6.83476725e+00  7.51755257e-01  6.62973506e+03\n",
      "  5.71777734e+03  3.25669699e+02  9.68785145e+01  1.94008331e+01\n",
      "  9.77621551e+00  1.28015201e+00 -8.62345443e+00  2.43304016e+00\n",
      "  2.49885569e+00  2.17068551e+01 -6.41874563e+00  1.77871758e+01\n",
      " -6.18467139e+02 -1.01135023e+03  2.23360679e+03  4.74335524e+02\n",
      " -3.36325406e+03 -1.30529435e+04  1.12973366e+03  6.29849672e+03\n",
      " -3.06726598e+01  4.12838014e+03  1.87730003e+01  3.06340658e-01\n",
      " -1.13500520e+01 -8.77304861e+00  1.96541598e+01  1.41330006e+01\n",
      "  8.44599137e+01  3.03429114e-03 -4.43836292e+02 -4.56548879e+02\n",
      "  2.66392163e+01  1.34663228e+03  1.39703600e+01 -1.37971315e+03\n",
      "  3.31511873e+04  2.43372070e+04  2.63082406e+04  2.31650493e+04\n",
      "  3.21941858e+04  3.77942616e+03  6.03629126e+03  1.58771374e+03\n",
      "  7.64920455e+03 -1.14221500e+04  5.33623636e+03 -2.88650556e+04\n",
      "  8.17962649e+03 -8.01679833e+03 -1.61316905e+04 -1.63316456e+03\n",
      "  7.57347680e+03 -4.42359511e+04 -1.77071446e+03 -1.83027466e+03\n",
      " -5.03356937e+03 -1.52805093e+04 -1.03759519e+04  1.11056202e+04\n",
      " -2.08750018e+04 -1.07015663e+04 -1.11879342e+04 -7.37899060e+03\n",
      " -2.27773910e+04 -1.64822413e+04  1.42737777e+04 -1.80792392e+04\n",
      "  2.56035212e+04  1.78134643e+04 -1.47643883e+04 -8.98363908e+03\n",
      " -1.06205241e+04 -4.10852111e+03 -2.00644807e+03  3.77828421e+04\n",
      " -1.08671562e+04  1.04844641e+03  5.65486524e+03  1.48059012e+04\n",
      "  8.56572906e+03  1.31312757e+04 -1.67277263e+04  7.98234209e+03\n",
      " -3.71914465e+03  6.29815591e+03 -2.69604947e+03 -4.35196995e+03\n",
      "  4.22842146e+04 -2.35814056e+05 -1.25814176e+05 -1.63285701e+04\n",
      "  3.05476217e+03 -5.31765556e+03 -9.46525473e+03 -2.11964833e+04\n",
      " -1.72946708e+04  1.17738685e+04  7.42695189e+03 -2.29720057e+04\n",
      " -9.16755605e+03 -5.91711759e+03  1.45826143e+03  2.99812737e+03\n",
      "  5.80605997e+03  8.89642069e+03  5.73480583e+03  1.84504514e+04\n",
      "  1.00425451e+05  6.75271256e+05  7.67864174e+05  7.39800767e+05\n",
      "  6.63791012e+05  6.80471511e+05  6.66557026e+05  7.27195705e+05\n",
      " -2.65495620e+04 -1.16048921e+04  4.04047072e+03 -8.75816838e+03\n",
      " -1.53942731e+04 -1.65519943e+04 -4.57419555e+04 -8.48764578e+03\n",
      " -1.83521292e+04 -5.42990537e+03 -9.13252676e+03 -1.76007045e+04\n",
      " -1.67105960e+04 -1.29584067e+04  1.20223990e+04  7.71781177e+03\n",
      "  6.13963493e+03 -8.75816838e+03  1.47962171e+04  1.10953485e+04\n",
      "  2.91373776e+04  7.39842209e+03 -1.34401188e+04  9.29534824e+03\n",
      " -1.02849415e+04  9.09219958e+03  1.58123393e+04  1.36091965e+04\n",
      "  7.93682009e+03  6.13268687e+03  9.42764416e+03  1.13313616e+04\n",
      " -6.79378411e+03 -1.99685837e+04 -2.06112117e+04 -3.35702721e+03\n",
      " -7.41700564e+03  3.29490808e+03 -4.76500196e+03  2.94608196e+03\n",
      "  3.83563474e+03 -8.85411517e+03  7.38551588e+03 -2.86704067e+04\n",
      " -1.34048433e+04 -1.90250221e+04  9.80054944e+03 -1.60457346e+04\n",
      " -3.96951462e+02  9.80054944e+03  7.34395860e+04  3.08991663e+03\n",
      "  1.30539233e+04 -4.37046720e+03 -5.81253642e+03  2.01115678e+03\n",
      "  5.69485291e+03 -3.68534574e+03  9.80054944e+03 -4.05977652e+02\n",
      "  1.37971315e+03 -1.30067928e+04 -2.92089821e+03 -1.52194855e+04\n",
      " -2.80877105e+04 -1.03923603e+04 -9.00165570e+03  1.09052483e+04\n",
      "  7.24250864e+03  4.73064883e+03 -1.17031363e+04  2.56483415e+04\n",
      "  4.30394026e+02 -3.62759837e+03  3.18213852e+03 -3.57809588e+03\n",
      "  2.82835965e+02 -1.45027850e+04 -1.46992247e+04 -2.37416195e+04\n",
      " -6.48320726e+04 -1.57513623e+04 -1.89044024e+04 -2.43164207e+04\n",
      " -2.21657011e+04 -7.31667244e+02  9.26482339e+03  1.14216396e+04\n",
      " -6.03749928e+02 -4.59778780e+04  2.07509300e+04 -2.16827509e+03\n",
      "  2.09563592e+03  8.13247665e+03  8.79210255e+03  3.23659995e+03\n",
      "  2.04833812e+04  2.36297128e+04  1.96959087e+04  2.69152406e+04\n",
      "  2.34405939e+04 -8.98500909e+03 -8.98500909e+03 -2.70782093e+03\n",
      " -4.56301993e+01 -1.17028285e+05 -1.09102977e+05 -8.98500909e+03\n",
      " -1.32043288e+05 -1.11052965e+05  1.04221985e+05  1.03750698e+05\n",
      " -8.98500909e+03  1.09325281e+05  1.05730495e+05 -2.49225809e+03\n",
      "  1.68679668e+01  1.57708681e+04  2.62523045e+04  1.70703601e+04\n",
      "  4.41795302e+03  8.57534001e+02  2.33306470e+04  8.04582539e+03\n",
      "  1.17990189e+02  7.07971904e+03  5.08982647e+03 -6.00714060e+02\n",
      "  5.50836427e+03 -2.88260521e+03]\n"
     ]
    }
   ],
   "source": [
    "print('R^2 is equal to %.3f' %(lm.score(features, price)))\n",
    "print('RSS is equal to %.3f' %(np.sum((price-lm.predict(features))**2)))\n",
    "print('The intercept is %.3f' %(lm.intercept_))\n",
    "print('The slopes are %s' %(lm.coef_))"
   ]
  },
  {
   "cell_type": "code",
   "execution_count": 342,
   "metadata": {},
   "outputs": [
    {
     "name": "stdout",
     "output_type": "stream",
     "text": [
      "negative slope column names Index(['MSSubClass', 'BsmtUnfSF', 'LowQualFinSF', 'BsmtFullBath',\n",
      "       'BsmtHalfBath', 'BedroomAbvGr', 'KitchenAbvGr', 'GarageYrBlt',\n",
      "       'OpenPorchSF', 'EnclosedPorch',\n",
      "       ...\n",
      "       'GarageFinish_Unf', 'GarageQual_Fa', 'GarageQual_Gd', 'GarageQual_No',\n",
      "       'GarageQual_Po', 'GarageQual_TA', 'GarageCond_No', 'PavedDrive_P',\n",
      "       'SaleCondition_Family', 'SaleCondition_Partial'],\n",
      "      dtype='object', length=117)\n",
      "positive slope column names Index(['LotFrontage', 'LotArea', 'OverallQual', 'OverallCond', 'YearBuilt',\n",
      "       'YearRemodAdd', 'MasVnrArea', 'BsmtFinSF1', 'BsmtFinSF2', 'TotalBsmtSF',\n",
      "       ...\n",
      "       'SaleType_Con', 'SaleType_ConLD', 'SaleType_ConLI', 'SaleType_ConLw',\n",
      "       'SaleType_New', 'SaleType_Oth', 'SaleType_WD', 'SaleCondition_AdjLand',\n",
      "       'SaleCondition_Alloca', 'SaleCondition_Normal'],\n",
      "      dtype='object', length=133)\n"
     ]
    }
   ],
   "source": [
    "print('negative slope column names %s' %(features.columns[lm.coef_<0]))\n",
    "print('positive slope column names %s' %(features.columns[lm.coef_>0]))"
   ]
  },
  {
   "cell_type": "code",
   "execution_count": null,
   "metadata": {},
   "outputs": [],
   "source": [
    "#TO BE CONTINUED, hold on..."
   ]
  }
 ],
 "metadata": {
  "kernelspec": {
   "display_name": "Python 3",
   "language": "python",
   "name": "python3"
  },
  "language_info": {
   "codemirror_mode": {
    "name": "ipython",
    "version": 3
   },
   "file_extension": ".py",
   "mimetype": "text/x-python",
   "name": "python",
   "nbconvert_exporter": "python",
   "pygments_lexer": "ipython3",
   "version": "3.7.3"
  }
 },
 "nbformat": 4,
 "nbformat_minor": 2
}
