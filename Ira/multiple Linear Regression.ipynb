{
 "cells": [
  {
   "cell_type": "code",
   "execution_count": 1,
   "metadata": {},
   "outputs": [],
   "source": [
    "##IMPORT\n",
    "#import the packages\n",
    "import pandas as pd\n",
    "import matplotlib.pyplot as plt\n",
    "import seaborn as sns\n",
    "import numpy as np\n",
    "from scipy import stats\n",
    "from sklearn.preprocessing import StandardScaler\n",
    "from sklearn import linear_model\n",
    "from sklearn.linear_model import LinearRegression\n",
    "import itertools\n",
    "from sklearn.model_selection import KFold\n",
    "from sklearn.preprocessing import MinMaxScaler\n",
    "from sklearn.svm import SVR\n",
    "ols = linear_model.LinearRegression()\n",
    "import random\n",
    "\n",
    "#import the data\n",
    "train = pd.read_csv('train.csv')\n",
    "test = pd.read_csv('test.csv')\n",
    "cleanedtrain = pd.read_csv('cleanedtrain.csv')\n",
    "cleanedtrainylog = pd.read_csv('cleanedtrainwithYlog.csv')\n",
    "ctd = cleanedtrain"
   ]
  },
  {
   "cell_type": "code",
   "execution_count": 6,
   "metadata": {},
   "outputs": [],
   "source": [
    "#Create DataFrame with all the independant variables and betas\n",
    "temp_df = cleanedtrainylog.drop(['ylogSalePrice'], axis=1)\n",
    "# temp_df = temp_df.astype(int)\n",
    "#appending to an empty list, creating into an array then transposing\n",
    "ll = []\n",
    "for column in temp_df:\n",
    "    ll.append(list(temp_df[column]))\n",
    "lla = np.array(ll[1:])\n",
    "x_m = lla.T\n",
    "y_m = list(cleanedtrainylog['ylogSalePrice'])"
   ]
  },
  {
   "cell_type": "code",
   "execution_count": 7,
   "metadata": {},
   "outputs": [
    {
     "data": {
      "text/plain": [
       "(array([  4.,   7.,  17.,  55., 229., 587., 455.,  85.,  15.,   2.]),\n",
       " array([-0.96297875, -0.79316505, -0.62335135, -0.45353764, -0.28372394,\n",
       "        -0.11391023,  0.05590347,  0.22571718,  0.39553088,  0.56534458,\n",
       "         0.73515829]),\n",
       " <a list of 10 Patch objects>)"
      ]
     },
     "execution_count": 7,
     "metadata": {},
     "output_type": "execute_result"
    },
    {
     "data": {
      "image/png": "[encoded data removed]",
      "text/plain": [
       "<Figure size 432x288 with 1 Axes>"
      ]
     },
     "metadata": {
      "needs_background": "light"
     },
     "output_type": "display_data"
    }
   ],
   "source": [
    "#Creating variables for the model.\n",
    "tempfull = temp_df.iloc[:,1:]\n",
    "temp = temp_df.loc[:,['MSSubClass', 'OverallQual', 'TotalSF']]\n",
    "featuresfull = tempfull.copy()\n",
    "features = temp.copy()\n",
    "price   = cleanedtrainylog['ylogSalePrice']\n",
    "\n",
    "#LM and basic histogram to check normality and distribution\n",
    "lm = LinearRegression()\n",
    "lm.fit(features, price)\n",
    "residuals = price - lm.predict(features)\n",
    "plt.hist(residuals)"
   ]
  },
  {
   "cell_type": "code",
   "execution_count": 8,
   "metadata": {},
   "outputs": [
    {
     "name": "stdout",
     "output_type": "stream",
     "text": [
      "R^2 is equal to 0.795\n",
      "RSS is equal to 46.757\n",
      "The intercept is 6.626\n",
      "The slopes are [-0.01559748  0.71190853  0.20060235]\n"
     ]
    }
   ],
   "source": [
    "#Checking scores and betas\n",
    "print('R^2 is equal to %.3f' %(lm.score(features, price)))\n",
    "print('RSS is equal to %.3f' %(np.sum((price-lm.predict(features))**2)))\n",
    "print('The intercept is %.3f' %(lm.intercept_))\n",
    "print('The slopes are %s' %(lm.coef_))"
   ]
  },
  {
   "cell_type": "code",
   "execution_count": 9,
   "metadata": {},
   "outputs": [
    {
     "name": "stdout",
     "output_type": "stream",
     "text": [
      "negative slope column names Index(['MSSubClass'], dtype='object')\n",
      "positive slope column names Index(['OverallQual', 'TotalSF'], dtype='object')\n"
     ]
    }
   ],
   "source": [
    "#positive and negative slopes if ever\n",
    "print('negative slope column names %s' %(features.columns[lm.coef_<0]))\n",
    "print('positive slope column names %s' %(features.columns[lm.coef_>0]))"
   ]
  },
  {
   "cell_type": "code",
   "execution_count": 10,
   "metadata": {},
   "outputs": [
    {
     "name": "stdout",
     "output_type": "stream",
     "text": [
      "Working...0.\n",
      "Working...1.\n",
      "Working...2.\n",
      "Working...3.\n",
      "Working...4.\n",
      "Working...5.\n",
      "Working...6.\n",
      "Working...7.\n",
      "Working...8.\n"
     ]
    },
    {
     "ename": "KeyboardInterrupt",
     "evalue": "",
     "output_type": "error",
     "traceback": [
      "\u001b[0;31m---------------------------------------------------------------------------\u001b[0m",
      "\u001b[0;31mKeyboardInterrupt\u001b[0m                         Traceback (most recent call last)",
      "\u001b[0;32m<ipython-input-10-2c0649e38f14>\u001b[0m in \u001b[0;36m<module>\u001b[0;34m\u001b[0m\n\u001b[1;32m      4\u001b[0m \u001b[0;31m#add the R^2 to dictionary as a key and the combo as the value for each 3 combo\u001b[0m\u001b[0;34m\u001b[0m\u001b[0;34m\u001b[0m\u001b[0;34m\u001b[0m\u001b[0m\n\u001b[1;32m      5\u001b[0m \u001b[0;32mfor\u001b[0m \u001b[0mi\u001b[0m \u001b[0;32min\u001b[0m \u001b[0mrange\u001b[0m\u001b[0;34m(\u001b[0m\u001b[0;36m0\u001b[0m\u001b[0;34m,\u001b[0m\u001b[0;36m1000\u001b[0m\u001b[0;34m)\u001b[0m\u001b[0;34m:\u001b[0m\u001b[0;34m\u001b[0m\u001b[0;34m\u001b[0m\u001b[0m\n\u001b[0;32m----> 6\u001b[0;31m     \u001b[0mcombo\u001b[0m \u001b[0;34m=\u001b[0m \u001b[0mlist\u001b[0m\u001b[0;34m(\u001b[0m\u001b[0mitertools\u001b[0m\u001b[0;34m.\u001b[0m\u001b[0mcombinations\u001b[0m\u001b[0;34m(\u001b[0m\u001b[0mfeaturesfull\u001b[0m\u001b[0;34m.\u001b[0m\u001b[0mcolumns\u001b[0m\u001b[0;34m,\u001b[0m\u001b[0;36m3\u001b[0m\u001b[0;34m)\u001b[0m\u001b[0;34m)\u001b[0m\u001b[0;34m[\u001b[0m\u001b[0mi\u001b[0m\u001b[0;34m]\u001b[0m\u001b[0;34m\u001b[0m\u001b[0;34m\u001b[0m\u001b[0m\n\u001b[0m\u001b[1;32m      7\u001b[0m \u001b[0;31m#     combo = list(randomcombination(featuresfull.columns,3))[i]\u001b[0m\u001b[0;34m\u001b[0m\u001b[0;34m\u001b[0m\u001b[0;34m\u001b[0m\u001b[0m\n\u001b[1;32m      8\u001b[0m     \u001b[0mcombo_list\u001b[0m \u001b[0;34m=\u001b[0m \u001b[0mlist\u001b[0m\u001b[0;34m(\u001b[0m\u001b[0mcombo\u001b[0m\u001b[0;34m)\u001b[0m\u001b[0;34m\u001b[0m\u001b[0;34m\u001b[0m\u001b[0m\n",
      "\u001b[0;31mKeyboardInterrupt\u001b[0m: "
     ]
    }
   ],
   "source": [
    "#initialize a dictionary, Thanks mikolaj!\n",
    "scores = {}\n",
    "#loop through each 3 column combination of the dataframe and fit a linear model with each combo\n",
    "#add the R^2 to dictionary as a key and the combo as the value for each 3 combo\n",
    "for i in range(0,1000):\n",
    "    combo = list(itertools.combinations(featuresfull.columns,3))[i]\n",
    "#     combo = list(randomcombination(featuresfull.columns,3))[i]\n",
    "    combo_list = list(combo)\n",
    "    lm.fit(featuresfull[combo_list],price)\n",
    "    scores[lm.score(featuresfull[combo_list],price)] = combo_list\n",
    "    print ('Working...{}.'.format(i))"
   ]
  },
  {
   "cell_type": "code",
   "execution_count": null,
   "metadata": {},
   "outputs": [],
   "source": [
    "# sorted(scores.items(), key=lambda t:t[1], reverse=True)[:10]\n",
    "for key in sorted(scores):\n",
    "   print(key, scores[key])"
   ]
  },
  {
   "cell_type": "code",
   "execution_count": 11,
   "metadata": {},
   "outputs": [
    {
     "name": "stdout",
     "output_type": "stream",
     "text": [
      "                            OLS Regression Results                            \n",
      "==============================================================================\n",
      "Dep. Variable:          ylogSalePrice   R-squared:                       0.795\n",
      "Model:                            OLS   Adj. R-squared:                  0.795\n",
      "Method:                 Least Squares   F-statistic:                     1879.\n",
      "Date:                Mon, 11 Nov 2019   Prob (F-statistic):               0.00\n",
      "Time:                        13:32:47   Log-Likelihood:                 437.24\n",
      "No. Observations:                1456   AIC:                            -866.5\n",
      "Df Residuals:                    1452   BIC:                            -845.3\n",
      "Df Model:                           3                                         \n",
      "Covariance Type:            nonrobust                                         \n",
      "===============================================================================\n",
      "                  coef    std err          t      P>|t|      [0.025      0.975]\n",
      "-------------------------------------------------------------------------------\n",
      "const           6.6255      0.081     82.044      0.000       6.467       6.784\n",
      "MSSubClass     -0.0156      0.004     -4.075      0.000      -0.023      -0.008\n",
      "OverallQual     0.7119      0.024     29.610      0.000       0.665       0.759\n",
      "TotalSF         0.2006      0.007     30.789      0.000       0.188       0.213\n",
      "==============================================================================\n",
      "Omnibus:                      223.658   Durbin-Watson:                   1.975\n",
      "Prob(Omnibus):                  0.000   Jarque-Bera (JB):              658.946\n",
      "Skew:                          -0.785   Prob(JB):                    8.16e-144\n",
      "Kurtosis:                       5.898   Cond. No.                         299.\n",
      "==============================================================================\n",
      "\n",
      "Warnings:\n",
      "[1] Standard Errors assume that the covariance matrix of the errors is correctly specified.\n"
     ]
    },
    {
     "name": "stderr",
     "output_type": "stream",
     "text": [
      "/anaconda3/lib/python3.7/site-packages/numpy/core/fromnumeric.py:2495: FutureWarning: Method .ptp is deprecated and will be removed in a future version. Use numpy.ptp instead.\n",
      "  return ptp(axis=axis, out=out, **kwargs)\n"
     ]
    }
   ],
   "source": [
    "#Statsmodel package from the HW\n",
    "import statsmodels.api as sm\n",
    "x = sm.add_constant(features)\n",
    "model = sm.OLS(price, x)\n",
    "results = model.fit()\n",
    "print(results.summary())"
   ]
  },
  {
   "cell_type": "code",
   "execution_count": 12,
   "metadata": {},
   "outputs": [
    {
     "name": "stdout",
     "output_type": "stream",
     "text": [
      "The significant coefficients\n"
     ]
    },
    {
     "data": {
      "text/plain": [
       "const           0.000000e+00\n",
       "MSSubClass      4.845143e-05\n",
       "OverallQual    3.866913e-151\n",
       "TotalSF        1.217598e-160\n",
       "dtype: float64"
      ]
     },
     "execution_count": 12,
     "metadata": {},
     "output_type": "execute_result"
    }
   ],
   "source": [
    "pValues = results.pvalues\n",
    "print('The significant coefficients')\n",
    "pValues[pValues<0.05]"
   ]
  },
  {
   "cell_type": "code",
   "execution_count": 13,
   "metadata": {},
   "outputs": [
    {
     "name": "stdout",
     "output_type": "stream",
     "text": [
      "The insignificant coefficients\n"
     ]
    },
    {
     "data": {
      "text/plain": [
       "Series([], dtype: float64)"
      ]
     },
     "execution_count": 13,
     "metadata": {},
     "output_type": "execute_result"
    }
   ],
   "source": [
    "print('The insignificant coefficients')\n",
    "pValues[pValues>=0.05]"
   ]
  },
  {
   "cell_type": "code",
   "execution_count": 14,
   "metadata": {},
   "outputs": [],
   "source": [
    "#Scaling data for cross validation\n",
    "scaler = MinMaxScaler(feature_range=(0, 1))\n",
    "tempx = scaler.fit_transform(temp)"
   ]
  },
  {
   "cell_type": "code",
   "execution_count": 15,
   "metadata": {},
   "outputs": [
    {
     "name": "stdout",
     "output_type": "stream",
     "text": [
      "Train Index:  [ 146  147  148 ... 1453 1454 1455] \n",
      "\n",
      "Test Index:  [  0   1   2   3   4   5   6   7   8   9  10  11  12  13  14  15  16  17\n",
      "  18  19  20  21  22  23  24  25  26  27  28  29  30  31  32  33  34  35\n",
      "  36  37  38  39  40  41  42  43  44  45  46  47  48  49  50  51  52  53\n",
      "  54  55  56  57  58  59  60  61  62  63  64  65  66  67  68  69  70  71\n",
      "  72  73  74  75  76  77  78  79  80  81  82  83  84  85  86  87  88  89\n",
      "  90  91  92  93  94  95  96  97  98  99 100 101 102 103 104 105 106 107\n",
      " 108 109 110 111 112 113 114 115 116 117 118 119 120 121 122 123 124 125\n",
      " 126 127 128 129 130 131 132 133 134 135 136 137 138 139 140 141 142 143\n",
      " 144 145]\n",
      "Train Index:  [   0    1    2 ... 1453 1454 1455] \n",
      "\n",
      "Test Index:  [146 147 148 149 150 151 152 153 154 155 156 157 158 159 160 161 162 163\n",
      " 164 165 166 167 168 169 170 171 172 173 174 175 176 177 178 179 180 181\n",
      " 182 183 184 185 186 187 188 189 190 191 192 193 194 195 196 197 198 199\n",
      " 200 201 202 203 204 205 206 207 208 209 210 211 212 213 214 215 216 217\n",
      " 218 219 220 221 222 223 224 225 226 227 228 229 230 231 232 233 234 235\n",
      " 236 237 238 239 240 241 242 243 244 245 246 247 248 249 250 251 252 253\n",
      " 254 255 256 257 258 259 260 261 262 263 264 265 266 267 268 269 270 271\n",
      " 272 273 274 275 276 277 278 279 280 281 282 283 284 285 286 287 288 289\n",
      " 290 291]\n",
      "Train Index:  [   0    1    2 ... 1453 1454 1455] \n",
      "\n",
      "Test Index:  [292 293 294 295 296 297 298 299 300 301 302 303 304 305 306 307 308 309\n",
      " 310 311 312 313 314 315 316 317 318 319 320 321 322 323 324 325 326 327\n",
      " 328 329 330 331 332 333 334 335 336 337 338 339 340 341 342 343 344 345\n",
      " 346 347 348 349 350 351 352 353 354 355 356 357 358 359 360 361 362 363\n",
      " 364 365 366 367 368 369 370 371 372 373 374 375 376 377 378 379 380 381\n",
      " 382 383 384 385 386 387 388 389 390 391 392 393 394 395 396 397 398 399\n",
      " 400 401 402 403 404 405 406 407 408 409 410 411 412 413 414 415 416 417\n",
      " 418 419 420 421 422 423 424 425 426 427 428 429 430 431 432 433 434 435\n",
      " 436 437]\n",
      "Train Index:  [   0    1    2 ... 1453 1454 1455] \n",
      "\n",
      "Test Index:  [438 439 440 441 442 443 444 445 446 447 448 449 450 451 452 453 454 455\n",
      " 456 457 458 459 460 461 462 463 464 465 466 467 468 469 470 471 472 473\n",
      " 474 475 476 477 478 479 480 481 482 483 484 485 486 487 488 489 490 491\n",
      " 492 493 494 495 496 497 498 499 500 501 502 503 504 505 506 507 508 509\n",
      " 510 511 512 513 514 515 516 517 518 519 520 521 522 523 524 525 526 527\n",
      " 528 529 530 531 532 533 534 535 536 537 538 539 540 541 542 543 544 545\n",
      " 546 547 548 549 550 551 552 553 554 555 556 557 558 559 560 561 562 563\n",
      " 564 565 566 567 568 569 570 571 572 573 574 575 576 577 578 579 580 581\n",
      " 582 583]\n",
      "Train Index:  [   0    1    2 ... 1453 1454 1455] \n",
      "\n",
      "Test Index:  [584 585 586 587 588 589 590 591 592 593 594 595 596 597 598 599 600 601\n",
      " 602 603 604 605 606 607 608 609 610 611 612 613 614 615 616 617 618 619\n",
      " 620 621 622 623 624 625 626 627 628 629 630 631 632 633 634 635 636 637\n",
      " 638 639 640 641 642 643 644 645 646 647 648 649 650 651 652 653 654 655\n",
      " 656 657 658 659 660 661 662 663 664 665 666 667 668 669 670 671 672 673\n",
      " 674 675 676 677 678 679 680 681 682 683 684 685 686 687 688 689 690 691\n",
      " 692 693 694 695 696 697 698 699 700 701 702 703 704 705 706 707 708 709\n",
      " 710 711 712 713 714 715 716 717 718 719 720 721 722 723 724 725 726 727\n",
      " 728 729]\n"
     ]
    },
    {
     "name": "stderr",
     "output_type": "stream",
     "text": [
      "/anaconda3/lib/python3.7/site-packages/sklearn/svm/base.py:196: FutureWarning: The default value of gamma will change from 'auto' to 'scale' in version 0.22 to account better for unscaled features. Set gamma explicitly to 'auto' or 'scale' to avoid this warning.\n",
      "  \"avoid this warning.\", FutureWarning)\n",
      "/anaconda3/lib/python3.7/site-packages/sklearn/svm/base.py:196: FutureWarning: The default value of gamma will change from 'auto' to 'scale' in version 0.22 to account better for unscaled features. Set gamma explicitly to 'auto' or 'scale' to avoid this warning.\n",
      "  \"avoid this warning.\", FutureWarning)\n",
      "/anaconda3/lib/python3.7/site-packages/sklearn/svm/base.py:196: FutureWarning: The default value of gamma will change from 'auto' to 'scale' in version 0.22 to account better for unscaled features. Set gamma explicitly to 'auto' or 'scale' to avoid this warning.\n",
      "  \"avoid this warning.\", FutureWarning)\n",
      "/anaconda3/lib/python3.7/site-packages/sklearn/svm/base.py:196: FutureWarning: The default value of gamma will change from 'auto' to 'scale' in version 0.22 to account better for unscaled features. Set gamma explicitly to 'auto' or 'scale' to avoid this warning.\n",
      "  \"avoid this warning.\", FutureWarning)\n",
      "/anaconda3/lib/python3.7/site-packages/sklearn/svm/base.py:196: FutureWarning: The default value of gamma will change from 'auto' to 'scale' in version 0.22 to account better for unscaled features. Set gamma explicitly to 'auto' or 'scale' to avoid this warning.\n",
      "  \"avoid this warning.\", FutureWarning)\n"
     ]
    },
    {
     "name": "stdout",
     "output_type": "stream",
     "text": [
      "Train Index:  [   0    1    2 ... 1453 1454 1455] \n",
      "\n",
      "Test Index:  [730 731 732 733 734 735 736 737 738 739 740 741 742 743 744 745 746 747\n",
      " 748 749 750 751 752 753 754 755 756 757 758 759 760 761 762 763 764 765\n",
      " 766 767 768 769 770 771 772 773 774 775 776 777 778 779 780 781 782 783\n",
      " 784 785 786 787 788 789 790 791 792 793 794 795 796 797 798 799 800 801\n",
      " 802 803 804 805 806 807 808 809 810 811 812 813 814 815 816 817 818 819\n",
      " 820 821 822 823 824 825 826 827 828 829 830 831 832 833 834 835 836 837\n",
      " 838 839 840 841 842 843 844 845 846 847 848 849 850 851 852 853 854 855\n",
      " 856 857 858 859 860 861 862 863 864 865 866 867 868 869 870 871 872 873\n",
      " 874 875]\n",
      "Train Index:  [   0    1    2 ... 1453 1454 1455] \n",
      "\n",
      "Test Index:  [ 876  877  878  879  880  881  882  883  884  885  886  887  888  889\n",
      "  890  891  892  893  894  895  896  897  898  899  900  901  902  903\n",
      "  904  905  906  907  908  909  910  911  912  913  914  915  916  917\n",
      "  918  919  920  921  922  923  924  925  926  927  928  929  930  931\n",
      "  932  933  934  935  936  937  938  939  940  941  942  943  944  945\n",
      "  946  947  948  949  950  951  952  953  954  955  956  957  958  959\n",
      "  960  961  962  963  964  965  966  967  968  969  970  971  972  973\n",
      "  974  975  976  977  978  979  980  981  982  983  984  985  986  987\n",
      "  988  989  990  991  992  993  994  995  996  997  998  999 1000 1001\n",
      " 1002 1003 1004 1005 1006 1007 1008 1009 1010 1011 1012 1013 1014 1015\n",
      " 1016 1017 1018 1019 1020]\n",
      "Train Index:  [   0    1    2 ... 1453 1454 1455] \n",
      "\n",
      "Test Index:  [1021 1022 1023 1024 1025 1026 1027 1028 1029 1030 1031 1032 1033 1034\n",
      " 1035 1036 1037 1038 1039 1040 1041 1042 1043 1044 1045 1046 1047 1048\n",
      " 1049 1050 1051 1052 1053 1054 1055 1056 1057 1058 1059 1060 1061 1062\n",
      " 1063 1064 1065 1066 1067 1068 1069 1070 1071 1072 1073 1074 1075 1076\n",
      " 1077 1078 1079 1080 1081 1082 1083 1084 1085 1086 1087 1088 1089 1090\n",
      " 1091 1092 1093 1094 1095 1096 1097 1098 1099 1100 1101 1102 1103 1104\n",
      " 1105 1106 1107 1108 1109 1110 1111 1112 1113 1114 1115 1116 1117 1118\n",
      " 1119 1120 1121 1122 1123 1124 1125 1126 1127 1128 1129 1130 1131 1132\n",
      " 1133 1134 1135 1136 1137 1138 1139 1140 1141 1142 1143 1144 1145 1146\n",
      " 1147 1148 1149 1150 1151 1152 1153 1154 1155 1156 1157 1158 1159 1160\n",
      " 1161 1162 1163 1164 1165]\n",
      "Train Index:  [   0    1    2 ... 1453 1454 1455] \n",
      "\n",
      "Test Index:  [1166 1167 1168 1169 1170 1171 1172 1173 1174 1175 1176 1177 1178 1179\n",
      " 1180 1181 1182 1183 1184 1185 1186 1187 1188 1189 1190 1191 1192 1193\n",
      " 1194 1195 1196 1197 1198 1199 1200 1201 1202 1203 1204 1205 1206 1207\n",
      " 1208 1209 1210 1211 1212 1213 1214 1215 1216 1217 1218 1219 1220 1221\n",
      " 1222 1223 1224 1225 1226 1227 1228 1229 1230 1231 1232 1233 1234 1235\n",
      " 1236 1237 1238 1239 1240 1241 1242 1243 1244 1245 1246 1247 1248 1249\n",
      " 1250 1251 1252 1253 1254 1255 1256 1257 1258 1259 1260 1261 1262 1263\n",
      " 1264 1265 1266 1267 1268 1269 1270 1271 1272 1273 1274 1275 1276 1277\n",
      " 1278 1279 1280 1281 1282 1283 1284 1285 1286 1287 1288 1289 1290 1291\n",
      " 1292 1293 1294 1295 1296 1297 1298 1299 1300 1301 1302 1303 1304 1305\n",
      " 1306 1307 1308 1309 1310]\n",
      "Train Index:  [   0    1    2 ... 1308 1309 1310] \n",
      "\n",
      "Test Index:  [1311 1312 1313 1314 1315 1316 1317 1318 1319 1320 1321 1322 1323 1324\n",
      " 1325 1326 1327 1328 1329 1330 1331 1332 1333 1334 1335 1336 1337 1338\n",
      " 1339 1340 1341 1342 1343 1344 1345 1346 1347 1348 1349 1350 1351 1352\n",
      " 1353 1354 1355 1356 1357 1358 1359 1360 1361 1362 1363 1364 1365 1366\n",
      " 1367 1368 1369 1370 1371 1372 1373 1374 1375 1376 1377 1378 1379 1380\n",
      " 1381 1382 1383 1384 1385 1386 1387 1388 1389 1390 1391 1392 1393 1394\n",
      " 1395 1396 1397 1398 1399 1400 1401 1402 1403 1404 1405 1406 1407 1408\n",
      " 1409 1410 1411 1412 1413 1414 1415 1416 1417 1418 1419 1420 1421 1422\n",
      " 1423 1424 1425 1426 1427 1428 1429 1430 1431 1432 1433 1434 1435 1436\n",
      " 1437 1438 1439 1440 1441 1442 1443 1444 1445 1446 1447 1448 1449 1450\n",
      " 1451 1452 1453 1454 1455]\n"
     ]
    },
    {
     "name": "stderr",
     "output_type": "stream",
     "text": [
      "/anaconda3/lib/python3.7/site-packages/sklearn/svm/base.py:196: FutureWarning: The default value of gamma will change from 'auto' to 'scale' in version 0.22 to account better for unscaled features. Set gamma explicitly to 'auto' or 'scale' to avoid this warning.\n",
      "  \"avoid this warning.\", FutureWarning)\n",
      "/anaconda3/lib/python3.7/site-packages/sklearn/svm/base.py:196: FutureWarning: The default value of gamma will change from 'auto' to 'scale' in version 0.22 to account better for unscaled features. Set gamma explicitly to 'auto' or 'scale' to avoid this warning.\n",
      "  \"avoid this warning.\", FutureWarning)\n",
      "/anaconda3/lib/python3.7/site-packages/sklearn/svm/base.py:196: FutureWarning: The default value of gamma will change from 'auto' to 'scale' in version 0.22 to account better for unscaled features. Set gamma explicitly to 'auto' or 'scale' to avoid this warning.\n",
      "  \"avoid this warning.\", FutureWarning)\n",
      "/anaconda3/lib/python3.7/site-packages/sklearn/svm/base.py:196: FutureWarning: The default value of gamma will change from 'auto' to 'scale' in version 0.22 to account better for unscaled features. Set gamma explicitly to 'auto' or 'scale' to avoid this warning.\n",
      "  \"avoid this warning.\", FutureWarning)\n",
      "/anaconda3/lib/python3.7/site-packages/sklearn/svm/base.py:196: FutureWarning: The default value of gamma will change from 'auto' to 'scale' in version 0.22 to account better for unscaled features. Set gamma explicitly to 'auto' or 'scale' to avoid this warning.\n",
      "  \"avoid this warning.\", FutureWarning)\n"
     ]
    }
   ],
   "source": [
    "#Cross Validation with printed indices\n",
    "scores = []\n",
    "best_svr = SVR(kernel='rbf')\n",
    "cv = KFold(n_splits=10, random_state=42, shuffle=False)\n",
    "for train_index, test_index in cv.split(tempx):\n",
    "    print(\"Train Index: \", train_index, \"\\n\")\n",
    "    print(\"Test Index: \", test_index)\n",
    "\n",
    "    X_train, X_test, y_train, y_test = tempx[train_index], tempx[test_index], price[train_index], price[test_index]\n",
    "    best_svr.fit(X_train, y_train)\n",
    "    scores.append(best_svr.score(X_test, y_test))"
   ]
  },
  {
   "cell_type": "code",
   "execution_count": 16,
   "metadata": {},
   "outputs": [
    {
     "name": "stderr",
     "output_type": "stream",
     "text": [
      "/anaconda3/lib/python3.7/site-packages/sklearn/svm/base.py:196: FutureWarning: The default value of gamma will change from 'auto' to 'scale' in version 0.22 to account better for unscaled features. Set gamma explicitly to 'auto' or 'scale' to avoid this warning.\n",
      "  \"avoid this warning.\", FutureWarning)\n"
     ]
    }
   ],
   "source": [
    "#fit and append for scores list.\n",
    "best_svr.fit(X_train, y_train)\n",
    "scores.append(best_svr.score(X_test, y_test))"
   ]
  },
  {
   "cell_type": "code",
   "execution_count": 17,
   "metadata": {},
   "outputs": [
    {
     "name": "stdout",
     "output_type": "stream",
     "text": [
      "0.8044280993653028\n"
     ]
    }
   ],
   "source": [
    "#score is still upper 70s/80\n",
    "print(np.mean(scores))"
   ]
  },
  {
   "cell_type": "code",
   "execution_count": null,
   "metadata": {},
   "outputs": [],
   "source": []
  },
  {
   "cell_type": "code",
   "execution_count": null,
   "metadata": {},
   "outputs": [],
   "source": []
  }
 ],
 "metadata": {
  "kernelspec": {
   "display_name": "Python 3",
   "language": "python",
   "name": "python3"
  },
  "language_info": {
   "codemirror_mode": {
    "name": "ipython",
    "version": 3
   },
   "file_extension": ".py",
   "mimetype": "text/x-python",
   "name": "python",
   "nbconvert_exporter": "python",
   "pygments_lexer": "ipython3",
   "version": "3.7.3"
  }
 },
 "nbformat": 4,
 "nbformat_minor": 2
}
