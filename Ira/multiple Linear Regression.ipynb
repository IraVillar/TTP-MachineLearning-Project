{
 "cells": [
  {
   "cell_type": "code",
   "execution_count": 20,
   "metadata": {},
   "outputs": [],
   "source": [
    "##IMPORT\n",
    "#import the packages\n",
    "import pandas as pd\n",
    "import matplotlib.pyplot as plt\n",
    "import seaborn as sns\n",
    "import numpy as np\n",
    "from scipy import stats\n",
    "from sklearn.preprocessing import StandardScaler\n",
    "from sklearn import linear_model\n",
    "from sklearn.linear_model import LinearRegression\n",
    "import itertools\n",
    "from sklearn.model_selection import KFold\n",
    "from sklearn.preprocessing import MinMaxScaler\n",
    "from sklearn.svm import SVR\n",
    "from sklearn.model_selection import cross_val_score\n",
    "from sklearn.model_selection import cross_val_predict\n",
    "from sklearn.model_selection import GridSearchCV\n",
    "ols = linear_model.LinearRegression()\n",
    "\n",
    "#import the data\n",
    "train = pd.read_csv('train.csv')\n",
    "test = pd.read_csv('test.csv')\n",
    "cleanedtrain = pd.read_csv('cleanedtrain.csv')\n",
    "cleanedtest = pd.read_csv('cleanedtest.csv')\n",
    "cleanedtrainylog = pd.read_csv('cleanedtrainwithYlog.csv')\n",
    "try4 = pd.read_csv('try4.csv')\n",
    "te4 = pd.read_csv('te4.csv')\n",
    "try5 = pd.read_csv('try5.csv')\n",
    "te5 = pd.read_csv('te5.csv')\n",
    "\n",
    "\n",
    "liso = ['YearBuilt',\n",
    "        'percent_grliving',\n",
    "        'Percent_BsmtF',\n",
    "        'YrRemMinBui',\n",
    "        'YrSoldMinRem',\n",
    "        'isNew',\n",
    "'YearRemodAdd',\n",
    "'Street_Pave',\n",
    "'OverallCond',\n",
    "'OverallQual',\n",
    "'Condition2_PosA',\n",
    "'Neighborhood_StoneBr',\n",
    "'RoofMatl_WdShngl',\n",
    "'Neighborhood_NridgHt',\n",
    "'GarageCars',\n",
    "'GrLivArea',\n",
    "'Neighborhood_Crawfor',\n",
    "'Functional_Typ',\n",
    "'SaleType_New',\n",
    "'Neighborhood_NoRidge',\n",
    "'BsmtQual_No',\n",
    "# '1stFlrSF',\n",
    "'BsmtExposure_Gd',\n",
    "'MSZoning_FV',\n",
    "'Exterior1st_BrkFace',\n",
    "'Heating_GasW',\n",
    "# 'BsmtFullBath',\n",
    "'Condition1_Norm',\n",
    "'Fireplaces',\n",
    "'Exterior2nd_ImStucc',\n",
    "# 'FullBath',\n",
    "'SaleCondition_Normal',\n",
    "'Neighborhood_Somerst',\n",
    "# 'HalfBath',\n",
    "'CentralAir_Y',\n",
    "'RoofMatl_Membran',\n",
    "'MasVnrType_Stone',\n",
    "'MSZoning_RL',\n",
    "'Heating_Wall',\n",
    "'Exterior1st_VinylSd',\n",
    "# 'TotalBsmtSF',\n",
    "'LotArea',\n",
    "'LotShape_IR2',\n",
    "'Exterior2nd_Stucco',\n",
    "'Neighborhood_ClearCr',\n",
    "'Foundation_PConc',\n",
    "'TotalSF',\n",
    "'HouseStyle_SFoyer',\n",
    "'PavedDrive_Y',\n",
    "'PoolArea',\n",
    "'BsmtCond_Po',\n",
    "'BsmtFinType1_No',\n",
    "'Electrical_FuseF',\n",
    "'GarageType_BuiltIn',\n",
    "'BsmtFinSF1',\n",
    "'TotalBath',\n",
    "# '2ndFlrSF',\n",
    "# 'ScreenPorch',\n",
    "'Exterior2nd_VinylSd',\n",
    "'ExterCond_TA',\n",
    "'HouseStyle_2Story',\n",
    "'GarageType_Detchd',\n",
    "'BsmtFinType1_GLQ',\n",
    "# 'OpenPorchSF',\n",
    "'BsmtFinType2_No',\n",
    "'TotalPorchSF',\n",
    "# 'WoodDeckSF',\n",
    "'Foundation_Stone',\n",
    "'Exterior1st_Stucco',\n",
    "'HouseStyle_1.5Unf',\n",
    "'Exterior2nd_CmentBd']\n",
    "\n",
    "list2 = ['YearBuilt',\n",
    "        'percent_grliving',\n",
    "        'Percent_BsmtF',\n",
    "        'YrRemMinBui',\n",
    "        'YrSoldMinRem',\n",
    "        'isNew',\n",
    "'YearRemodAdd',\n",
    "'Street_Pave',\n",
    "'OverallCond',\n",
    "'OverallQual',\n",
    "# 'OverallQual'*'TotalSF',\n",
    "# 'Neighborhood_StoneBr'*'OverallQual',\n",
    "         'Neighborhood_StoneBr',\n",
    "# 'Neighborhood_NridgHt'*'OverallQual',\n",
    "         'Neighborhood_NridgHt',\n",
    "'GarageCars',\n",
    "'GrLivArea',\n",
    "# 'Neighborhood_Crawfor'*'OverallQual',\n",
    "         'Neighborhood_Crawfor',\n",
    "'SaleType_New',\n",
    "# 'Neighborhood_NoRidge'*'OverallQual',\n",
    "         'Neighborhood_NoRidge',\n",
    "'BsmtExposure_Gd',\n",
    "'Exterior1st_BrkFace',\n",
    "'Heating_GasW',\n",
    "'Fireplaces',\n",
    "'SaleCondition_Normal',\n",
    "# 'Neighborhood_Somerst'*'OverallQual',\n",
    "         'Neighborhood_Somerst',\n",
    "'CentralAir_Y',\n",
    "'MasVnrType_Stone',\n",
    "'MSZoning_RL',\n",
    "'Heating_Wall',\n",
    "'LotArea',\n",
    "'LotShape_IR2',\n",
    "# 'Neighborhood_ClearCr'*'OverallQual',\n",
    "         'Neighborhood_ClearCr',\n",
    "'TotalSF',\n",
    "'PavedDrive_Y',\n",
    "'PoolArea',\n",
    "'BsmtCond_Po',\n",
    "'BsmtFinType1_No',\n",
    "'GarageType_BuiltIn',\n",
    "'BsmtFinSF1',\n",
    "'TotalBath',\n",
    "'ExterCond_TA',\n",
    "'HouseStyle_2Story',\n",
    "'GarageType_Detchd',\n",
    "'BsmtFinType1_GLQ',\n",
    "'BsmtFinType2_No',\n",
    "'TotalPorchSF',\n",
    "'HouseStyle_1.5Unf']"
   ]
  },
  {
   "cell_type": "code",
   "execution_count": 21,
   "metadata": {},
   "outputs": [
    {
     "data": {
      "text/plain": [
       "0       0.666407\n",
       "1       0.500000\n",
       "2       0.660015\n",
       "3       0.694298\n",
       "4       0.657493\n",
       "5       0.631140\n",
       "6       0.501183\n",
       "7       0.653738\n",
       "8       0.650770\n",
       "9       0.520793\n",
       "10      0.500000\n",
       "11      0.664190\n",
       "12      0.500000\n",
       "13      0.500000\n",
       "14      0.500000\n",
       "15      0.506524\n",
       "16      0.500000\n",
       "17      1.000000\n",
       "18      0.500000\n",
       "19      0.565456\n",
       "20      0.672326\n",
       "21      0.634957\n",
       "22      0.502520\n",
       "23      0.504762\n",
       "24      0.500000\n",
       "25      0.505370\n",
       "26      0.500000\n",
       "27      0.500000\n",
       "28      0.518807\n",
       "29      0.500000\n",
       "          ...   \n",
       "1426    0.715175\n",
       "1427    0.500000\n",
       "1428    0.596059\n",
       "1429    0.656891\n",
       "1430    0.500000\n",
       "1431    0.538165\n",
       "1432    0.500000\n",
       "1433    0.500000\n",
       "1434    0.575419\n",
       "1435    0.761926\n",
       "1436    0.926060\n",
       "1437    0.500000\n",
       "1438    0.663690\n",
       "1439    0.500000\n",
       "1440    0.500000\n",
       "1441    0.528662\n",
       "1442    0.500000\n",
       "1443    0.631420\n",
       "1444    0.706191\n",
       "1445    0.500000\n",
       "1446    0.666667\n",
       "1447    0.500793\n",
       "1448    0.662137\n",
       "1449    0.500000\n",
       "1450    0.500000\n",
       "1451    0.633462\n",
       "1452    0.573444\n",
       "1453    0.670103\n",
       "1454    0.500000\n",
       "1455    0.500000\n",
       "Name: percent_grliving, Length: 1456, dtype: float64"
      ]
     },
     "execution_count": 21,
     "metadata": {},
     "output_type": "execute_result"
    }
   ],
   "source": [
    "try5['percent_grliving']"
   ]
  },
  {
   "cell_type": "code",
   "execution_count": 22,
   "metadata": {},
   "outputs": [],
   "source": [
    "#Create DataFrame with all the independant variables and betas\n",
    "temp_df = try5.drop(['ylogSalePrice'], axis=1)\n",
    "# temp_df = temp_df.astype(int)\n",
    "#appending to an empty list, creating into an array then transposing\n",
    "# ll = []\n",
    "# for column in temp_df:\n",
    "#     ll.append(list(temp_df[column]))\n",
    "# lla = np.array(ll[1:])\n",
    "# x_m = lla.T\n",
    "# y_m = list(cleanedtrainylog['ylogSalePrice'])\n",
    "# np.where(np.isnan(temp_df))\n",
    "# temp_df.isna().sum()"
   ]
  },
  {
   "cell_type": "code",
   "execution_count": 4,
   "metadata": {},
   "outputs": [
    {
     "data": {
      "text/html": [
       "<div>\n",
       "<style scoped>\n",
       "    .dataframe tbody tr th:only-of-type {\n",
       "        vertical-align: middle;\n",
       "    }\n",
       "\n",
       "    .dataframe tbody tr th {\n",
       "        vertical-align: top;\n",
       "    }\n",
       "\n",
       "    .dataframe thead th {\n",
       "        text-align: right;\n",
       "    }\n",
       "</style>\n",
       "<table border=\"1\" class=\"dataframe\">\n",
       "  <thead>\n",
       "    <tr style=\"text-align: right;\">\n",
       "      <th></th>\n",
       "      <th>t</th>\n",
       "      <th>%</th>\n",
       "    </tr>\n",
       "  </thead>\n",
       "  <tbody>\n",
       "  </tbody>\n",
       "</table>\n",
       "</div>"
      ],
      "text/plain": [
       "Empty DataFrame\n",
       "Columns: [t, %]\n",
       "Index: []"
      ]
     },
     "execution_count": 4,
     "metadata": {},
     "output_type": "execute_result"
    }
   ],
   "source": [
    "# missing_test = te5.isna().sum()\n",
    "# missing_test = missing_test[missing_test>0]\n",
    "# missing_test_per = missing_test /te4.shape[0] *100\n",
    "# t_m = pd.DataFrame([missing_test, missing_test_per], index = ['t', '%']).T\n",
    "# t_m.sort_values(['%'], ascending = [False])"
   ]
  },
  {
   "cell_type": "code",
   "execution_count": 24,
   "metadata": {},
   "outputs": [],
   "source": [
    "# #Filling NA in test set.\n",
    "# te4.loc[:, \"YrSoldMinRem\"] = te4.loc[:, \"YrSoldMinRem\"].fillna(0)"
   ]
  },
  {
   "cell_type": "code",
   "execution_count": 5,
   "metadata": {},
   "outputs": [
    {
     "data": {
      "text/plain": [
       "(array([  3.,   2.,   4.,  18.,  71., 456., 722., 153.,  25.,   2.]),\n",
       " array([-0.76356132, -0.63952514, -0.51548895, -0.39145277, -0.26741659,\n",
       "        -0.1433804 , -0.01934422,  0.10469196,  0.22872814,  0.35276433,\n",
       "         0.47680051]),\n",
       " <a list of 10 Patch objects>)"
      ]
     },
     "execution_count": 5,
     "metadata": {},
     "output_type": "execute_result"
    },
    {
     "data": {
      "image/png": "[encoded data removed]",
      "text/plain": [
       "<Figure size 432x288 with 1 Axes>"
      ]
     },
     "metadata": {
      "needs_background": "light"
     },
     "output_type": "display_data"
    }
   ],
   "source": [
    "#Creating variables for the model.\n",
    "tempfull = temp_df.iloc[:,1:]\n",
    "temp = temp_df.loc[:,list2]\n",
    "featuresfull = tempfull.copy()\n",
    "features = temp.copy()\n",
    "price   = try5['ylogSalePrice']\n",
    "\n",
    "#LM and basic histogram to check normality and distribution\n",
    "lm = LinearRegression()\n",
    "lm.fit(features, price)\n",
    "residuals = price - lm.predict(features)\n",
    "plt.hist(residuals)\n",
    "# temp.describe()"
   ]
  },
  {
   "cell_type": "code",
   "execution_count": 6,
   "metadata": {},
   "outputs": [],
   "source": [
    "#Testing and creating csv for Kaggle\n",
    "cleanedtestx = te5.loc[:,list2]\n",
    "testresults = lm.predict(cleanedtestx)\n",
    "testresults = pd.DataFrame({'Id' : test['Id'], 'SalePrice' : testresults})\n",
    "testresults['SalePrice'] = np.exp(testresults['SalePrice'])\n",
    "# testresults\n",
    "testresults.to_csv('MLRPredictions5.csv',index = False)"
   ]
  },
  {
   "cell_type": "code",
   "execution_count": null,
   "metadata": {},
   "outputs": [],
   "source": [
    "#Checking scores and betas\n",
    "# print('R^2 is equal to %.3f' %(lm.score(features, price)))\n",
    "# print('RSS is equal to %.3f' %(np.sum((price-lm.predict(features))**2)))\n",
    "# print('The intercept is %.3f' %(lm.intercept_))\n",
    "# print('The slopes are %s' %(lm.coef_))\n",
    "lm."
   ]
  },
  {
   "cell_type": "code",
   "execution_count": null,
   "metadata": {},
   "outputs": [],
   "source": [
    "# #positive and negative slopes if ever\n",
    "# print('negative slope column names %s' %(features.columns[lm.coef_<0]))\n",
    "# print('positive slope column names %s' %(features.columns[lm.coef_>0]))"
   ]
  },
  {
   "cell_type": "code",
   "execution_count": null,
   "metadata": {},
   "outputs": [],
   "source": [
    "# #initialize a dictionary for Brute Force feature selection, Thanks mikolaj!\n",
    "# scores = {}\n",
    "# #loop through each 3 column combination of the dataframe and fit a linear model with each combo\n",
    "# #add the R^2 to dictionary as a key and the combo as the value for each 3 combo\n",
    "# for i in range(0,2000):\n",
    "#     combo = list(itertools.combinations(featuresfull.columns,3))[i]\n",
    "# #     combo = list(randomcombination(featuresfull.columns,3))[i]\n",
    "#     combo_list = list(combo)\n",
    "#     lm.fit(featuresfull[combo_list],price)\n",
    "#     scores[lm.score(featuresfull[combo_list],price)] = combo_list\n",
    "#     print ('Working...{}.'.format(i))"
   ]
  },
  {
   "cell_type": "code",
   "execution_count": null,
   "metadata": {},
   "outputs": [],
   "source": [
    "# # sorted(scores.items(), key=lambda t:t[1], reverse=True)[:10]\n",
    "# for key in sorted(scores):\n",
    "#    print(key, scores[key])"
   ]
  },
  {
   "cell_type": "code",
   "execution_count": null,
   "metadata": {},
   "outputs": [],
   "source": [
    "# #Statsmodel package from the HW\n",
    "# import statsmodels.api as sm\n",
    "# x = sm.add_constant(features)\n",
    "# model = sm.OLS(price, x)\n",
    "# results = model.fit()\n",
    "# print(results.summary())"
   ]
  },
  {
   "cell_type": "code",
   "execution_count": null,
   "metadata": {},
   "outputs": [],
   "source": [
    "# pValues = results.pvalues\n",
    "# print('The significant coefficients')\n",
    "# pValues[pValues<0.05]"
   ]
  },
  {
   "cell_type": "code",
   "execution_count": null,
   "metadata": {},
   "outputs": [],
   "source": [
    "# print('The insignificant coefficients')\n",
    "# pValues[pValues>=0.05]"
   ]
  },
  {
   "cell_type": "code",
   "execution_count": null,
   "metadata": {},
   "outputs": [],
   "source": [
    "# #Scaling data for cross validation\n",
    "# scaler = MinMaxScaler(feature_range=(0, 1))\n",
    "# tempx = scaler.fit_transform(temp)"
   ]
  },
  {
   "cell_type": "code",
   "execution_count": null,
   "metadata": {},
   "outputs": [],
   "source": [
    "# #Cross Validation with printed indices\n",
    "# scores = []\n",
    "# best_svr = SVR(kernel='rbf')\n",
    "# cv = KFold(n_splits=10, random_state=42, shuffle=False)\n",
    "# for train_index, test_index in cv.split(tempx):\n",
    "#     print(\"Train Index: \", train_index, \"\\n\")\n",
    "#     print(\"Test Index: \", test_index)\n",
    "\n",
    "#     X_train, X_test, y_train, y_test = tempx[train_index], tempx[test_index], price[train_index], price[test_index]\n",
    "#     best_svr.fit(X_train, y_train)\n",
    "#     scores.append(best_svr.score(X_test, y_test))"
   ]
  },
  {
   "cell_type": "code",
   "execution_count": null,
   "metadata": {},
   "outputs": [],
   "source": [
    "# #fit and append for scores list.\n",
    "# best_svr.fit(X_train, y_train)\n",
    "# scores.append(best_svr.score(X_test, y_test))"
   ]
  },
  {
   "cell_type": "code",
   "execution_count": null,
   "metadata": {},
   "outputs": [],
   "source": [
    "#score is still upper 70s/80\n",
    "# print(np.mean(scores))"
   ]
  },
  {
   "cell_type": "code",
   "execution_count": null,
   "metadata": {},
   "outputs": [],
   "source": [
    "# cross_val_score(best_svr, tempx, price, cv=10)"
   ]
  },
  {
   "cell_type": "code",
   "execution_count": null,
   "metadata": {},
   "outputs": [],
   "source": [
    "# cross_val_predict(best_svr, tempx, price, cv=10)"
   ]
  }
 ],
 "metadata": {
  "kernelspec": {
   "display_name": "Python 3",
   "language": "python",
   "name": "python3"
  },
  "language_info": {
   "codemirror_mode": {
    "name": "ipython",
    "version": 3
   },
   "file_extension": ".py",
   "mimetype": "text/x-python",
   "name": "python",
   "nbconvert_exporter": "python",
   "pygments_lexer": "ipython3",
   "version": "3.7.3"
  }
 },
 "nbformat": 4,
 "nbformat_minor": 2
}
