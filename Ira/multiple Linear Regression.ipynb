{
 "cells": [
  {
   "cell_type": "code",
   "execution_count": 25,
   "metadata": {},
   "outputs": [],
   "source": [
    "##IMPORT\n",
    "#import the packages\n",
    "import pandas as pd\n",
    "import matplotlib.pyplot as plt\n",
    "import seaborn as sns\n",
    "import numpy as np\n",
    "from scipy import stats\n",
    "from sklearn.preprocessing import StandardScaler\n",
    "from sklearn import linear_model\n",
    "from sklearn.linear_model import LinearRegression\n",
    "import itertools\n",
    "from sklearn.model_selection import KFold\n",
    "from sklearn.preprocessing import MinMaxScaler\n",
    "from sklearn.svm import SVR\n",
    "from sklearn.model_selection import cross_val_score\n",
    "from sklearn.model_selection import cross_val_predict\n",
    "from sklearn.model_selection import GridSearchCV\n",
    "ols = linear_model.LinearRegression()\n",
    "\n",
    "#import the data\n",
    "train = pd.read_csv('train.csv')\n",
    "test = pd.read_csv('test.csv')\n",
    "cleanedtrain = pd.read_csv('cleanedtrain.csv')\n",
    "cleanedtest = pd.read_csv('cleanedtest.csv')\n",
    "cleanedtrainylog = pd.read_csv('cleanedtrainwithYlog.csv')\n",
    "try4 = pd.read_csv('try4.csv')\n",
    "te4 = pd.read_csv('te4.csv')\n",
    "try5 = pd.read_csv('try5.csv')\n",
    "te5 = pd.read_csv('te5.csv')\n",
    "\n",
    "\n",
    "liso = ['YearBuilt',\n",
    "        'percent_grliving',\n",
    "        'Percent_BsmtF',\n",
    "        'YrRemMinBui',\n",
    "        'YrSoldMinRem',\n",
    "        'isNew',\n",
    "'YearRemodAdd',\n",
    "'Street_Pave',\n",
    "'OverallCond',\n",
    "'OverallQual',\n",
    "'Condition2_PosA',\n",
    "'Neighborhood_StoneBr',\n",
    "'RoofMatl_WdShngl',\n",
    "'Neighborhood_NridgHt',\n",
    "'GarageCars',\n",
    "'GrLivArea',\n",
    "'Neighborhood_Crawfor',\n",
    "'Functional_Typ',\n",
    "'SaleType_New',\n",
    "'Neighborhood_NoRidge',\n",
    "'BsmtQual_No',\n",
    "# '1stFlrSF',\n",
    "'BsmtExposure_Gd',\n",
    "'MSZoning_FV',\n",
    "'Exterior1st_BrkFace',\n",
    "'Heating_GasW',\n",
    "# 'BsmtFullBath',\n",
    "'Condition1_Norm',\n",
    "'Fireplaces',\n",
    "'Exterior2nd_ImStucc',\n",
    "# 'FullBath',\n",
    "'SaleCondition_Normal',\n",
    "'Neighborhood_Somerst',\n",
    "# 'HalfBath',\n",
    "'CentralAir_Y',\n",
    "'RoofMatl_Membran',\n",
    "'MasVnrType_Stone',\n",
    "'MSZoning_RL',\n",
    "'Heating_Wall',\n",
    "'Exterior1st_VinylSd',\n",
    "# 'TotalBsmtSF',\n",
    "'LotArea',\n",
    "'LotShape_IR2',\n",
    "'Exterior2nd_Stucco',\n",
    "'Neighborhood_ClearCr',\n",
    "'Foundation_PConc',\n",
    "'TotalSF',\n",
    "'HouseStyle_SFoyer',\n",
    "'PavedDrive_Y',\n",
    "'PoolArea',\n",
    "'BsmtCond_Po',\n",
    "'BsmtFinType1_No',\n",
    "'Electrical_FuseF',\n",
    "'GarageType_BuiltIn',\n",
    "'BsmtFinSF1',\n",
    "'TotalBath',\n",
    "# '2ndFlrSF',\n",
    "# 'ScreenPorch',\n",
    "'Exterior2nd_VinylSd',\n",
    "'ExterCond_TA',\n",
    "'HouseStyle_2Story',\n",
    "'GarageType_Detchd',\n",
    "'BsmtFinType1_GLQ',\n",
    "# 'OpenPorchSF',\n",
    "'BsmtFinType2_No',\n",
    "'TotalPorchSF',\n",
    "# 'WoodDeckSF',\n",
    "'Foundation_Stone',\n",
    "'Exterior1st_Stucco',\n",
    "'HouseStyle_1.5Unf',\n",
    "'Exterior2nd_CmentBd']\n",
    "\n",
    "list2 = ['YearBuilt',\n",
    "        'percent_grliving',\n",
    "        'Percent_BsmtF',\n",
    "        'YrRemMinBui',\n",
    "        'YrSoldMinRem',\n",
    "        'isNew',\n",
    "'YearRemodAdd',\n",
    "'Street_Pave',\n",
    "'OverallCond',\n",
    "'OverallQual',\n",
    "# 'OverallQual'*'TotalSF',\n",
    "# 'Neighborhood_StoneBr'*'OverallQual',\n",
    "         'Neighborhood_StoneBr',\n",
    "# 'Neighborhood_NridgHt'*'OverallQual',\n",
    "         'Neighborhood_NridgHt',\n",
    "'GarageCars',\n",
    "'GrLivArea',\n",
    "# 'Neighborhood_Crawfor'*'OverallQual',\n",
    "         'Neighborhood_Crawfor',\n",
    "'SaleType_New',\n",
    "# 'Neighborhood_NoRidge'*'OverallQual',\n",
    "         'Neighborhood_NoRidge',\n",
    "'BsmtExposure_Gd',\n",
    "'Exterior1st_BrkFace',\n",
    "'Heating_GasW',\n",
    "'Fireplaces',\n",
    "'SaleCondition_Normal',\n",
    "# 'Neighborhood_Somerst'*'OverallQual',\n",
    "         'Neighborhood_Somerst',\n",
    "'CentralAir_Y',\n",
    "'MasVnrType_Stone',\n",
    "'MSZoning_RL',\n",
    "'Heating_Wall',\n",
    "'LotArea',\n",
    "'LotShape_IR2',\n",
    "# 'Neighborhood_ClearCr'*'OverallQual',\n",
    "         'Neighborhood_ClearCr',\n",
    "'TotalSF',\n",
    "'PavedDrive_Y',\n",
    "'PoolArea',\n",
    "'BsmtCond_Po',\n",
    "'BsmtFinType1_No',\n",
    "'GarageType_BuiltIn',\n",
    "'BsmtFinSF1',\n",
    "'TotalBath',\n",
    "'ExterCond_TA',\n",
    "'HouseStyle_2Story',\n",
    "'GarageType_Detchd',\n",
    "'BsmtFinType1_GLQ',\n",
    "'BsmtFinType2_No',\n",
    "'TotalPorchSF',\n",
    "'HouseStyle_1.5Unf']"
   ]
  },
  {
   "cell_type": "code",
   "execution_count": 26,
   "metadata": {},
   "outputs": [],
   "source": [
    "#Create DataFrame with all the independant variables and betas\n",
    "temp_df = try5.drop(['ylogSalePrice'], axis=1)\n",
    "# temp_df = temp_df.astype(int)\n",
    "#appending to an empty list, creating into an array then transposing\n",
    "# ll = []\n",
    "# for column in temp_df:\n",
    "#     ll.append(list(temp_df[column]))\n",
    "# lla = np.array(ll[1:])\n",
    "# x_m = lla.T\n",
    "# y_m = list(cleanedtrainylog['ylogSalePrice'])\n",
    "# np.where(np.isnan(temp_df))\n",
    "# temp_df.isna().sum()"
   ]
  },
  {
   "cell_type": "code",
   "execution_count": 27,
   "metadata": {},
   "outputs": [],
   "source": [
    "# missing_test = te5.isna().sum()\n",
    "# missing_test = missing_test[missing_test>0]\n",
    "# missing_test_per = missing_test /te4.shape[0] *100\n",
    "# t_m = pd.DataFrame([missing_test, missing_test_per], index = ['t', '%']).T\n",
    "# t_m.sort_values(['%'], ascending = [False])"
   ]
  },
  {
   "cell_type": "code",
   "execution_count": 28,
   "metadata": {},
   "outputs": [],
   "source": [
    "# #Filling NA in test set.\n",
    "# te4.loc[:, \"YrSoldMinRem\"] = te4.loc[:, \"YrSoldMinRem\"].fillna(0)"
   ]
  },
  {
   "cell_type": "code",
   "execution_count": 29,
   "metadata": {},
   "outputs": [
    {
     "data": {
      "text/plain": [
       "(array([  2.,   3.,   5.,  16.,  84., 564., 657., 110.,  14.,   1.]),\n",
       " array([-0.79020909, -0.65922701, -0.52824494, -0.39726286, -0.26628079,\n",
       "        -0.13529871, -0.00431664,  0.12666544,  0.25764751,  0.38862959,\n",
       "         0.51961166]),\n",
       " <a list of 10 Patch objects>)"
      ]
     },
     "execution_count": 29,
     "metadata": {},
     "output_type": "execute_result"
    },
    {
     "data": {
      "image/png": "[encoded data removed]",
      "text/plain": [
       "<Figure size 432x288 with 1 Axes>"
      ]
     },
     "metadata": {
      "needs_background": "light"
     },
     "output_type": "display_data"
    }
   ],
   "source": [
    "#Creating variables for the model.\n",
    "tempfull = temp_df.iloc[:,1:]\n",
    "temp = temp_df.loc[:,list2]\n",
    "featuresfull = tempfull.copy()\n",
    "features = temp.copy()\n",
    "price   = try5['ylogSalePrice']\n",
    "\n",
    "#LM and basic histogram to check normality and distribution\n",
    "lm = LinearRegression()\n",
    "lm.fit(features, price)\n",
    "residuals = price - lm.predict(features)\n",
    "plt.hist(residuals)\n",
    "# temp.describe()"
   ]
  },
  {
   "cell_type": "code",
   "execution_count": 30,
   "metadata": {},
   "outputs": [],
   "source": [
    "#Testing and creating csv for Kaggle\n",
    "cleanedtestx = te5.loc[:,list2]\n",
    "testresults = lm.predict(cleanedtestx)\n",
    "testresults = pd.DataFrame({'Id' : test['Id'], 'SalePrice' : testresults})\n",
    "testresults['SalePrice'] = np.exp(testresults['SalePrice'])\n",
    "# testresults\n",
    "testresults.to_csv('MLRPredictions5.csv',index = False)"
   ]
  },
  {
   "cell_type": "code",
   "execution_count": null,
   "metadata": {},
   "outputs": [],
   "source": [
    "#Checking scores and betas\n",
    "# print('R^2 is equal to %.3f' %(lm.score(features, price)))\n",
    "# print('RSS is equal to %.3f' %(np.sum((price-lm.predict(features))**2)))\n",
    "# print('The intercept is %.3f' %(lm.intercept_))\n",
    "# print('The slopes are %s' %(lm.coef_))\n",
    "lm."
   ]
  },
  {
   "cell_type": "code",
   "execution_count": null,
   "metadata": {},
   "outputs": [],
   "source": [
    "# #positive and negative slopes if ever\n",
    "# print('negative slope column names %s' %(features.columns[lm.coef_<0]))\n",
    "# print('positive slope column names %s' %(features.columns[lm.coef_>0]))"
   ]
  },
  {
   "cell_type": "code",
   "execution_count": null,
   "metadata": {},
   "outputs": [],
   "source": [
    "# #initialize a dictionary for Brute Force feature selection, Thanks mikolaj!\n",
    "# scores = {}\n",
    "# #loop through each 3 column combination of the dataframe and fit a linear model with each combo\n",
    "# #add the R^2 to dictionary as a key and the combo as the value for each 3 combo\n",
    "# for i in range(0,2000):\n",
    "#     combo = list(itertools.combinations(featuresfull.columns,3))[i]\n",
    "# #     combo = list(randomcombination(featuresfull.columns,3))[i]\n",
    "#     combo_list = list(combo)\n",
    "#     lm.fit(featuresfull[combo_list],price)\n",
    "#     scores[lm.score(featuresfull[combo_list],price)] = combo_list\n",
    "#     print ('Working...{}.'.format(i))"
   ]
  },
  {
   "cell_type": "code",
   "execution_count": null,
   "metadata": {},
   "outputs": [],
   "source": [
    "# # sorted(scores.items(), key=lambda t:t[1], reverse=True)[:10]\n",
    "# for key in sorted(scores):\n",
    "#    print(key, scores[key])"
   ]
  },
  {
   "cell_type": "code",
   "execution_count": null,
   "metadata": {},
   "outputs": [],
   "source": [
    "# #Statsmodel package from the HW\n",
    "# import statsmodels.api as sm\n",
    "# x = sm.add_constant(features)\n",
    "# model = sm.OLS(price, x)\n",
    "# results = model.fit()\n",
    "# print(results.summary())"
   ]
  },
  {
   "cell_type": "code",
   "execution_count": null,
   "metadata": {},
   "outputs": [],
   "source": [
    "# pValues = results.pvalues\n",
    "# print('The significant coefficients')\n",
    "# pValues[pValues<0.05]"
   ]
  },
  {
   "cell_type": "code",
   "execution_count": null,
   "metadata": {},
   "outputs": [],
   "source": [
    "# print('The insignificant coefficients')\n",
    "# pValues[pValues>=0.05]"
   ]
  },
  {
   "cell_type": "code",
   "execution_count": null,
   "metadata": {},
   "outputs": [],
   "source": [
    "# #Scaling data for cross validation\n",
    "# scaler = MinMaxScaler(feature_range=(0, 1))\n",
    "# tempx = scaler.fit_transform(temp)"
   ]
  },
  {
   "cell_type": "code",
   "execution_count": null,
   "metadata": {},
   "outputs": [],
   "source": [
    "# #Cross Validation with printed indices\n",
    "# scores = []\n",
    "# best_svr = SVR(kernel='rbf')\n",
    "# cv = KFold(n_splits=10, random_state=42, shuffle=False)\n",
    "# for train_index, test_index in cv.split(tempx):\n",
    "#     print(\"Train Index: \", train_index, \"\\n\")\n",
    "#     print(\"Test Index: \", test_index)\n",
    "\n",
    "#     X_train, X_test, y_train, y_test = tempx[train_index], tempx[test_index], price[train_index], price[test_index]\n",
    "#     best_svr.fit(X_train, y_train)\n",
    "#     scores.append(best_svr.score(X_test, y_test))"
   ]
  },
  {
   "cell_type": "code",
   "execution_count": null,
   "metadata": {},
   "outputs": [],
   "source": [
    "# #fit and append for scores list.\n",
    "# best_svr.fit(X_train, y_train)\n",
    "# scores.append(best_svr.score(X_test, y_test))"
   ]
  },
  {
   "cell_type": "code",
   "execution_count": null,
   "metadata": {},
   "outputs": [],
   "source": [
    "#score is still upper 70s/80\n",
    "# print(np.mean(scores))"
   ]
  },
  {
   "cell_type": "code",
   "execution_count": null,
   "metadata": {},
   "outputs": [],
   "source": [
    "# cross_val_score(best_svr, tempx, price, cv=10)"
   ]
  },
  {
   "cell_type": "code",
   "execution_count": null,
   "metadata": {},
   "outputs": [],
   "source": [
    "# cross_val_predict(best_svr, tempx, price, cv=10)"
   ]
  }
 ],
 "metadata": {
  "kernelspec": {
   "display_name": "Python 3",
   "language": "python",
   "name": "python3"
  },
  "language_info": {
   "codemirror_mode": {
    "name": "ipython",
    "version": 3
   },
   "file_extension": ".py",
   "mimetype": "text/x-python",
   "name": "python",
   "nbconvert_exporter": "python",
   "pygments_lexer": "ipython3",
   "version": "3.7.3"
  }
 },
 "nbformat": 4,
 "nbformat_minor": 2
}
