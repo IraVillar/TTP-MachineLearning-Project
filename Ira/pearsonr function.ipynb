{
 "cells": [
  {
   "cell_type": "code",
   "execution_count": 19,
   "metadata": {},
   "outputs": [],
   "source": [
    "import numpy as np\n",
    "import scipy\n",
    "from scipy import stats\n",
    "import pandas as pd\n",
    "\n",
    "cleanedtrain = pd.read_csv('cleanedtrain.csv')\n",
    "train = pd.read_csv('train.csv')\n"
   ]
  },
  {
   "cell_type": "code",
   "execution_count": 1,
   "metadata": {},
   "outputs": [],
   "source": [
    "# #Just to list it first\n",
    "# for i in range(len(cleanedtrain.columns)):\n",
    "#     print(cleanedtrain.columns[i])\n",
    "#     print(scipy.stats.pearsonr(cleanedtrain[cleanedtrain.columns[i]],cleanedtrain['SalePrice']))\n",
    "#     print(\"-\"*50)  "
   ]
  },
  {
   "cell_type": "code",
   "execution_count": 25,
   "metadata": {},
   "outputs": [],
   "source": [
    "def pearsonfunction(dataset):\n",
    "    ''' Uses a filtered dataset and returns a sorted dictionary with the variable names and sorted pearson r coefficients'''\n",
    "    #filter dataset for columns that are numerical\n",
    "    dataset = dataset.select_dtypes(exclude=['object'])\n",
    "    #making an empty dictionary to sort later on\n",
    "    pearsondict = {}\n",
    "    for i in range(len(dataset.columns)):\n",
    "        pearsondict.update({dataset.columns[i]: scipy.stats.pearsonr(dataset[dataset.columns[i]],dataset['SalePrice'])[0]})\n",
    "    #sorted with a for loop\n",
    "    pearsonlist = []\n",
    "    for key, value in sorted(pearsondict.items(), key=lambda item: item[1],reverse=True):\n",
    "        pearsonlist.append(\"%s: %s\" % (key, value))\n",
    "        \n",
    "    return pearsonlist"
   ]
  },
  {
   "cell_type": "code",
   "execution_count": 26,
   "metadata": {},
   "outputs": [
    {
     "data": {
      "text/plain": [
       "['LotFrontage: nan',\n",
       " 'OverallQual: 0.7909816005838051',\n",
       " 'MasVnrArea: nan',\n",
       " 'GarageYrBlt: nan',\n",
       " 'SalePrice: 1.0',\n",
       " 'GrLivArea: 0.708624477612652',\n",
       " 'GarageCars: 0.640409197258352',\n",
       " 'GarageArea: 0.6234314389183616',\n",
       " 'TotalBsmtSF: 0.6135805515591953',\n",
       " '1stFlrSF: 0.6058521846919146',\n",
       " 'FullBath: 0.560663762748446',\n",
       " 'TotRmsAbvGrd: 0.5337231555820281',\n",
       " 'YearBuilt: 0.5228973328794969',\n",
       " 'YearRemodAdd: 0.5071009671113862',\n",
       " 'Fireplaces: 0.4669288367515278',\n",
       " 'BsmtFinSF1: 0.3864198062421533',\n",
       " 'WoodDeckSF: 0.3244134445681299',\n",
       " '2ndFlrSF: 0.3193338028320678',\n",
       " 'OpenPorchSF: 0.3158562271160552',\n",
       " 'HalfBath: 0.2841076755947825',\n",
       " 'LotArea: 0.2638433538714056',\n",
       " 'BsmtFullBath: 0.22712223313149424',\n",
       " 'BsmtUnfSF: 0.2144791055469689',\n",
       " 'BedroomAbvGr: 0.16821315430073996',\n",
       " 'ScreenPorch: 0.11144657114291123',\n",
       " 'PoolArea: 0.09240354949187321',\n",
       " 'MoSold: 0.04643224522381935',\n",
       " '3SsnPorch: 0.0445836653357484',\n",
       " 'BsmtFinSF2: -0.01137812145021514',\n",
       " 'BsmtHalfBath: -0.016844154297359016',\n",
       " 'MiscVal: -0.021189579640303255',\n",
       " 'Id: -0.021916719443431106',\n",
       " 'LowQualFinSF: -0.025606130000679534',\n",
       " 'YrSold: -0.028922585168730326',\n",
       " 'OverallCond: -0.077855894048678',\n",
       " 'MSSubClass: -0.08428413512659517',\n",
       " 'EnclosedPorch: -0.12857795792595675',\n",
       " 'KitchenAbvGr: -0.13590737084214122']"
      ]
     },
     "execution_count": 26,
     "metadata": {},
     "output_type": "execute_result"
    }
   ],
   "source": [
    "# pearsonfunction(cleanedtrain)\n",
    "pearsonfunction(train)"
   ]
  },
  {
   "cell_type": "code",
   "execution_count": null,
   "metadata": {},
   "outputs": [],
   "source": []
  }
 ],
 "metadata": {
  "kernelspec": {
   "display_name": "Python 3",
   "language": "python",
   "name": "python3"
  },
  "language_info": {
   "codemirror_mode": {
    "name": "ipython",
    "version": 3
   },
   "file_extension": ".py",
   "mimetype": "text/x-python",
   "name": "python",
   "nbconvert_exporter": "python",
   "pygments_lexer": "ipython3",
   "version": "3.7.3"
  }
 },
 "nbformat": 4,
 "nbformat_minor": 2
}
