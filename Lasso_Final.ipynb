{
 "cells": [
  {
   "cell_type": "markdown",
   "metadata": {},
   "source": [
    "# TTP Machine Learning Project - AMES Housing Dataset\n",
    "\n",
    "<p><a name=\"sections\"></a></p>\n",
    "\n",
    "\n",
    "## Sections\n",
    "\n",
    "- <a href=\"#GLM\">Generalized Linear Models</a><br>\n",
    "    - <a href=\"#function_def\">Function and Class Definitions</a><br>\n",
    "    - <a href=\"#data_prep\">Data Preperation</a><br>\n",
    "        - <a href=\"#dist\">Price Distribution</a><br>\n",
    "    - <a href=\"#lasso\">Lasso</a><br>\n",
    "        - <a href=\"#data_vis_las\">Data Visualization</a><br>\n",
    "        - <a href=\"#fi_las\">Reduced Features</a><br>\n",
    "    - <a href=\"#elastic_net\">Elastic Net</a><br>\n",
    "        - <a href=\"#data_vis_en\">Data Visualization Elastic Net</a><br>\n",
    "    \n",
    "    - <a href=\"#xgboo\">XG Boost</a><br>\n",
    "        - <a href=\"#data_vis_xg\">Data Visualization XGBoost</a><br>\n",
    "        - <a href=\"#fi_xg\">Feature Importance</a><br>\n",
    "    - <a href=\"#ran_for\">Random Forest</a><br>\n",
    "    - <a href=\"#sim_stack\">Stacking</a><br>\n",
    "    - <a href=\"#sub\">Submissions</a><br>"
   ]
  },
  {
   "cell_type": "markdown",
   "metadata": {},
   "source": [
    "### Import Packages"
   ]
  },
  {
   "cell_type": "code",
   "execution_count": 187,
   "metadata": {
    "collapsed": true
   },
   "outputs": [
    {
     "name": "stdout",
     "output_type": "stream",
     "text": [
      "Collecting mlxtend\n",
      "  Downloading https://files.pythonhosted.org/packages/52/04/c362f34f666f0ddc7cf593805e64d64fa670ed96fd9302e68549dd48287d/mlxtend-0.17.0-py2.py3-none-any.whl (1.3MB)\n",
      "Requirement already satisfied: pandas>=0.24.2 in c:\\users\\tnivo\\anaconda3\\lib\\site-packages (from mlxtend) (0.24.2)\n",
      "Requirement already satisfied: matplotlib>=3.0.0 in c:\\users\\tnivo\\anaconda3\\lib\\site-packages (from mlxtend) (3.0.3)\n",
      "Requirement already satisfied: numpy>=1.16.2 in c:\\users\\tnivo\\anaconda3\\lib\\site-packages (from mlxtend) (1.16.2)\n",
      "Requirement already satisfied: scipy>=1.2.1 in c:\\users\\tnivo\\anaconda3\\lib\\site-packages (from mlxtend) (1.2.1)\n",
      "Requirement already satisfied: scikit-learn>=0.20.3 in c:\\users\\tnivo\\anaconda3\\lib\\site-packages (from mlxtend) (0.20.3)\n",
      "Requirement already satisfied: setuptools in c:\\users\\tnivo\\anaconda3\\lib\\site-packages (from mlxtend) (40.8.0)\n",
      "Collecting joblib>=0.13.2 (from mlxtend)\n",
      "  Downloading https://files.pythonhosted.org/packages/8f/42/155696f85f344c066e17af287359c9786b436b1bf86029bb3411283274f3/joblib-0.14.0-py2.py3-none-any.whl (294kB)\n",
      "Requirement already satisfied: python-dateutil>=2.5.0 in c:\\users\\tnivo\\anaconda3\\lib\\site-packages (from pandas>=0.24.2->mlxtend) (2.8.0)\n",
      "Requirement already satisfied: pytz>=2011k in c:\\users\\tnivo\\anaconda3\\lib\\site-packages (from pandas>=0.24.2->mlxtend) (2018.9)\n",
      "Requirement already satisfied: cycler>=0.10 in c:\\users\\tnivo\\anaconda3\\lib\\site-packages (from matplotlib>=3.0.0->mlxtend) (0.10.0)\n",
      "Requirement already satisfied: kiwisolver>=1.0.1 in c:\\users\\tnivo\\anaconda3\\lib\\site-packages (from matplotlib>=3.0.0->mlxtend) (1.0.1)\n",
      "Requirement already satisfied: pyparsing!=2.0.4,!=2.1.2,!=2.1.6,>=2.0.1 in c:\\users\\tnivo\\anaconda3\\lib\\site-packages (from matplotlib>=3.0.0->mlxtend) (2.3.1)\n",
      "Requirement already satisfied: six>=1.5 in c:\\users\\tnivo\\anaconda3\\lib\\site-packages (from python-dateutil>=2.5.0->pandas>=0.24.2->mlxtend) (1.12.0)\n",
      "Installing collected packages: joblib, mlxtend\n",
      "Successfully installed joblib-0.14.0 mlxtend-0.17.0\n"
     ]
    }
   ],
   "source": [
    "#!pip install mlxtend"
   ]
  },
  {
   "cell_type": "code",
   "execution_count": 194,
   "metadata": {},
   "outputs": [
    {
     "name": "stdout",
     "output_type": "stream",
     "text": [
      "Collecting xgboost\n",
      "  Downloading https://files.pythonhosted.org/packages/5e/49/b95c037b717b4ceadc76b6e164603471225c27052d1611d5a2e832757945/xgboost-0.90-py2.py3-none-win_amd64.whl (18.3MB)\n",
      "Requirement already satisfied: numpy in c:\\users\\tnivo\\anaconda3\\lib\\site-packages (from xgboost) (1.16.2)\n",
      "Requirement already satisfied: scipy in c:\\users\\tnivo\\anaconda3\\lib\\site-packages (from xgboost) (1.2.1)\n",
      "Installing collected packages: xgboost\n",
      "Successfully installed xgboost-0.90\n"
     ]
    }
   ],
   "source": [
    "#!pip install xgboost"
   ]
  },
  {
   "cell_type": "code",
   "execution_count": 255,
   "metadata": {},
   "outputs": [],
   "source": [
    "import pandas as pd\n",
    "import numpy as np\n",
    "import math\n",
    "import matplotlib.pyplot as plt\n",
    "from sklearn.linear_model import Lasso\n",
    "from sklearn.linear_model import LinearRegression\n",
    "import seaborn as sns\n",
    "from scipy import stats\n",
    "from sklearn.model_selection import train_test_split\n",
    "plt.style.use('ggplot')\n",
    "from sklearn.model_selection import KFold\n",
    "from sklearn.metrics import mean_squared_error\n",
    "from sklearn.metrics import mean_squared_log_error\n",
    "from sklearn import linear_model\n",
    "import sklearn.model_selection as ms\n",
    "from sklearn.pipeline import make_pipeline\n",
    "from sklearn.preprocessing import RobustScaler\n",
    "from sklearn.model_selection import cross_val_score\n",
    "from mlxtend.regressor import StackingCVRegressor\n",
    "from sklearn.ensemble import GradientBoostingRegressor\n",
    "from xgboost import XGBRegressor\n",
    "from sklearn.ensemble import RandomForestRegressor"
   ]
  },
  {
   "cell_type": "markdown",
   "metadata": {},
   "source": [
    "<p><a name=\"function_def\"></a></p>\n",
    "\n",
    "## Function and Class Definitions\n"
   ]
  },
  {
   "cell_type": "code",
   "execution_count": 2,
   "metadata": {},
   "outputs": [],
   "source": [
    "def printErrors(Yt, predMod):\n",
    "    \"\"\"\n",
    "    This function takes the following inputs:\n",
    "    1. Yt = the trained predicted values\n",
    "    2. predMod = the prediction from the fitted model\n",
    "    It thens prints the errors for the model ie MAE, MSE, RMSLE\n",
    "    \"\"\"\n",
    "    errors = abs(np.expm1(predMod) - np.expm1(Yt))\n",
    "    print('Mean Absolute Error (MAE): $', round(np.mean(errors), 2))\n",
    "    print('Mean Squared Error (MSE):', mean_squared_error(Yt, predMod))\n",
    "    print('Root Mean Square Error (RMSE):', np.sqrt(mean_squared_error(Yt, predMod)))\n",
    "    print('Root Mean Square Log Error (RMSLE):', np.sqrt(mean_squared_log_error(Yt, predMod)))\n",
    "    mape = 100 * (errors / np.expm1(Yt))\n",
    "    print('Mean Absolute Percent Error (MAPE):', round(np.mean(mape), 2), '%.')"
   ]
  },
  {
   "cell_type": "code",
   "execution_count": 3,
   "metadata": {},
   "outputs": [],
   "source": [
    "def printMod(Xtr,Xte,Ytr, Yte, modSel, modName):\n",
    "    \"\"\"\n",
    "    This function takes the following inputs:\n",
    "    1. Xtr,Xte,Ytr,Yte = X train data set, X test data set, Y train array, Y test array\n",
    "    2. modSel is the fitted model\n",
    "    3. modName is the model name used for plotting i.e. OLS, Lasso, Random Forest\n",
    "    It then creates a plot for test vs train predicted prices\n",
    "    \"\"\"\n",
    "    y_train_eNet = modSel.predict(Xtr)\n",
    "    y_test_eNet = modSel.predict(Xte)\n",
    "    # Plot predictions\n",
    "    plt.figure(figsize=(12,8))\n",
    "    plt.scatter(np.expm1(y_train_eNet), np.expm1(Ytr), c='black', marker=\"o\", s=15, label = \"Training data\")\n",
    "    plt.scatter(np.expm1(y_test_eNet), np.expm1(Yte), c='orange', marker='o', s=15, label = \"Test data\")\n",
    "    plt.title(modName + \" Model Train vs Test\", fontsize = 20)\n",
    "    plt.xlabel(\"Predicted Prices\", fontsize = 16)\n",
    "    plt.ylabel(\"Actual Prices\", fontsize = 16)\n",
    "    plt.xlim(0, 800000)\n",
    "    plt.ylim(0, 800000)\n",
    "    plt.legend(loc = \"upper left\")\n",
    "    plt.plot([0, 800000], [0, 800000], c = \"grey\")\n",
    "    plt.show()"
   ]
  },
  {
   "cell_type": "code",
   "execution_count": 249,
   "metadata": {},
   "outputs": [],
   "source": [
    "def predictTocsv(modSel,df, title):\n",
    "    \"\"\"\n",
    "    Function takes selected model and creates CSV file\n",
    "    Function takes two inputs:\n",
    "    1. modSel = selected model used to create predictions\n",
    "    2. title = title for CSV\n",
    "    \"\"\"\n",
    "    pred = modSel.predict(df)\n",
    "    pred = np.expm1(predEnet)\n",
    "    ids = np.arange(1461,2920,1)\n",
    "    predfin = pd.DataFrame({'Id':ids,'SalePrice': pred})\n",
    "    predfin.to_csv(title + '.csv', index=False)"
   ]
  },
  {
   "cell_type": "code",
   "execution_count": null,
   "metadata": {},
   "outputs": [],
   "source": [
    "def rmse_stack(model):\n",
    "    \"\"\"\n",
    "    Perform kfold cross validation on stack model\n",
    "    k = 5\n",
    "    \"\"\"\n",
    "    kf = KFold(n_splits = 5, shuffle=True, random_state=20).get_n_splits(X_train)\n",
    "    rmse= np.sqrt(-cross_val_score(model, np.array(X_train), Y_train, scoring=\"neg_mean_squared_error\", cv = kf))\n",
    "    return(rmse)"
   ]
  },
  {
   "cell_type": "markdown",
   "metadata": {},
   "source": [
    "<p><a name=\"data_prep\"></a></p>\n",
    "\n",
    "## Data Preperation"
   ]
  },
  {
   "cell_type": "code",
   "execution_count": 171,
   "metadata": {},
   "outputs": [],
   "source": [
    "kfo = KFold(n_splits=5,shuffle = True, random_state = 32)"
   ]
  },
  {
   "cell_type": "markdown",
   "metadata": {},
   "source": [
    "#### Import Cleaned Data and split into Test and Train"
   ]
  },
  {
   "cell_type": "code",
   "execution_count": 393,
   "metadata": {},
   "outputs": [],
   "source": [
    "#change file name for import here\n",
    "fileName = \"try7\""
   ]
  },
  {
   "cell_type": "code",
   "execution_count": 394,
   "metadata": {},
   "outputs": [],
   "source": [
    "trainDFNew = pd.read_csv(fileName + '.csv', index_col = 0)"
   ]
  },
  {
   "cell_type": "code",
   "execution_count": 395,
   "metadata": {},
   "outputs": [],
   "source": [
    "X_n = trainDFNew.loc[:,trainDFNew.columns != 'ylogSalePrice'].copy()"
   ]
  },
  {
   "cell_type": "code",
   "execution_count": 396,
   "metadata": {},
   "outputs": [],
   "source": [
    "Y_n = trainDFNew['ylogSalePrice'].reset_index(drop=True)"
   ]
  },
  {
   "cell_type": "code",
   "execution_count": 397,
   "metadata": {},
   "outputs": [
    {
     "name": "stdout",
     "output_type": "stream",
     "text": [
      "train (1456, 287) y (1456,)\n"
     ]
    }
   ],
   "source": [
    "print('train', X_n.shape, 'y', Y_n.shape)"
   ]
  },
  {
   "cell_type": "code",
   "execution_count": 398,
   "metadata": {},
   "outputs": [],
   "source": [
    "X_train,X_test, Y_train,Y_test = train_test_split(X_n,Y_n, test_size = 0.3, random_state=31)"
   ]
  },
  {
   "cell_type": "code",
   "execution_count": 399,
   "metadata": {},
   "outputs": [
    {
     "name": "stdout",
     "output_type": "stream",
     "text": [
      "train (437, 287) y (1019, 287)\n"
     ]
    }
   ],
   "source": [
    "print('train', X_test.shape, 'y', X_train.shape)"
   ]
  },
  {
   "cell_type": "markdown",
   "metadata": {},
   "source": [
    "##### Check distribution of sale price after log transformation"
   ]
  },
  {
   "cell_type": "code",
   "execution_count": 147,
   "metadata": {},
   "outputs": [
    {
     "data": {
      "text/plain": [
       "(array([  3.,   2.,   0.,   0.,   2.,   3.,   6.,   6.,   3.,  18.,  33.,\n",
       "         30.,  36.,  80.,  93., 135., 156., 118., 128., 135.,  86.,  83.,\n",
       "         75.,  60.,  49.,  37.,  27.,  16.,  15.,  10.,   4.,   1.,   4.,\n",
       "          2.,   0.,   2.]),\n",
       " array([10.46027076, 10.54566531, 10.63105985, 10.71645439, 10.80184894,\n",
       "        10.88724348, 10.97263803, 11.05803257, 11.14342711, 11.22882166,\n",
       "        11.3142162 , 11.39961075, 11.48500529, 11.57039984, 11.65579438,\n",
       "        11.74118892, 11.82658347, 11.91197801, 11.99737256, 12.0827671 ,\n",
       "        12.16816165, 12.25355619, 12.33895073, 12.42434528, 12.50973982,\n",
       "        12.59513437, 12.68052891, 12.76592345, 12.851318  , 12.93671254,\n",
       "        13.02210709, 13.10750163, 13.19289618, 13.27829072, 13.36368526,\n",
       "        13.44907981, 13.53447435]),\n",
       " <a list of 36 Patch objects>)"
      ]
     },
     "execution_count": 147,
     "metadata": {},
     "output_type": "execute_result"
    },
    {
     "data": {
      "image/png": "[encoded data removed]",
      "text/plain": [
       "<Figure size 432x288 with 1 Axes>"
      ]
     },
     "metadata": {},
     "output_type": "display_data"
    }
   ],
   "source": [
    "plt.hist(trainDFNew['ylogSalePrice'], color = 'blue', edgecolor = 'black', bins = int(180/5))\n"
   ]
  },
  {
   "cell_type": "code",
   "execution_count": 11,
   "metadata": {},
   "outputs": [
    {
     "data": {
      "text/plain": [
       "Text(0.5, 1.0, 'Probplot against normal dist')"
      ]
     },
     "execution_count": 11,
     "metadata": {},
     "output_type": "execute_result"
    },
    {
     "data": {
      "image/png": "[encoded data removed]",
      "text/plain": [
       "<Figure size 432x288 with 1 Axes>"
      ]
     },
     "metadata": {
      "needs_background": "light"
     },
     "output_type": "display_data"
    }
   ],
   "source": [
    "fig = plt.figure()\n",
    "ax1 = fig.add_subplot(211)\n",
    "prob = stats.probplot(trainDFNew['ylogSalePrice'], dist=stats.norm,plot = ax1)\n",
    "ax1.set_xlabel = ''\n",
    "ax1.set_title('Probplot against normal dist')\n"
   ]
  },
  {
   "cell_type": "code",
   "execution_count": 135,
   "metadata": {
    "collapsed": true
   },
   "outputs": [
    {
     "ename": "ValueError",
     "evalue": "test_size=0 should be either positive and smaller than the number of samples 1458 or a float in the (0, 1) range",
     "output_type": "error",
     "traceback": [
      "\u001b[1;31m---------------------------------------------------------------------------\u001b[0m",
      "\u001b[1;31mValueError\u001b[0m                                Traceback (most recent call last)",
      "\u001b[1;32m<ipython-input-135-9bda10656ca8>\u001b[0m in \u001b[0;36m<module>\u001b[1;34m\u001b[0m\n\u001b[1;32m----> 1\u001b[1;33m \u001b[0mX_train\u001b[0m\u001b[1;33m,\u001b[0m\u001b[0mX_test\u001b[0m\u001b[1;33m,\u001b[0m \u001b[0mY_train\u001b[0m\u001b[1;33m,\u001b[0m\u001b[0mY_test\u001b[0m \u001b[1;33m=\u001b[0m \u001b[0mtrain_test_split\u001b[0m\u001b[1;33m(\u001b[0m\u001b[0mX_n\u001b[0m\u001b[1;33m,\u001b[0m\u001b[0mY_n\u001b[0m\u001b[1;33m,\u001b[0m \u001b[0mtest_size\u001b[0m \u001b[1;33m=\u001b[0m \u001b[1;36m0\u001b[0m\u001b[1;33m,\u001b[0m \u001b[0mrandom_state\u001b[0m\u001b[1;33m=\u001b[0m\u001b[1;36m0\u001b[0m\u001b[1;33m)\u001b[0m\u001b[1;33m\u001b[0m\u001b[1;33m\u001b[0m\u001b[0m\n\u001b[0m",
      "\u001b[1;32m~\\AppData\\Local\\Continuum\\anaconda3\\lib\\site-packages\\sklearn\\model_selection\\_split.py\u001b[0m in \u001b[0;36mtrain_test_split\u001b[1;34m(*arrays, **options)\u001b[0m\n\u001b[0;32m   2098\u001b[0m     \u001b[0mn_samples\u001b[0m \u001b[1;33m=\u001b[0m \u001b[0m_num_samples\u001b[0m\u001b[1;33m(\u001b[0m\u001b[0marrays\u001b[0m\u001b[1;33m[\u001b[0m\u001b[1;36m0\u001b[0m\u001b[1;33m]\u001b[0m\u001b[1;33m)\u001b[0m\u001b[1;33m\u001b[0m\u001b[1;33m\u001b[0m\u001b[0m\n\u001b[0;32m   2099\u001b[0m     n_train, n_test = _validate_shuffle_split(n_samples, test_size, train_size,\n\u001b[1;32m-> 2100\u001b[1;33m                                               default_test_size=0.25)\n\u001b[0m\u001b[0;32m   2101\u001b[0m \u001b[1;33m\u001b[0m\u001b[0m\n\u001b[0;32m   2102\u001b[0m     \u001b[1;32mif\u001b[0m \u001b[0mshuffle\u001b[0m \u001b[1;32mis\u001b[0m \u001b[1;32mFalse\u001b[0m\u001b[1;33m:\u001b[0m\u001b[1;33m\u001b[0m\u001b[1;33m\u001b[0m\u001b[0m\n",
      "\u001b[1;32m~\\AppData\\Local\\Continuum\\anaconda3\\lib\\site-packages\\sklearn\\model_selection\\_split.py\u001b[0m in \u001b[0;36m_validate_shuffle_split\u001b[1;34m(n_samples, test_size, train_size, default_test_size)\u001b[0m\n\u001b[0;32m   1732\u001b[0m         raise ValueError('test_size={0} should be either positive and smaller'\n\u001b[0;32m   1733\u001b[0m                          \u001b[1;34m' than the number of samples {1} or a float in the '\u001b[0m\u001b[1;33m\u001b[0m\u001b[1;33m\u001b[0m\u001b[0m\n\u001b[1;32m-> 1734\u001b[1;33m                          '(0, 1) range'.format(test_size, n_samples))\n\u001b[0m\u001b[0;32m   1735\u001b[0m \u001b[1;33m\u001b[0m\u001b[0m\n\u001b[0;32m   1736\u001b[0m     if (train_size_type == 'i' and (train_size >= n_samples or train_size <= 0)\n",
      "\u001b[1;31mValueError\u001b[0m: test_size=0 should be either positive and smaller than the number of samples 1458 or a float in the (0, 1) range"
     ]
    }
   ],
   "source": [
    "#X_train,X_test, Y_train,Y_test = train_test_split(X_n,Y_n, test_size = 0, random_state=0)"
   ]
  },
  {
   "cell_type": "code",
   "execution_count": 32,
   "metadata": {},
   "outputs": [
    {
     "name": "stdout",
     "output_type": "stream",
     "text": [
      "train (1019, 244) y (437, 244)\n"
     ]
    }
   ],
   "source": [
    "print('train', X_train.shape, 'y', X_test.shape)"
   ]
  },
  {
   "cell_type": "code",
   "execution_count": 409,
   "metadata": {
    "scrolled": true
   },
   "outputs": [
    {
     "data": {
      "text/plain": [
       "Lasso(alpha=1.0, copy_X=True, fit_intercept=True, max_iter=1000,\n",
       "   normalize=True, positive=False, precompute=False, random_state=28,\n",
       "   selection='cyclic', tol=0.0001, warm_start=False)"
      ]
     },
     "execution_count": 409,
     "metadata": {},
     "output_type": "execute_result"
    }
   ],
   "source": [
    "lasMod = linear_model.Lasso(normalize=True)\n",
    "lasMod = lasMod.set_params(random_state = 28, tol = 0.0001)\n",
    "#lasMod.fit(X_train,Y_train)\n",
    "lasMod.fit(X_train,Y_train)"
   ]
  },
  {
   "cell_type": "code",
   "execution_count": 402,
   "metadata": {},
   "outputs": [
    {
     "data": {
      "text/plain": [
       "Pipeline(memory=None,\n",
       "     steps=[('robustscaler', RobustScaler(copy=True, quantile_range=(25.0, 75.0), with_centering=True,\n",
       "       with_scaling=True)), ('lasso', Lasso(alpha=1.0, copy_X=True, fit_intercept=True, max_iter=1000,\n",
       "   normalize=True, positive=False, precompute=False, random_state=28,\n",
       "   selection='cyclic', tol=0.0, warm_start=False))])"
      ]
     },
     "execution_count": 402,
     "metadata": {},
     "output_type": "execute_result"
    }
   ],
   "source": [
    "#lasMod = make_pipeline(RobustScaler(),linear_model.Lasso(normalize=True, random_state = 28, tol = 0.000))\n",
    "#lasMod = lasMod.set_params(random_state = 28, tol = 0.0001)\n",
    "#lasMod.fit(X_train,Y_train)\n",
    "#lasMod.fit(X_train,Y_train)"
   ]
  },
  {
   "cell_type": "markdown",
   "metadata": {},
   "source": [
    "<p><a name=\"lasso\"></a></p>\n",
    "\n",
    "## Lasso"
   ]
  },
  {
   "cell_type": "code",
   "execution_count": 410,
   "metadata": {},
   "outputs": [],
   "source": [
    "lasso_pred = lasMod.predict(X_train)"
   ]
  },
  {
   "cell_type": "code",
   "execution_count": 411,
   "metadata": {},
   "outputs": [
    {
     "name": "stdout",
     "output_type": "stream",
     "text": [
      "Mean Absolute Error (MAE): $ 54856.96\n",
      "Mean Squared Error (MSE): 0.1568088330950445\n",
      "Root Mean Square Error (RMSE): 0.3959909507741869\n",
      "Root Mean Square Log Error (RMSLE): 0.03039143052246651\n",
      "Mean Absolute Percent Error (MAPE): 31.99 %.\n"
     ]
    }
   ],
   "source": [
    "printErrors(Y_train,lasso_pred)"
   ]
  },
  {
   "cell_type": "code",
   "execution_count": 412,
   "metadata": {},
   "outputs": [],
   "source": [
    "#set range for alphas in cross validation and set parameter grid for gridsearch cv \n",
    "#note iteration parameters very sensitive for convergence, needed to increase\n",
    "alphaRange = 100**np.linspace(10,-2,1000)*0.5\n",
    "param_grid_lasso = {\"max_iter\": [500, 1000, 1500],\n",
    "                     \"alpha\": alphaRange}"
   ]
  },
  {
   "cell_type": "code",
   "execution_count": 142,
   "metadata": {},
   "outputs": [],
   "source": [
    "def rmse_cv(model):\n",
    "    kf = KFold(n_splits = 5, shuffle=True, random_state=42).get_n_splits(X_train)\n",
    "    rmse= np.sqrt(-cross_val_score(model, X_train, Y_train, scoring=\"neg_mean_squared_error\", cv = kf))\n",
    "    return(rmse)"
   ]
  },
  {
   "cell_type": "code",
   "execution_count": 143,
   "metadata": {},
   "outputs": [
    {
     "data": {
      "text/plain": [
       "array([0.38345776, 0.38048712, 0.4013255 , 0.41107391, 0.40430592])"
      ]
     },
     "execution_count": 143,
     "metadata": {},
     "output_type": "execute_result"
    }
   ],
   "source": [
    "rmse_cv(lasMod)"
   ]
  },
  {
   "cell_type": "code",
   "execution_count": 413,
   "metadata": {},
   "outputs": [],
   "source": [
    "#played with Kfo = 5 and 10, 10 performs better\n",
    "grid_search_lasso = ms.GridSearchCV(lasMod, param_grid_lasso, scoring= 'neg_mean_squared_error', \n",
    "                                    cv= kfo, n_jobs=-1, return_train_score = True)\n",
    "\n",
    "\n"
   ]
  },
  {
   "cell_type": "code",
   "execution_count": 414,
   "metadata": {},
   "outputs": [
    {
     "name": "stdout",
     "output_type": "stream",
     "text": [
      "Wall time: 2min 25s\n"
     ]
    },
    {
     "data": {
      "text/plain": [
       "GridSearchCV(cv=KFold(n_splits=5, random_state=32, shuffle=True),\n",
       "       error_score='raise-deprecating',\n",
       "       estimator=Lasso(alpha=1.0, copy_X=True, fit_intercept=True, max_iter=1000,\n",
       "   normalize=True, positive=False, precompute=False, random_state=28,\n",
       "   selection='cyclic', tol=0.0001, warm_start=False),\n",
       "       fit_params=None, iid='warn', n_jobs=-1,\n",
       "       param_grid={'max_iter': [500, 1000, 1500], 'alpha': array([5.00000e+19, 4.73092e+19, ..., 5.28438e-05, 5.00000e-05])},\n",
       "       pre_dispatch='2*n_jobs', refit=True, return_train_score=True,\n",
       "       scoring='neg_mean_squared_error', verbose=0)"
      ]
     },
     "execution_count": 414,
     "metadata": {},
     "output_type": "execute_result"
    }
   ],
   "source": [
    "%time grid_search_lasso.fit(X_train, Y_train)"
   ]
  },
  {
   "cell_type": "code",
   "execution_count": 415,
   "metadata": {},
   "outputs": [
    {
     "data": {
      "text/plain": [
       "{'alpha': 8.693812001081253e-05, 'max_iter': 500}"
      ]
     },
     "execution_count": 415,
     "metadata": {},
     "output_type": "execute_result"
    }
   ],
   "source": [
    "grid_search_lasso.best_params_"
   ]
  },
  {
   "cell_type": "code",
   "execution_count": 416,
   "metadata": {},
   "outputs": [],
   "source": [
    "grid_lasso = grid_search_lasso.best_estimator_"
   ]
  },
  {
   "cell_type": "code",
   "execution_count": 417,
   "metadata": {},
   "outputs": [
    {
     "name": "stdout",
     "output_type": "stream",
     "text": [
      "The train set R^2 is: 0.94703\n",
      "The test set R^2 is is: 0.90006\n"
     ]
    }
   ],
   "source": [
    "print(\"The train set R^2 is: %.5f\" % grid_lasso.score(X_train, Y_train))\n",
    "print(\"The test set R^2 is is: %.5f\" % grid_lasso.score(X_test, Y_test))"
   ]
  },
  {
   "cell_type": "code",
   "execution_count": 418,
   "metadata": {
    "scrolled": true
   },
   "outputs": [
    {
     "name": "stdout",
     "output_type": "stream",
     "text": [
      "Mean Absolute Error (MAE): $ 13535.59\n",
      "Mean Squared Error (MSE): 0.015620883390384427\n",
      "Root Mean Square Error (RMSE): 0.12498353247682042\n",
      "Root Mean Square Log Error (RMSLE): 0.009870708974745592\n",
      "Mean Absolute Percent Error (MAPE): 8.26 %.\n"
     ]
    }
   ],
   "source": [
    "#Prediction with tuned hyperparameters\n",
    "grid_lasso_pred = grid_lasso.predict(X_test)\n",
    "printErrors(Y_test,grid_lasso_pred)"
   ]
  },
  {
   "cell_type": "markdown",
   "metadata": {},
   "source": [
    "<p><a name=\"data_vis_las\"></a></p>\n",
    "\n",
    "### Lasso Data Visualization"
   ]
  },
  {
   "cell_type": "code",
   "execution_count": 419,
   "metadata": {},
   "outputs": [
    {
     "data": {
      "image/png": "[encoded data removed]",
      "text/plain": [
       "<Figure size 864x576 with 1 Axes>"
      ]
     },
     "metadata": {},
     "output_type": "display_data"
    }
   ],
   "source": [
    "printMod(X_train,X_test,Y_train,Y_test,grid_lasso,\"Lasso\")"
   ]
  },
  {
   "cell_type": "markdown",
   "metadata": {},
   "source": [
    "<p><a name=\"fi_las\"></a></p>\n",
    "\n",
    "### Lasso Feature Importance"
   ]
  },
  {
   "cell_type": "code",
   "execution_count": 420,
   "metadata": {},
   "outputs": [
    {
     "name": "stdout",
     "output_type": "stream",
     "text": [
      "(111, 2)\n"
     ]
    },
    {
     "data": {
      "text/html": [
       "<div>\n",
       "<style scoped>\n",
       "    .dataframe tbody tr th:only-of-type {\n",
       "        vertical-align: middle;\n",
       "    }\n",
       "\n",
       "    .dataframe tbody tr th {\n",
       "        vertical-align: top;\n",
       "    }\n",
       "\n",
       "    .dataframe thead th {\n",
       "        text-align: right;\n",
       "    }\n",
       "</style>\n",
       "<table border=\"1\" class=\"dataframe\">\n",
       "  <thead>\n",
       "    <tr style=\"text-align: right;\">\n",
       "      <th></th>\n",
       "      <th>feature</th>\n",
       "      <th>coeff</th>\n",
       "    </tr>\n",
       "  </thead>\n",
       "  <tbody>\n",
       "    <tr>\n",
       "      <th>37</th>\n",
       "      <td>Street_Pave</td>\n",
       "      <td>0.267192</td>\n",
       "    </tr>\n",
       "    <tr>\n",
       "      <th>61</th>\n",
       "      <td>Condition2_PosA</td>\n",
       "      <td>0.100974</td>\n",
       "    </tr>\n",
       "    <tr>\n",
       "      <th>24</th>\n",
       "      <td>TotalSF</td>\n",
       "      <td>0.099275</td>\n",
       "    </tr>\n",
       "    <tr>\n",
       "      <th>207</th>\n",
       "      <td>SaleType_New</td>\n",
       "      <td>0.088355</td>\n",
       "    </tr>\n",
       "    <tr>\n",
       "      <th>136</th>\n",
       "      <td>BsmtQual_No</td>\n",
       "      <td>0.071090</td>\n",
       "    </tr>\n",
       "    <tr>\n",
       "      <th>87</th>\n",
       "      <td>RoofMatl_WdShngl</td>\n",
       "      <td>0.070322</td>\n",
       "    </tr>\n",
       "    <tr>\n",
       "      <th>12</th>\n",
       "      <td>GrLivArea</td>\n",
       "      <td>0.066679</td>\n",
       "    </tr>\n",
       "    <tr>\n",
       "      <th>28</th>\n",
       "      <td>Percent_BsmtF</td>\n",
       "      <td>0.064688</td>\n",
       "    </tr>\n",
       "    <tr>\n",
       "      <th>90</th>\n",
       "      <td>Exterior1st_BrkFace</td>\n",
       "      <td>0.061839</td>\n",
       "    </tr>\n",
       "    <tr>\n",
       "      <th>166</th>\n",
       "      <td>CentralAir_Y</td>\n",
       "      <td>0.060316</td>\n",
       "    </tr>\n",
       "    <tr>\n",
       "      <th>33</th>\n",
       "      <td>MSZoning_FV</td>\n",
       "      <td>0.059708</td>\n",
       "    </tr>\n",
       "    <tr>\n",
       "      <th>180</th>\n",
       "      <td>Functional_Typ</td>\n",
       "      <td>0.055755</td>\n",
       "    </tr>\n",
       "    <tr>\n",
       "      <th>142</th>\n",
       "      <td>BsmtExposure_Gd</td>\n",
       "      <td>0.055592</td>\n",
       "    </tr>\n",
       "    <tr>\n",
       "      <th>3</th>\n",
       "      <td>OverallQual</td>\n",
       "      <td>0.053102</td>\n",
       "    </tr>\n",
       "    <tr>\n",
       "      <th>52</th>\n",
       "      <td>Condition1_Norm</td>\n",
       "      <td>0.049446</td>\n",
       "    </tr>\n",
       "    <tr>\n",
       "      <th>211</th>\n",
       "      <td>SaleCondition_Normal</td>\n",
       "      <td>0.047441</td>\n",
       "    </tr>\n",
       "    <tr>\n",
       "      <th>54</th>\n",
       "      <td>Condition1_PosN</td>\n",
       "      <td>0.045075</td>\n",
       "    </tr>\n",
       "    <tr>\n",
       "      <th>18</th>\n",
       "      <td>GarageCars</td>\n",
       "      <td>0.041212</td>\n",
       "    </tr>\n",
       "    <tr>\n",
       "      <th>4</th>\n",
       "      <td>OverallCond</td>\n",
       "      <td>0.038243</td>\n",
       "    </tr>\n",
       "    <tr>\n",
       "      <th>161</th>\n",
       "      <td>Heating_Wall</td>\n",
       "      <td>0.036393</td>\n",
       "    </tr>\n",
       "    <tr>\n",
       "      <th>35</th>\n",
       "      <td>MSZoning_RL</td>\n",
       "      <td>0.026843</td>\n",
       "    </tr>\n",
       "    <tr>\n",
       "      <th>132</th>\n",
       "      <td>Foundation_Stone</td>\n",
       "      <td>0.026678</td>\n",
       "    </tr>\n",
       "    <tr>\n",
       "      <th>121</th>\n",
       "      <td>MasVnrType_Stone</td>\n",
       "      <td>0.024094</td>\n",
       "    </tr>\n",
       "    <tr>\n",
       "      <th>16</th>\n",
       "      <td>Fireplaces</td>\n",
       "      <td>0.023153</td>\n",
       "    </tr>\n",
       "    <tr>\n",
       "      <th>2</th>\n",
       "      <td>LotArea</td>\n",
       "      <td>0.022694</td>\n",
       "    </tr>\n",
       "    <tr>\n",
       "      <th>25</th>\n",
       "      <td>TotalBath</td>\n",
       "      <td>0.020882</td>\n",
       "    </tr>\n",
       "    <tr>\n",
       "      <th>206</th>\n",
       "      <td>PavedDrive_Y</td>\n",
       "      <td>0.018090</td>\n",
       "    </tr>\n",
       "    <tr>\n",
       "      <th>275</th>\n",
       "      <td>CrawforQual</td>\n",
       "      <td>0.017612</td>\n",
       "    </tr>\n",
       "    <tr>\n",
       "      <th>45</th>\n",
       "      <td>LotConfig_CulDSac</td>\n",
       "      <td>0.016762</td>\n",
       "    </tr>\n",
       "    <tr>\n",
       "      <th>130</th>\n",
       "      <td>Foundation_PConc</td>\n",
       "      <td>0.015743</td>\n",
       "    </tr>\n",
       "    <tr>\n",
       "      <th>...</th>\n",
       "      <td>...</td>\n",
       "      <td>...</td>\n",
       "    </tr>\n",
       "    <tr>\n",
       "      <th>155</th>\n",
       "      <td>BsmtFinType2_Rec</td>\n",
       "      <td>-0.005944</td>\n",
       "    </tr>\n",
       "    <tr>\n",
       "      <th>163</th>\n",
       "      <td>HeatingQC_Gd</td>\n",
       "      <td>-0.007471</td>\n",
       "    </tr>\n",
       "    <tr>\n",
       "      <th>149</th>\n",
       "      <td>BsmtFinType1_Rec</td>\n",
       "      <td>-0.008721</td>\n",
       "    </tr>\n",
       "    <tr>\n",
       "      <th>266</th>\n",
       "      <td>EdwardsQual</td>\n",
       "      <td>-0.008749</td>\n",
       "    </tr>\n",
       "    <tr>\n",
       "      <th>231</th>\n",
       "      <td>Neighborhood_OldTown</td>\n",
       "      <td>-0.009216</td>\n",
       "    </tr>\n",
       "    <tr>\n",
       "      <th>137</th>\n",
       "      <td>BsmtQual_TA</td>\n",
       "      <td>-0.009563</td>\n",
       "    </tr>\n",
       "    <tr>\n",
       "      <th>282</th>\n",
       "      <td>MeadowVQual</td>\n",
       "      <td>-0.011915</td>\n",
       "    </tr>\n",
       "    <tr>\n",
       "      <th>147</th>\n",
       "      <td>BsmtFinType1_LwQ</td>\n",
       "      <td>-0.012014</td>\n",
       "    </tr>\n",
       "    <tr>\n",
       "      <th>77</th>\n",
       "      <td>RoofStyle_Gable</td>\n",
       "      <td>-0.014007</td>\n",
       "    </tr>\n",
       "    <tr>\n",
       "      <th>93</th>\n",
       "      <td>Exterior1st_HdBoard</td>\n",
       "      <td>-0.014027</td>\n",
       "    </tr>\n",
       "    <tr>\n",
       "      <th>205</th>\n",
       "      <td>PavedDrive_P</td>\n",
       "      <td>-0.014656</td>\n",
       "    </tr>\n",
       "    <tr>\n",
       "      <th>135</th>\n",
       "      <td>BsmtQual_Gd</td>\n",
       "      <td>-0.015521</td>\n",
       "    </tr>\n",
       "    <tr>\n",
       "      <th>200</th>\n",
       "      <td>GarageCond_Fa</td>\n",
       "      <td>-0.016025</td>\n",
       "    </tr>\n",
       "    <tr>\n",
       "      <th>165</th>\n",
       "      <td>HeatingQC_TA</td>\n",
       "      <td>-0.016702</td>\n",
       "    </tr>\n",
       "    <tr>\n",
       "      <th>47</th>\n",
       "      <td>LotConfig_FR3</td>\n",
       "      <td>-0.017500</td>\n",
       "    </tr>\n",
       "    <tr>\n",
       "      <th>225</th>\n",
       "      <td>Neighborhood_Mitchel</td>\n",
       "      <td>-0.020185</td>\n",
       "    </tr>\n",
       "    <tr>\n",
       "      <th>173</th>\n",
       "      <td>KitchenQual_Gd</td>\n",
       "      <td>-0.021503</td>\n",
       "    </tr>\n",
       "    <tr>\n",
       "      <th>68</th>\n",
       "      <td>BldgType_Twnhs</td>\n",
       "      <td>-0.025384</td>\n",
       "    </tr>\n",
       "    <tr>\n",
       "      <th>174</th>\n",
       "      <td>KitchenQual_TA</td>\n",
       "      <td>-0.027048</td>\n",
       "    </tr>\n",
       "    <tr>\n",
       "      <th>64</th>\n",
       "      <td>Condition2_RRAn</td>\n",
       "      <td>-0.036614</td>\n",
       "    </tr>\n",
       "    <tr>\n",
       "      <th>85</th>\n",
       "      <td>RoofMatl_Tar&amp;Grv</td>\n",
       "      <td>-0.037336</td>\n",
       "    </tr>\n",
       "    <tr>\n",
       "      <th>55</th>\n",
       "      <td>Condition1_RRAe</td>\n",
       "      <td>-0.051110</td>\n",
       "    </tr>\n",
       "    <tr>\n",
       "      <th>223</th>\n",
       "      <td>Neighborhood_IDOTRR</td>\n",
       "      <td>-0.055375</td>\n",
       "    </tr>\n",
       "    <tr>\n",
       "      <th>14</th>\n",
       "      <td>KitchenAbvGr</td>\n",
       "      <td>-0.068023</td>\n",
       "    </tr>\n",
       "    <tr>\n",
       "      <th>189</th>\n",
       "      <td>GarageType_CarPort</td>\n",
       "      <td>-0.073473</td>\n",
       "    </tr>\n",
       "    <tr>\n",
       "      <th>50</th>\n",
       "      <td>LandSlope_Sev</td>\n",
       "      <td>-0.082752</td>\n",
       "    </tr>\n",
       "    <tr>\n",
       "      <th>175</th>\n",
       "      <td>Functional_Maj2</td>\n",
       "      <td>-0.116686</td>\n",
       "    </tr>\n",
       "    <tr>\n",
       "      <th>133</th>\n",
       "      <td>Foundation_Wood</td>\n",
       "      <td>-0.146059</td>\n",
       "    </tr>\n",
       "    <tr>\n",
       "      <th>179</th>\n",
       "      <td>Functional_Sev</td>\n",
       "      <td>-0.218855</td>\n",
       "    </tr>\n",
       "    <tr>\n",
       "      <th>89</th>\n",
       "      <td>Exterior1st_BrkComm</td>\n",
       "      <td>-0.427543</td>\n",
       "    </tr>\n",
       "  </tbody>\n",
       "</table>\n",
       "<p>111 rows × 2 columns</p>\n",
       "</div>"
      ],
      "text/plain": [
       "                  feature     coeff\n",
       "37            Street_Pave  0.267192\n",
       "61        Condition2_PosA  0.100974\n",
       "24                TotalSF  0.099275\n",
       "207          SaleType_New  0.088355\n",
       "136           BsmtQual_No  0.071090\n",
       "87       RoofMatl_WdShngl  0.070322\n",
       "12              GrLivArea  0.066679\n",
       "28          Percent_BsmtF  0.064688\n",
       "90    Exterior1st_BrkFace  0.061839\n",
       "166          CentralAir_Y  0.060316\n",
       "33            MSZoning_FV  0.059708\n",
       "180        Functional_Typ  0.055755\n",
       "142       BsmtExposure_Gd  0.055592\n",
       "3             OverallQual  0.053102\n",
       "52        Condition1_Norm  0.049446\n",
       "211  SaleCondition_Normal  0.047441\n",
       "54        Condition1_PosN  0.045075\n",
       "18             GarageCars  0.041212\n",
       "4             OverallCond  0.038243\n",
       "161          Heating_Wall  0.036393\n",
       "35            MSZoning_RL  0.026843\n",
       "132      Foundation_Stone  0.026678\n",
       "121      MasVnrType_Stone  0.024094\n",
       "16             Fireplaces  0.023153\n",
       "2                 LotArea  0.022694\n",
       "25              TotalBath  0.020882\n",
       "206          PavedDrive_Y  0.018090\n",
       "275           CrawforQual  0.017612\n",
       "45      LotConfig_CulDSac  0.016762\n",
       "130      Foundation_PConc  0.015743\n",
       "..                    ...       ...\n",
       "155      BsmtFinType2_Rec -0.005944\n",
       "163          HeatingQC_Gd -0.007471\n",
       "149      BsmtFinType1_Rec -0.008721\n",
       "266           EdwardsQual -0.008749\n",
       "231  Neighborhood_OldTown -0.009216\n",
       "137           BsmtQual_TA -0.009563\n",
       "282           MeadowVQual -0.011915\n",
       "147      BsmtFinType1_LwQ -0.012014\n",
       "77        RoofStyle_Gable -0.014007\n",
       "93    Exterior1st_HdBoard -0.014027\n",
       "205          PavedDrive_P -0.014656\n",
       "135           BsmtQual_Gd -0.015521\n",
       "200         GarageCond_Fa -0.016025\n",
       "165          HeatingQC_TA -0.016702\n",
       "47          LotConfig_FR3 -0.017500\n",
       "225  Neighborhood_Mitchel -0.020185\n",
       "173        KitchenQual_Gd -0.021503\n",
       "68         BldgType_Twnhs -0.025384\n",
       "174        KitchenQual_TA -0.027048\n",
       "64        Condition2_RRAn -0.036614\n",
       "85       RoofMatl_Tar&Grv -0.037336\n",
       "55        Condition1_RRAe -0.051110\n",
       "223   Neighborhood_IDOTRR -0.055375\n",
       "14           KitchenAbvGr -0.068023\n",
       "189    GarageType_CarPort -0.073473\n",
       "50          LandSlope_Sev -0.082752\n",
       "175       Functional_Maj2 -0.116686\n",
       "133       Foundation_Wood -0.146059\n",
       "179        Functional_Sev -0.218855\n",
       "89    Exterior1st_BrkComm -0.427543\n",
       "\n",
       "[111 rows x 2 columns]"
      ]
     },
     "execution_count": 420,
     "metadata": {},
     "output_type": "execute_result"
    }
   ],
   "source": [
    "coeff = pd.DataFrame({\"feature\":X_train.columns,\"coeff\":grid_lasso.coef_})\n",
    "coeff = coeff.sort_values(by = 'coeff', ascending = False)\n",
    "\n",
    "print(coeff[coeff.coeff!=0].shape)\n",
    "mod_=coeff[coeff.coeff!=0]\n",
    "mod_"
   ]
  },
  {
   "cell_type": "code",
   "execution_count": 421,
   "metadata": {},
   "outputs": [],
   "source": [
    "dfList = mod_['feature'].tolist()"
   ]
  },
  {
   "cell_type": "code",
   "execution_count": 422,
   "metadata": {},
   "outputs": [
    {
     "data": {
      "text/plain": [
       "['Street_Pave',\n",
       " 'Condition2_PosA',\n",
       " 'TotalSF',\n",
       " 'SaleType_New',\n",
       " 'BsmtQual_No',\n",
       " 'RoofMatl_WdShngl',\n",
       " 'GrLivArea',\n",
       " 'Percent_BsmtF',\n",
       " 'Exterior1st_BrkFace',\n",
       " 'CentralAir_Y',\n",
       " 'MSZoning_FV',\n",
       " 'Functional_Typ',\n",
       " 'BsmtExposure_Gd',\n",
       " 'OverallQual',\n",
       " 'Condition1_Norm',\n",
       " 'SaleCondition_Normal',\n",
       " 'Condition1_PosN',\n",
       " 'GarageCars',\n",
       " 'OverallCond',\n",
       " 'Heating_Wall',\n",
       " 'MSZoning_RL',\n",
       " 'Foundation_Stone',\n",
       " 'MasVnrType_Stone',\n",
       " 'Fireplaces',\n",
       " 'LotArea',\n",
       " 'TotalBath',\n",
       " 'PavedDrive_Y',\n",
       " 'CrawforQual',\n",
       " 'LotConfig_CulDSac',\n",
       " 'Foundation_PConc',\n",
       " 'FireplaceQu_Po',\n",
       " 'NridgHtQual',\n",
       " 'Neighborhood_ClearCr',\n",
       " 'NoRidgeQual',\n",
       " 'LotShape_IR2',\n",
       " 'ExterCond_TA',\n",
       " 'LandSlope_Mod',\n",
       " 'GarageType_BuiltIn',\n",
       " 'BrkSideQual',\n",
       " 'Neighborhood_SWISU',\n",
       " 'Exterior2nd_CmentBd',\n",
       " 'BsmtFinType1_GLQ',\n",
       " 'StoneBrQual',\n",
       " 'StoneBrSF',\n",
       " 'GarageArea',\n",
       " 'RoofStyle_Mansard',\n",
       " 'TotalPorchSF',\n",
       " 'BsmtCond_No',\n",
       " 'YearBuilt',\n",
       " 'HouseStyle_1.5Unf',\n",
       " 'Exterior2nd_VinylSd',\n",
       " 'SomerstSF',\n",
       " 'Heating_GasW',\n",
       " 'BsmtFinSF1',\n",
       " 'totNewcity',\n",
       " 'BsmtFinType1_No',\n",
       " 'BsmtCond_TA',\n",
       " 'isNew',\n",
       " 'BsmtFinType2_No',\n",
       " 'RoofMatl_Membran',\n",
       " 'YearRemodAdd',\n",
       " 'TotRmsAbvGrd',\n",
       " 'LotConfig_FR2',\n",
       " 'MiscVal',\n",
       " 'MSSubClass',\n",
       " 'YrSoldMinRem',\n",
       " 'GarageFinish_RFn',\n",
       " 'MoSold',\n",
       " 'NWAmesQual',\n",
       " 'NAmesQual',\n",
       " 'Foundation_CBlock',\n",
       " 'Exterior2nd_Plywood',\n",
       " 'Functional_Min1',\n",
       " 'Condition2_Feedr',\n",
       " 'Electrical_FuseA',\n",
       " 'Heating_OthW',\n",
       " 'HeatingQC_Fa',\n",
       " 'BsmtExposure_No',\n",
       " 'BldgType_2fmCon',\n",
       " 'Exterior1st_Wd Sdng',\n",
       " 'BedroomAbvGr',\n",
       " 'BsmtFinType2_Rec',\n",
       " 'HeatingQC_Gd',\n",
       " 'BsmtFinType1_Rec',\n",
       " 'EdwardsQual',\n",
       " 'Neighborhood_OldTown',\n",
       " 'BsmtQual_TA',\n",
       " 'MeadowVQual',\n",
       " 'BsmtFinType1_LwQ',\n",
       " 'RoofStyle_Gable',\n",
       " 'Exterior1st_HdBoard',\n",
       " 'PavedDrive_P',\n",
       " 'BsmtQual_Gd',\n",
       " 'GarageCond_Fa',\n",
       " 'HeatingQC_TA',\n",
       " 'LotConfig_FR3',\n",
       " 'Neighborhood_Mitchel',\n",
       " 'KitchenQual_Gd',\n",
       " 'BldgType_Twnhs',\n",
       " 'KitchenQual_TA',\n",
       " 'Condition2_RRAn',\n",
       " 'RoofMatl_Tar&Grv',\n",
       " 'Condition1_RRAe',\n",
       " 'Neighborhood_IDOTRR',\n",
       " 'KitchenAbvGr',\n",
       " 'GarageType_CarPort',\n",
       " 'LandSlope_Sev',\n",
       " 'Functional_Maj2',\n",
       " 'Foundation_Wood',\n",
       " 'Functional_Sev',\n",
       " 'Exterior1st_BrkComm']"
      ]
     },
     "execution_count": 422,
     "metadata": {},
     "output_type": "execute_result"
    }
   ],
   "source": [
    "dfList"
   ]
  },
  {
   "cell_type": "code",
   "execution_count": 423,
   "metadata": {},
   "outputs": [
    {
     "data": {
      "text/html": [
       "<div>\n",
       "<style scoped>\n",
       "    .dataframe tbody tr th:only-of-type {\n",
       "        vertical-align: middle;\n",
       "    }\n",
       "\n",
       "    .dataframe tbody tr th {\n",
       "        vertical-align: top;\n",
       "    }\n",
       "\n",
       "    .dataframe thead th {\n",
       "        text-align: right;\n",
       "    }\n",
       "</style>\n",
       "<table border=\"1\" class=\"dataframe\">\n",
       "  <thead>\n",
       "    <tr style=\"text-align: right;\">\n",
       "      <th></th>\n",
       "      <th>MSSubClass</th>\n",
       "      <th>LotFrontage</th>\n",
       "      <th>LotArea</th>\n",
       "      <th>OverallQual</th>\n",
       "      <th>OverallCond</th>\n",
       "      <th>YearBuilt</th>\n",
       "      <th>YearRemodAdd</th>\n",
       "      <th>MasVnrArea</th>\n",
       "      <th>BsmtFinSF1</th>\n",
       "      <th>BsmtFinSF2</th>\n",
       "      <th>...</th>\n",
       "      <th>TimberQual</th>\n",
       "      <th>NoRidgeQual</th>\n",
       "      <th>StoneBrQual</th>\n",
       "      <th>SWISUQual</th>\n",
       "      <th>ClearCrQual</th>\n",
       "      <th>MeadowVQual</th>\n",
       "      <th>BrDaleual</th>\n",
       "      <th>VeenkerQual</th>\n",
       "      <th>NPkVillQual</th>\n",
       "      <th>BluesteQual</th>\n",
       "    </tr>\n",
       "  </thead>\n",
       "  <tbody>\n",
       "    <tr>\n",
       "      <th>5.000000e+19</th>\n",
       "      <td>-0.0</td>\n",
       "      <td>0.0</td>\n",
       "      <td>0.0</td>\n",
       "      <td>0.0</td>\n",
       "      <td>-0.0</td>\n",
       "      <td>0.0</td>\n",
       "      <td>0.0</td>\n",
       "      <td>0.0</td>\n",
       "      <td>0.0</td>\n",
       "      <td>-0.0</td>\n",
       "      <td>...</td>\n",
       "      <td>0.0</td>\n",
       "      <td>0.0</td>\n",
       "      <td>0.0</td>\n",
       "      <td>-0.0</td>\n",
       "      <td>0.0</td>\n",
       "      <td>-0.0</td>\n",
       "      <td>-0.0</td>\n",
       "      <td>0.0</td>\n",
       "      <td>-0.0</td>\n",
       "      <td>-0.0</td>\n",
       "    </tr>\n",
       "    <tr>\n",
       "      <th>4.730924e+19</th>\n",
       "      <td>-0.0</td>\n",
       "      <td>0.0</td>\n",
       "      <td>0.0</td>\n",
       "      <td>0.0</td>\n",
       "      <td>-0.0</td>\n",
       "      <td>0.0</td>\n",
       "      <td>0.0</td>\n",
       "      <td>0.0</td>\n",
       "      <td>0.0</td>\n",
       "      <td>-0.0</td>\n",
       "      <td>...</td>\n",
       "      <td>0.0</td>\n",
       "      <td>0.0</td>\n",
       "      <td>0.0</td>\n",
       "      <td>-0.0</td>\n",
       "      <td>0.0</td>\n",
       "      <td>-0.0</td>\n",
       "      <td>-0.0</td>\n",
       "      <td>0.0</td>\n",
       "      <td>-0.0</td>\n",
       "      <td>-0.0</td>\n",
       "    </tr>\n",
       "    <tr>\n",
       "      <th>4.476329e+19</th>\n",
       "      <td>-0.0</td>\n",
       "      <td>0.0</td>\n",
       "      <td>0.0</td>\n",
       "      <td>0.0</td>\n",
       "      <td>-0.0</td>\n",
       "      <td>0.0</td>\n",
       "      <td>0.0</td>\n",
       "      <td>0.0</td>\n",
       "      <td>0.0</td>\n",
       "      <td>-0.0</td>\n",
       "      <td>...</td>\n",
       "      <td>0.0</td>\n",
       "      <td>0.0</td>\n",
       "      <td>0.0</td>\n",
       "      <td>-0.0</td>\n",
       "      <td>0.0</td>\n",
       "      <td>-0.0</td>\n",
       "      <td>-0.0</td>\n",
       "      <td>0.0</td>\n",
       "      <td>-0.0</td>\n",
       "      <td>-0.0</td>\n",
       "    </tr>\n",
       "    <tr>\n",
       "      <th>4.235434e+19</th>\n",
       "      <td>-0.0</td>\n",
       "      <td>0.0</td>\n",
       "      <td>0.0</td>\n",
       "      <td>0.0</td>\n",
       "      <td>-0.0</td>\n",
       "      <td>0.0</td>\n",
       "      <td>0.0</td>\n",
       "      <td>0.0</td>\n",
       "      <td>0.0</td>\n",
       "      <td>-0.0</td>\n",
       "      <td>...</td>\n",
       "      <td>0.0</td>\n",
       "      <td>0.0</td>\n",
       "      <td>0.0</td>\n",
       "      <td>-0.0</td>\n",
       "      <td>0.0</td>\n",
       "      <td>-0.0</td>\n",
       "      <td>-0.0</td>\n",
       "      <td>0.0</td>\n",
       "      <td>-0.0</td>\n",
       "      <td>-0.0</td>\n",
       "    </tr>\n",
       "    <tr>\n",
       "      <th>4.007503e+19</th>\n",
       "      <td>-0.0</td>\n",
       "      <td>0.0</td>\n",
       "      <td>0.0</td>\n",
       "      <td>0.0</td>\n",
       "      <td>-0.0</td>\n",
       "      <td>0.0</td>\n",
       "      <td>0.0</td>\n",
       "      <td>0.0</td>\n",
       "      <td>0.0</td>\n",
       "      <td>-0.0</td>\n",
       "      <td>...</td>\n",
       "      <td>0.0</td>\n",
       "      <td>0.0</td>\n",
       "      <td>0.0</td>\n",
       "      <td>-0.0</td>\n",
       "      <td>0.0</td>\n",
       "      <td>-0.0</td>\n",
       "      <td>-0.0</td>\n",
       "      <td>0.0</td>\n",
       "      <td>-0.0</td>\n",
       "      <td>-0.0</td>\n",
       "    </tr>\n",
       "  </tbody>\n",
       "</table>\n",
       "<p>5 rows × 287 columns</p>\n",
       "</div>"
      ],
      "text/plain": [
       "              MSSubClass  LotFrontage  LotArea  OverallQual  OverallCond  \\\n",
       "5.000000e+19        -0.0          0.0      0.0          0.0         -0.0   \n",
       "4.730924e+19        -0.0          0.0      0.0          0.0         -0.0   \n",
       "4.476329e+19        -0.0          0.0      0.0          0.0         -0.0   \n",
       "4.235434e+19        -0.0          0.0      0.0          0.0         -0.0   \n",
       "4.007503e+19        -0.0          0.0      0.0          0.0         -0.0   \n",
       "\n",
       "              YearBuilt  YearRemodAdd  MasVnrArea  BsmtFinSF1  BsmtFinSF2  \\\n",
       "5.000000e+19        0.0           0.0         0.0         0.0        -0.0   \n",
       "4.730924e+19        0.0           0.0         0.0         0.0        -0.0   \n",
       "4.476329e+19        0.0           0.0         0.0         0.0        -0.0   \n",
       "4.235434e+19        0.0           0.0         0.0         0.0        -0.0   \n",
       "4.007503e+19        0.0           0.0         0.0         0.0        -0.0   \n",
       "\n",
       "              ...  TimberQual  NoRidgeQual  StoneBrQual  SWISUQual  \\\n",
       "5.000000e+19  ...         0.0          0.0          0.0       -0.0   \n",
       "4.730924e+19  ...         0.0          0.0          0.0       -0.0   \n",
       "4.476329e+19  ...         0.0          0.0          0.0       -0.0   \n",
       "4.235434e+19  ...         0.0          0.0          0.0       -0.0   \n",
       "4.007503e+19  ...         0.0          0.0          0.0       -0.0   \n",
       "\n",
       "              ClearCrQual  MeadowVQual  BrDaleual  VeenkerQual  NPkVillQual  \\\n",
       "5.000000e+19          0.0         -0.0       -0.0          0.0         -0.0   \n",
       "4.730924e+19          0.0         -0.0       -0.0          0.0         -0.0   \n",
       "4.476329e+19          0.0         -0.0       -0.0          0.0         -0.0   \n",
       "4.235434e+19          0.0         -0.0       -0.0          0.0         -0.0   \n",
       "4.007503e+19          0.0         -0.0       -0.0          0.0         -0.0   \n",
       "\n",
       "              BluesteQual  \n",
       "5.000000e+19         -0.0  \n",
       "4.730924e+19         -0.0  \n",
       "4.476329e+19         -0.0  \n",
       "4.235434e+19         -0.0  \n",
       "4.007503e+19         -0.0  \n",
       "\n",
       "[5 rows x 287 columns]"
      ]
     },
     "execution_count": 423,
     "metadata": {},
     "output_type": "execute_result"
    }
   ],
   "source": [
    "coefs_lasso  = []\n",
    "\n",
    "for alpha in alphaRange:\n",
    "        grid_lasso.set_params(alpha=alpha)\n",
    "        grid_lasso.fit(X_train, Y_train)  \n",
    "        coefs_lasso.append(grid_lasso.coef_)\n",
    "\n",
    "coefs_lasso = pd.DataFrame(coefs_lasso, index = alphaRange, columns = X_train.columns)  \n",
    "coefs_lasso.head()"
   ]
  },
  {
   "cell_type": "code",
   "execution_count": 424,
   "metadata": {},
   "outputs": [
    {
     "data": {
      "image/png": "[encoded data removed]",
      "text/plain": [
       "<Figure size 432x288 with 1 Axes>"
      ]
     },
     "metadata": {},
     "output_type": "display_data"
    }
   ],
   "source": [
    "ax = plt.gca()\n",
    "\n",
    "ax.plot(alphaRange, coefs_lasso)\n",
    "ax.set_xscale('log')\n",
    "plt.xlabel('alpha')\n",
    "plt.ylabel('weights')\n",
    "plt.title('Lasso coefficients as a Function of Alpha')\n",
    "plt.axis('tight')\n",
    "plt.show()"
   ]
  },
  {
   "cell_type": "markdown",
   "metadata": {},
   "source": [
    "<p><a name=\"elastic_net\"></a></p>\n",
    "\n",
    "## Elastic Net"
   ]
  },
  {
   "cell_type": "code",
   "execution_count": 425,
   "metadata": {},
   "outputs": [
    {
     "data": {
      "text/plain": [
       "ElasticNet(alpha=1.0, copy_X=True, fit_intercept=True, l1_ratio=0.5,\n",
       "      max_iter=1000, normalize=True, positive=False, precompute=False,\n",
       "      random_state=42, selection='cyclic', tol=0.0001, warm_start=False)"
      ]
     },
     "execution_count": 425,
     "metadata": {},
     "output_type": "execute_result"
    }
   ],
   "source": [
    "eNet = linear_model.ElasticNet(normalize=True)\n",
    "eNet = eNet.set_params(random_state = 42)\n",
    "\n",
    "#fit baseline elastic net model on Train df\n",
    "eNet.fit(X_train,Y_train)"
   ]
  },
  {
   "cell_type": "code",
   "execution_count": 426,
   "metadata": {},
   "outputs": [],
   "source": [
    "# Initial prediction\n",
    "eNet_pred = eNet.predict(X_test)"
   ]
  },
  {
   "cell_type": "code",
   "execution_count": 427,
   "metadata": {},
   "outputs": [
    {
     "name": "stdout",
     "output_type": "stream",
     "text": [
      "Mean Absolute Error (MAE): $ 54970.62\n",
      "Mean Squared Error (MSE): 0.15683835587893585\n",
      "Root Mean Square Error (RMSE): 0.3960282261139171\n",
      "Root Mean Square Log Error (RMSLE): 0.03048574073025496\n",
      "Mean Absolute Percent Error (MAPE): 32.46 %.\n"
     ]
    }
   ],
   "source": [
    "printErrors(Y_test,eNet_pred)"
   ]
  },
  {
   "cell_type": "code",
   "execution_count": 428,
   "metadata": {},
   "outputs": [],
   "source": [
    "param_grid_eNet = {\"max_iter\": [500, 1000, 1500],\n",
    "                    \"alpha\": 100**np.linspace(10,-2,1000)*0.5,\n",
    "                    \"l1_ratio\": np.arange(0.0, 1.0, 0.1)}"
   ]
  },
  {
   "cell_type": "code",
   "execution_count": 429,
   "metadata": {},
   "outputs": [
    {
     "name": "stdout",
     "output_type": "stream",
     "text": [
      "Wall time: 1h 8min 53s\n"
     ]
    },
    {
     "data": {
      "text/plain": [
       "GridSearchCV(cv=KFold(n_splits=5, random_state=32, shuffle=True),\n",
       "       error_score='raise-deprecating',\n",
       "       estimator=ElasticNet(alpha=1.0, copy_X=True, fit_intercept=True, l1_ratio=0.5,\n",
       "      max_iter=1000, normalize=True, positive=False, precompute=False,\n",
       "      random_state=42, selection='cyclic', tol=0.0001, warm_start=False),\n",
       "       fit_params=None, iid='warn', n_jobs=-1,\n",
       "       param_grid={'max_iter': [500, 1000, 1500], 'alpha': array([5.00000e+19, 4.73092e+19, ..., 5.28438e-05, 5.00000e-05]), 'l1_ratio': array([0. , 0.1, 0.2, 0.3, 0.4, 0.5, 0.6, 0.7, 0.8, 0.9])},\n",
       "       pre_dispatch='2*n_jobs', refit=True, return_train_score=True,\n",
       "       scoring='neg_mean_squared_error', verbose=0)"
      ]
     },
     "execution_count": 429,
     "metadata": {},
     "output_type": "execute_result"
    }
   ],
   "source": [
    "grid_search_eNet = ms.GridSearchCV(eNet, param_grid_eNet, scoring= 'neg_mean_squared_error', \n",
    "                                   cv= kfo, n_jobs=-1, return_train_score = True)\n",
    "\n",
    "%time grid_search_eNet.fit(X_train, Y_train)"
   ]
  },
  {
   "cell_type": "code",
   "execution_count": 430,
   "metadata": {},
   "outputs": [
    {
     "data": {
      "text/plain": [
       "{'alpha': 9.188281001940825e-05, 'l1_ratio': 0.9, 'max_iter': 500}"
      ]
     },
     "execution_count": 430,
     "metadata": {},
     "output_type": "execute_result"
    }
   ],
   "source": [
    "grid_search_eNet.best_params_"
   ]
  },
  {
   "cell_type": "code",
   "execution_count": 431,
   "metadata": {},
   "outputs": [],
   "source": [
    "# Prediction using the tuned parameters\n",
    "grid_eNet = grid_search_eNet.best_estimator_"
   ]
  },
  {
   "cell_type": "code",
   "execution_count": 432,
   "metadata": {},
   "outputs": [
    {
     "name": "stdout",
     "output_type": "stream",
     "text": [
      "Train R^2 is: 0.94731\n",
      "Test R^2 is is: 0.90014\n"
     ]
    }
   ],
   "source": [
    "print(\"Train R^2 is: %.5f\" % grid_eNet.score(X_train, Y_train))\n",
    "print(\"Test R^2 is is: %.5f\" % grid_eNet.score(X_test, Y_test))"
   ]
  },
  {
   "cell_type": "code",
   "execution_count": 433,
   "metadata": {},
   "outputs": [],
   "source": [
    "#Prediction with tuned hyperparameters\n",
    "grid_eNet_pred = grid_eNet.predict(X_test)"
   ]
  },
  {
   "cell_type": "code",
   "execution_count": 434,
   "metadata": {},
   "outputs": [
    {
     "name": "stdout",
     "output_type": "stream",
     "text": [
      "Mean Absolute Error (MAE): $ 13531.47\n",
      "Mean Squared Error (MSE): 0.015607711136357841\n",
      "Root Mean Square Error (RMSE): 0.12493082540493296\n",
      "Root Mean Square Log Error (RMSLE): 0.009865756287035406\n",
      "Mean Absolute Percent Error (MAPE): 8.26 %.\n"
     ]
    }
   ],
   "source": [
    "printErrors(Y_test,grid_eNet_pred)"
   ]
  },
  {
   "cell_type": "markdown",
   "metadata": {},
   "source": [
    "<p><a name=\"data_vis_en\"></a></p>\n",
    "\n",
    "### Elastic Net Data Visualization"
   ]
  },
  {
   "cell_type": "code",
   "execution_count": 435,
   "metadata": {},
   "outputs": [
    {
     "data": {
      "image/png": "[encoded data removed]",
      "text/plain": [
       "<Figure size 864x576 with 1 Axes>"
      ]
     },
     "metadata": {},
     "output_type": "display_data"
    }
   ],
   "source": [
    "printMod(X_train,X_test,Y_train,Y_test,grid_eNet,\"Elastic Net\")"
   ]
  },
  {
   "cell_type": "markdown",
   "metadata": {},
   "source": [
    "<p><a name=\"xgboo\"></a></p>\n",
    "\n",
    "## XGBoost"
   ]
  },
  {
   "cell_type": "code",
   "execution_count": 436,
   "metadata": {},
   "outputs": [
    {
     "data": {
      "text/plain": [
       "XGBRegressor(base_score=0.5, booster='gbtree', colsample_bylevel=1,\n",
       "       colsample_bynode=1, colsample_bytree=1, gamma=0,\n",
       "       importance_type='gain', learning_rate=0.1, max_delta_step=0,\n",
       "       max_depth=3, min_child_weight=1, missing=None, n_estimators=100,\n",
       "       n_jobs=1, nthread=None, objective='reg:squarederror',\n",
       "       random_state=22, reg_alpha=0, reg_lambda=1, scale_pos_weight=1,\n",
       "       seed=None, silent=None, subsample=1, verbosity=1)"
      ]
     },
     "execution_count": 436,
     "metadata": {},
     "output_type": "execute_result"
    }
   ],
   "source": [
    "#initialize xgboost\n",
    "xgb = XGBRegressor()\n",
    "xgb.set_params(random_state=22,objective='reg:squarederror')"
   ]
  },
  {
   "cell_type": "code",
   "execution_count": 437,
   "metadata": {},
   "outputs": [
    {
     "name": "stderr",
     "output_type": "stream",
     "text": [
      "C:\\Users\\tnivo\\Anaconda3\\lib\\site-packages\\xgboost\\core.py:587: FutureWarning: Series.base is deprecated and will be removed in a future version\n",
      "  if getattr(data, 'base', None) is not None and \\\n"
     ]
    },
    {
     "data": {
      "text/plain": [
       "XGBRegressor(base_score=0.5, booster='gbtree', colsample_bylevel=1,\n",
       "       colsample_bynode=1, colsample_bytree=1, gamma=0,\n",
       "       importance_type='gain', learning_rate=0.1, max_delta_step=0,\n",
       "       max_depth=3, min_child_weight=1, missing=None, n_estimators=100,\n",
       "       n_jobs=1, nthread=None, objective='reg:squarederror',\n",
       "       random_state=22, reg_alpha=0, reg_lambda=1, scale_pos_weight=1,\n",
       "       seed=None, silent=None, subsample=1, verbosity=1)"
      ]
     },
     "execution_count": 437,
     "metadata": {},
     "output_type": "execute_result"
    }
   ],
   "source": [
    "xgb.fit(X_train, Y_train)"
   ]
  },
  {
   "cell_type": "code",
   "execution_count": 438,
   "metadata": {},
   "outputs": [
    {
     "name": "stdout",
     "output_type": "stream",
     "text": [
      "Train R^2 is: 0.96346\n",
      "Test set R^2 is is: 0.88274\n"
     ]
    }
   ],
   "source": [
    "print(\"Train R^2 is: %.5f\" % xgb.score(X_train, Y_train))\n",
    "print(\"Test set R^2 is is: %.5f\" % xgb.score(X_test, Y_test))"
   ]
  },
  {
   "cell_type": "code",
   "execution_count": 439,
   "metadata": {},
   "outputs": [],
   "source": [
    "# Initial prediction\n",
    "xgb_pred = xgb.predict(X_test)"
   ]
  },
  {
   "cell_type": "code",
   "execution_count": 440,
   "metadata": {},
   "outputs": [
    {
     "name": "stdout",
     "output_type": "stream",
     "text": [
      "Mean Absolute Error (MAE): $ 15134.96\n",
      "Mean Squared Error (MSE): 0.018328011138155322\n",
      "Root Mean Square Error (RMSE): 0.1353809851425056\n",
      "Root Mean Square Log Error (RMSLE): 0.010625307519090315\n",
      "Mean Absolute Percent Error (MAPE): 9.14 %.\n"
     ]
    }
   ],
   "source": [
    "printErrors(Y_test, xgb_pred)\n",
    "#printErrors(Yt, predMod)"
   ]
  },
  {
   "cell_type": "code",
   "execution_count": 441,
   "metadata": {},
   "outputs": [],
   "source": [
    "xgb_param_grid ={'learning_rate': [0.01, 0.05, 0.1],\n",
    "                 'max_depth': [2, 3, 4, 5, 6],\n",
    "                 'min_child_weight': [4, 5, 6],\n",
    "                 'n_estimators': [400, 450, 500, 550, 600]}\n",
    "\n",
    "grid_search_xgb = ms.GridSearchCV(xgb, xgb_param_grid, scoring='neg_mean_squared_error', \n",
    "                                     cv= kfo, n_jobs=-1, return_train_score = True)\n",
    "\n"
   ]
  },
  {
   "cell_type": "code",
   "execution_count": 447,
   "metadata": {},
   "outputs": [
    {
     "name": "stderr",
     "output_type": "stream",
     "text": [
      "C:\\Users\\tnivo\\Anaconda3\\lib\\site-packages\\xgboost\\core.py:587: FutureWarning: Series.base is deprecated and will be removed in a future version\n",
      "  if getattr(data, 'base', None) is not None and \\\n"
     ]
    },
    {
     "name": "stdout",
     "output_type": "stream",
     "text": [
      "Wall time: 32min 46s\n"
     ]
    },
    {
     "data": {
      "text/plain": [
       "GridSearchCV(cv=KFold(n_splits=5, random_state=32, shuffle=True),\n",
       "       error_score='raise-deprecating',\n",
       "       estimator=XGBRegressor(base_score=0.5, booster='gbtree', colsample_bylevel=1,\n",
       "       colsample_bynode=1, colsample_bytree=1, gamma=0,\n",
       "       importance_type='gain', learning_rate=0.1, max_delta_step=0,\n",
       "       max_depth=3, min_child_weight=1, missing=None, n_estimators=100,\n",
       "       n_jobs=1, nthread=None, objective='reg:squarederror',\n",
       "       random_state=22, reg_alpha=0, reg_lambda=1, scale_pos_weight=1,\n",
       "       seed=None, silent=None, subsample=1, verbosity=1),\n",
       "       fit_params=None, iid='warn', n_jobs=-1,\n",
       "       param_grid={'learning_rate': [0.01, 0.05, 0.1], 'max_depth': [2, 3, 4, 5, 6], 'min_child_weight': [4, 5, 6], 'n_estimators': [400, 450, 500, 550, 600]},\n",
       "       pre_dispatch='2*n_jobs', refit=True, return_train_score=True,\n",
       "       scoring='neg_mean_squared_error', verbose=0)"
      ]
     },
     "execution_count": 447,
     "metadata": {},
     "output_type": "execute_result"
    }
   ],
   "source": [
    "%time grid_search_xgb.fit(X_train, Y_train)"
   ]
  },
  {
   "cell_type": "code",
   "execution_count": 448,
   "metadata": {},
   "outputs": [
    {
     "data": {
      "text/plain": [
       "{'learning_rate': 0.05,\n",
       " 'max_depth': 2,\n",
       " 'min_child_weight': 6,\n",
       " 'n_estimators': 600}"
      ]
     },
     "execution_count": 448,
     "metadata": {},
     "output_type": "execute_result"
    }
   ],
   "source": [
    "# get the best parameters\n",
    "grid_search_xgb.best_params_"
   ]
  },
  {
   "cell_type": "code",
   "execution_count": 449,
   "metadata": {},
   "outputs": [],
   "source": [
    "grid_xgb = grid_search_xgb.best_estimator_"
   ]
  },
  {
   "cell_type": "code",
   "execution_count": 450,
   "metadata": {},
   "outputs": [
    {
     "name": "stdout",
     "output_type": "stream",
     "text": [
      "The train set R^2 is: 0.96725\n",
      "The test set R^2 is is: 0.89357\n"
     ]
    }
   ],
   "source": [
    "print(\"The train set R^2 is: %.5f\" % grid_xgb.score(X_train, Y_train))\n",
    "print(\"The test set R^2 is is: %.5f\" % grid_xgb.score(X_test, Y_test))"
   ]
  },
  {
   "cell_type": "code",
   "execution_count": 451,
   "metadata": {},
   "outputs": [],
   "source": [
    "#Prediction with tuned hyperparameters\n",
    "grid_xgb_pred = grid_xgb.predict(X_test)"
   ]
  },
  {
   "cell_type": "code",
   "execution_count": 452,
   "metadata": {},
   "outputs": [
    {
     "name": "stdout",
     "output_type": "stream",
     "text": [
      "Mean Absolute Error (MAE): $ 14110.76\n",
      "Mean Squared Error (MSE): 0.016634601829289115\n",
      "Root Mean Square Error (RMSE): 0.12897519850455402\n",
      "Root Mean Square Log Error (RMSLE): 0.010140635500968019\n",
      "Mean Absolute Percent Error (MAPE): 8.52 %.\n"
     ]
    }
   ],
   "source": [
    "printErrors(Y_test, grid_xgb_pred)"
   ]
  },
  {
   "cell_type": "code",
   "execution_count": 453,
   "metadata": {},
   "outputs": [],
   "source": [
    "xgb_param_grid1 ={'learning_rate': [0.01],\n",
    "                 'max_depth': [3],\n",
    "                 'min_child_weight': [0],\n",
    "                 'n_estimators': [3460],\n",
    "                 'subsample': [0.7],\n",
    "                 'colsample_bytree' : [0.7],\n",
    "                 'objective':['reg:squarederror'],\n",
    "                 'nthread':[-1],\n",
    "                 'scale_pos_weight':[1],\n",
    "                 'seed':[27],\n",
    "                 'reg_alpha': [0.00006]}\n",
    "                 \n",
    "\n",
    "grid_search_xgb1 = ms.GridSearchCV(xgb, xgb_param_grid1, scoring='neg_mean_squared_error', \n",
    "                                     cv= kfo, n_jobs=-1, return_train_score = True)\n",
    "\n"
   ]
  },
  {
   "cell_type": "code",
   "execution_count": 454,
   "metadata": {},
   "outputs": [
    {
     "name": "stderr",
     "output_type": "stream",
     "text": [
      "C:\\Users\\tnivo\\Anaconda3\\lib\\site-packages\\xgboost\\core.py:587: FutureWarning: Series.base is deprecated and will be removed in a future version\n",
      "  if getattr(data, 'base', None) is not None and \\\n"
     ]
    },
    {
     "name": "stdout",
     "output_type": "stream",
     "text": [
      "Wall time: 1min 16s\n"
     ]
    },
    {
     "data": {
      "text/plain": [
       "GridSearchCV(cv=KFold(n_splits=5, random_state=32, shuffle=True),\n",
       "       error_score='raise-deprecating',\n",
       "       estimator=XGBRegressor(base_score=0.5, booster='gbtree', colsample_bylevel=1,\n",
       "       colsample_bynode=1, colsample_bytree=1, gamma=0,\n",
       "       importance_type='gain', learning_rate=0.1, max_delta_step=0,\n",
       "       max_depth=3, min_child_weight=1, missing=None, n_estimators=100,\n",
       "       n_jobs=1, nthread=None, objective='reg:squarederror',\n",
       "       random_state=22, reg_alpha=0, reg_lambda=1, scale_pos_weight=1,\n",
       "       seed=None, silent=None, subsample=1, verbosity=1),\n",
       "       fit_params=None, iid='warn', n_jobs=-1,\n",
       "       param_grid={'learning_rate': [0.01], 'max_depth': [3], 'min_child_weight': [0], 'n_estimators': [3460], 'subsample': [0.7], 'colsample_bytree': [0.7], 'objective': ['reg:squarederror'], 'nthread': [-1], 'scale_pos_weight': [1], 'seed': [27], 'reg_alpha': [6e-05]},\n",
       "       pre_dispatch='2*n_jobs', refit=True, return_train_score=True,\n",
       "       scoring='neg_mean_squared_error', verbose=0)"
      ]
     },
     "execution_count": 454,
     "metadata": {},
     "output_type": "execute_result"
    }
   ],
   "source": [
    "%time grid_search_xgb1.fit(X_train, Y_train)"
   ]
  },
  {
   "cell_type": "code",
   "execution_count": 455,
   "metadata": {},
   "outputs": [
    {
     "data": {
      "text/plain": [
       "{'colsample_bytree': 0.7,\n",
       " 'learning_rate': 0.01,\n",
       " 'max_depth': 3,\n",
       " 'min_child_weight': 0,\n",
       " 'n_estimators': 3460,\n",
       " 'nthread': -1,\n",
       " 'objective': 'reg:squarederror',\n",
       " 'reg_alpha': 6e-05,\n",
       " 'scale_pos_weight': 1,\n",
       " 'seed': 27,\n",
       " 'subsample': 0.7}"
      ]
     },
     "execution_count": 455,
     "metadata": {},
     "output_type": "execute_result"
    }
   ],
   "source": [
    "grid_search_xgb1.best_params_"
   ]
  },
  {
   "cell_type": "code",
   "execution_count": 456,
   "metadata": {},
   "outputs": [],
   "source": [
    "grid_xgb1 = grid_search_xgb1.best_estimator_"
   ]
  },
  {
   "cell_type": "code",
   "execution_count": 457,
   "metadata": {},
   "outputs": [
    {
     "name": "stdout",
     "output_type": "stream",
     "text": [
      "The train set R^2 is: 0.98957\n",
      "The test set R^2 is is: 0.89546\n"
     ]
    }
   ],
   "source": [
    "print(\"The train set R^2 is: %.5f\" % grid_xgb1.score(X_train, Y_train))\n",
    "print(\"The test set R^2 is is: %.5f\" % grid_xgb1.score(X_test, Y_test))"
   ]
  },
  {
   "cell_type": "markdown",
   "metadata": {},
   "source": [
    "<p><a name=\"data_vis_xg\"></a></p>\n",
    "\n",
    "### XGBoost Data Visualization"
   ]
  },
  {
   "cell_type": "code",
   "execution_count": 458,
   "metadata": {},
   "outputs": [
    {
     "data": {
      "image/png": "[encoded data removed]",
      "text/plain": [
       "<Figure size 864x576 with 1 Axes>"
      ]
     },
     "metadata": {},
     "output_type": "display_data"
    }
   ],
   "source": [
    "printMod(X_train,X_test,Y_train,Y_test,grid_xgb,\"XGBoost\")"
   ]
  },
  {
   "cell_type": "code",
   "execution_count": 459,
   "metadata": {},
   "outputs": [
    {
     "name": "stdout",
     "output_type": "stream",
     "text": [
      "Variable: GarageCars           Importance: 0.15929000079631805\n",
      "Variable: OverallQual          Importance: 0.0914200022816658\n",
      "Variable: TotalBath            Importance: 0.0715399980545044\n",
      "Variable: Fireplaces           Importance: 0.06689000129699707\n",
      "Variable: YearRemodAdd         Importance: 0.0654899999499321\n",
      "Variable: TotalSF              Importance: 0.06441999971866608\n",
      "Variable: KitchenQual_TA       Importance: 0.05186000093817711\n",
      "Variable: GarageType_Attchd    Importance: 0.03164000064134598\n",
      "Variable: CentralAir_Y         Importance: 0.029910000041127205\n",
      "Variable: MSZoning_RL          Importance: 0.023590000346302986\n",
      "Variable: MSZoning_RM          Importance: 0.023010000586509705\n",
      "Variable: YearBuilt            Importance: 0.0210999995470047\n",
      "Variable: YrSoldMinRem         Importance: 0.016739999875426292\n",
      "Variable: GarageArea           Importance: 0.01408000010997057\n",
      "Variable: PavedDrive_Y         Importance: 0.013500000350177288\n",
      "Variable: BsmtExposure_Gd      Importance: 0.01331000030040741\n",
      "Variable: OverallCond          Importance: 0.01075000036507845\n",
      "Variable: GarageCond_TA        Importance: 0.010259999893605709\n",
      "Variable: GarageYrBlt          Importance: 0.010080000385642052\n",
      "Variable: BsmtFinSF1           Importance: 0.009229999966919422\n",
      "Variable: Percent_BsmtF        Importance: 0.008469999767839909\n",
      "Variable: KitchenAbvGr         Importance: 0.008320000022649765\n",
      "Variable: Exterior1st_BrkComm  Importance: 0.007679999805986881\n",
      "Variable: MSSubClass           Importance: 0.006889999844133854\n",
      "Variable: CrawforSF            Importance: 0.006829999852925539\n",
      "Variable: LotArea              Importance: 0.006800000090152025\n",
      "Variable: Functional_Maj2      Importance: 0.006800000090152025\n",
      "Variable: GrLivArea            Importance: 0.006409999914467335\n",
      "Variable: LandContour_Lvl      Importance: 0.005450000055134296\n",
      "Variable: Street_Pave          Importance: 0.005160000175237656\n",
      "Variable: SaleType_New         Importance: 0.005049999803304672\n",
      "Variable: Functional_Sev       Importance: 0.005030000116676092\n",
      "Variable: TotalPorchSF         Importance: 0.0048699998296797276\n",
      "Variable: EdwardsSF            Importance: 0.004840000066906214\n",
      "Variable: Functional_Typ       Importance: 0.004819999914616346\n",
      "Variable: Functional_Min1      Importance: 0.00431999983265996\n",
      "Variable: NAmesSF              Importance: 0.003949999809265137\n",
      "Variable: SaleCondition_Normal Importance: 0.0038999998942017555\n",
      "Variable: OldTownSF            Importance: 0.003700000001117587\n",
      "Variable: Condition1_PosA      Importance: 0.003659999929368496\n",
      "Variable: OldTownQual          Importance: 0.003599999938160181\n",
      "Variable: LotShape_Reg         Importance: 0.003539999946951866\n",
      "Variable: totNewNeigh          Importance: 0.003490000031888485\n",
      "Variable: BedroomAbvGr         Importance: 0.0034600000362843275\n",
      "Variable: MasVnrType_BrkFace   Importance: 0.003289999905973673\n",
      "Variable: BrkSideSF            Importance: 0.0031799999997019768\n",
      "Variable: YrRemMinBui          Importance: 0.003169999923557043\n",
      "Variable: SawyerSF             Importance: 0.003100000089034438\n",
      "Variable: SomerstSF            Importance: 0.0029899999499320984\n",
      "Variable: MasVnrArea           Importance: 0.002950000111013651\n",
      "Variable: BsmtQual_Gd          Importance: 0.0029100000392645597\n",
      "Variable: Exterior1st_BrkFace  Importance: 0.00279999990016222\n",
      "Variable: LotConfig_CulDSac    Importance: 0.002570000011473894\n",
      "Variable: RoofStyle_Gable      Importance: 0.0025599999353289604\n",
      "Variable: Condition1_Norm      Importance: 0.0025400000158697367\n",
      "Variable: Condition1_PosN      Importance: 0.0024999999441206455\n",
      "Variable: MasVnrType_Stone     Importance: 0.002469999948516488\n",
      "Variable: BsmtUnfSF            Importance: 0.002369999885559082\n",
      "Variable: ClearCrQual          Importance: 0.002369999885559082\n",
      "Variable: ExterQual_Fa         Importance: 0.002300000051036477\n",
      "Variable: percent_grliving     Importance: 0.00215999991632998\n",
      "Variable: LotFrontage          Importance: 0.002099999925121665\n",
      "Variable: Neighborhood_MeadowV Importance: 0.0018500000005587935\n",
      "Variable: Neighborhood_ClearCr Importance: 0.0017300000181421638\n",
      "Variable: MoSold               Importance: 0.0017099999822676182\n",
      "Variable: GilbertQual          Importance: 0.0016899999463930726\n",
      "Variable: Exterior2nd_Stucco   Importance: 0.0016700000269338489\n",
      "Variable: BsmtExposure_No      Importance: 0.0015399999683722854\n",
      "Variable: NWAmesQual           Importance: 0.0014299999456852674\n",
      "Variable: Exterior1st_HdBoard  Importance: 0.0014100000262260437\n",
      "Variable: GarageType_CarPort   Importance: 0.001339999958872795\n",
      "Variable: GarageFinish_RFn     Importance: 0.0013200000394135714\n",
      "Variable: RoofStyle_Hip        Importance: 0.0013099999632686377\n",
      "Variable: totNewcity           Importance: 0.0011699999449774623\n",
      "Variable: BrkSideQual          Importance: 0.001120000029914081\n",
      "Variable: Neighborhood_Mitchel Importance: 0.0011099999537691474\n",
      "Variable: YrSold               Importance: 0.0009500000160187483\n",
      "Variable: CollgCrSF            Importance: 0.0008900000248104334\n",
      "Variable: TotRmsAbvGrd         Importance: 0.000699999975040555\n",
      "Variable: Exterior2nd_Wd Shng  Importance: 0.0006399999838322401\n",
      "Variable: RoofMatl_WdShngl     Importance: 0.0005799999926239252\n",
      "Variable: Neighborhood_Timber  Importance: 0.0005300000193528831\n",
      "Variable: Foundation_CBlock    Importance: 0.0005099999834783375\n",
      "Variable: LotConfig_Inside     Importance: 0.0004400000034365803\n",
      "Variable: HeatingQC_TA         Importance: 0.0004199999966658652\n",
      "Variable: Exterior1st_VinylSd  Importance: 0.00033000000985339284\n",
      "Variable: Condition1_Feedr     Importance: 9.999999747378752e-05\n",
      "Variable: BsmtFinSF2           Importance: 0.0\n",
      "Variable: LowQualFinSF         Importance: 0.0\n",
      "Variable: PoolArea             Importance: 0.0\n",
      "Variable: MiscVal              Importance: 0.0\n",
      "Variable: isNew                Importance: 0.0\n",
      "Variable: BsmtFin              Importance: 0.0\n",
      "Variable: MSZoning_FV          Importance: 0.0\n",
      "Variable: MSZoning_RH          Importance: 0.0\n",
      "Variable: LotShape_IR2         Importance: 0.0\n",
      "Variable: LotShape_IR3         Importance: 0.0\n",
      "Variable: LandContour_HLS      Importance: 0.0\n",
      "Variable: LandContour_Low      Importance: 0.0\n",
      "Variable: Utilities_NoSeWa     Importance: 0.0\n",
      "Variable: LotConfig_FR2        Importance: 0.0\n",
      "Variable: LotConfig_FR3        Importance: 0.0\n",
      "Variable: LandSlope_Mod        Importance: 0.0\n",
      "Variable: LandSlope_Sev        Importance: 0.0\n",
      "Variable: Condition1_RRAe      Importance: 0.0\n",
      "Variable: Condition1_RRAn      Importance: 0.0\n",
      "Variable: Condition1_RRNe      Importance: 0.0\n",
      "Variable: Condition1_RRNn      Importance: 0.0\n",
      "Variable: Condition2_Feedr     Importance: 0.0\n",
      "Variable: Condition2_Norm      Importance: 0.0\n",
      "Variable: Condition2_PosA      Importance: 0.0\n",
      "Variable: Condition2_PosN      Importance: 0.0\n",
      "Variable: Condition2_RRAe      Importance: 0.0\n",
      "Variable: Condition2_RRAn      Importance: 0.0\n",
      "Variable: Condition2_RRNn      Importance: 0.0\n",
      "Variable: BldgType_2fmCon      Importance: 0.0\n",
      "Variable: BldgType_Duplex      Importance: 0.0\n",
      "Variable: BldgType_Twnhs       Importance: 0.0\n",
      "Variable: BldgType_TwnhsE      Importance: 0.0\n",
      "Variable: HouseStyle_1.5Unf    Importance: 0.0\n",
      "Variable: HouseStyle_1Story    Importance: 0.0\n",
      "Variable: HouseStyle_2.5Fin    Importance: 0.0\n",
      "Variable: HouseStyle_2.5Unf    Importance: 0.0\n",
      "Variable: HouseStyle_2Story    Importance: 0.0\n",
      "Variable: HouseStyle_SFoyer    Importance: 0.0\n",
      "Variable: HouseStyle_SLvl      Importance: 0.0\n",
      "Variable: RoofStyle_Gambrel    Importance: 0.0\n",
      "Variable: RoofStyle_Mansard    Importance: 0.0\n",
      "Variable: RoofStyle_Shed       Importance: 0.0\n",
      "Variable: RoofMatl_Membran     Importance: 0.0\n",
      "Variable: RoofMatl_Metal       Importance: 0.0\n",
      "Variable: RoofMatl_Roll        Importance: 0.0\n",
      "Variable: RoofMatl_Tar&Grv     Importance: 0.0\n",
      "Variable: RoofMatl_WdShake     Importance: 0.0\n",
      "Variable: Exterior1st_AsphShn  Importance: 0.0\n",
      "Variable: Exterior1st_CBlock   Importance: 0.0\n",
      "Variable: Exterior1st_CemntBd  Importance: 0.0\n",
      "Variable: Exterior1st_ImStucc  Importance: 0.0\n",
      "Variable: Exterior1st_MetalSd  Importance: 0.0\n",
      "Variable: Exterior1st_No       Importance: 0.0\n",
      "Variable: Exterior1st_Plywood  Importance: 0.0\n",
      "Variable: Exterior1st_Stone    Importance: 0.0\n",
      "Variable: Exterior1st_Stucco   Importance: 0.0\n",
      "Variable: Exterior1st_Wd Sdng  Importance: 0.0\n",
      "Variable: Exterior1st_WdShing  Importance: 0.0\n",
      "Variable: Exterior2nd_AsphShn  Importance: 0.0\n",
      "Variable: Exterior2nd_Brk Cmn  Importance: 0.0\n",
      "Variable: Exterior2nd_BrkFace  Importance: 0.0\n",
      "Variable: Exterior2nd_CBlock   Importance: 0.0\n",
      "Variable: Exterior2nd_CmentBd  Importance: 0.0\n",
      "Variable: Exterior2nd_HdBoard  Importance: 0.0\n",
      "Variable: Exterior2nd_ImStucc  Importance: 0.0\n",
      "Variable: Exterior2nd_MetalSd  Importance: 0.0\n",
      "Variable: Exterior2nd_No       Importance: 0.0\n",
      "Variable: Exterior2nd_Other    Importance: 0.0\n",
      "Variable: Exterior2nd_Plywood  Importance: 0.0\n",
      "Variable: Exterior2nd_Stone    Importance: 0.0\n",
      "Variable: Exterior2nd_VinylSd  Importance: 0.0\n",
      "Variable: Exterior2nd_Wd Sdng  Importance: 0.0\n",
      "Variable: MasVnrType_None      Importance: 0.0\n",
      "Variable: ExterQual_Gd         Importance: 0.0\n",
      "Variable: ExterQual_TA         Importance: 0.0\n",
      "Variable: ExterCond_Fa         Importance: 0.0\n",
      "Variable: ExterCond_Gd         Importance: 0.0\n",
      "Variable: ExterCond_Po         Importance: 0.0\n",
      "Variable: ExterCond_TA         Importance: 0.0\n",
      "Variable: Foundation_PConc     Importance: 0.0\n",
      "Variable: Foundation_Slab      Importance: 0.0\n",
      "Variable: Foundation_Stone     Importance: 0.0\n",
      "Variable: Foundation_Wood      Importance: 0.0\n",
      "Variable: BsmtQual_Fa          Importance: 0.0\n",
      "Variable: BsmtQual_No          Importance: 0.0\n",
      "Variable: BsmtQual_TA          Importance: 0.0\n",
      "Variable: BsmtCond_Gd          Importance: 0.0\n",
      "Variable: BsmtCond_No          Importance: 0.0\n",
      "Variable: BsmtCond_Po          Importance: 0.0\n",
      "Variable: BsmtCond_TA          Importance: 0.0\n",
      "Variable: BsmtExposure_Mn      Importance: 0.0\n",
      "Variable: BsmtFinType1_BLQ     Importance: 0.0\n",
      "Variable: BsmtFinType1_GLQ     Importance: 0.0\n",
      "Variable: BsmtFinType1_LwQ     Importance: 0.0\n",
      "Variable: BsmtFinType1_No      Importance: 0.0\n",
      "Variable: BsmtFinType1_Rec     Importance: 0.0\n",
      "Variable: BsmtFinType1_Unf     Importance: 0.0\n",
      "Variable: BsmtFinType2_BLQ     Importance: 0.0\n",
      "Variable: BsmtFinType2_GLQ     Importance: 0.0\n",
      "Variable: BsmtFinType2_LwQ     Importance: 0.0\n",
      "Variable: BsmtFinType2_No      Importance: 0.0\n",
      "Variable: BsmtFinType2_Rec     Importance: 0.0\n",
      "Variable: BsmtFinType2_Unf     Importance: 0.0\n",
      "Variable: Heating_GasA         Importance: 0.0\n",
      "Variable: Heating_GasW         Importance: 0.0\n",
      "Variable: Heating_Grav         Importance: 0.0\n",
      "Variable: Heating_OthW         Importance: 0.0\n",
      "Variable: Heating_Wall         Importance: 0.0\n",
      "Variable: HeatingQC_Fa         Importance: 0.0\n",
      "Variable: HeatingQC_Gd         Importance: 0.0\n",
      "Variable: HeatingQC_Po         Importance: 0.0\n",
      "Variable: Electrical_FuseA     Importance: 0.0\n",
      "Variable: Electrical_FuseF     Importance: 0.0\n",
      "Variable: Electrical_FuseP     Importance: 0.0\n",
      "Variable: Electrical_Mix       Importance: 0.0\n",
      "Variable: Electrical_SBrkr     Importance: 0.0\n",
      "Variable: KitchenQual_Fa       Importance: 0.0\n",
      "Variable: KitchenQual_Gd       Importance: 0.0\n",
      "Variable: Functional_Min2      Importance: 0.0\n",
      "Variable: Functional_Mod       Importance: 0.0\n",
      "Variable: FireplaceQu_Fa       Importance: 0.0\n",
      "Variable: FireplaceQu_Gd       Importance: 0.0\n",
      "Variable: FireplaceQu_No       Importance: 0.0\n",
      "Variable: FireplaceQu_Po       Importance: 0.0\n",
      "Variable: FireplaceQu_TA       Importance: 0.0\n",
      "Variable: GarageType_Basment   Importance: 0.0\n",
      "Variable: GarageType_BuiltIn   Importance: 0.0\n",
      "Variable: GarageType_Detchd    Importance: 0.0\n",
      "Variable: GarageType_No        Importance: 0.0\n",
      "Variable: GarageFinish_No      Importance: 0.0\n",
      "Variable: GarageFinish_Unf     Importance: 0.0\n",
      "Variable: GarageQual_Fa        Importance: 0.0\n",
      "Variable: GarageQual_Gd        Importance: 0.0\n",
      "Variable: GarageQual_No        Importance: 0.0\n",
      "Variable: GarageQual_Po        Importance: 0.0\n",
      "Variable: GarageQual_TA        Importance: 0.0\n",
      "Variable: GarageCond_Fa        Importance: 0.0\n",
      "Variable: GarageCond_Gd        Importance: 0.0\n",
      "Variable: GarageCond_No        Importance: 0.0\n",
      "Variable: GarageCond_Po        Importance: 0.0\n",
      "Variable: PavedDrive_P         Importance: 0.0\n",
      "Variable: SaleCondition_AdjLand Importance: 0.0\n",
      "Variable: SaleCondition_Alloca Importance: 0.0\n",
      "Variable: SaleCondition_Family Importance: 0.0\n",
      "Variable: SaleCondition_Partial Importance: 0.0\n",
      "Variable: Neighborhood_Blueste Importance: 0.0\n",
      "Variable: Neighborhood_BrDale  Importance: 0.0\n",
      "Variable: Neighborhood_BrkSide Importance: 0.0\n",
      "Variable: Neighborhood_CollgCr Importance: 0.0\n",
      "Variable: Neighborhood_Crawfor Importance: 0.0\n",
      "Variable: Neighborhood_Edwards Importance: 0.0\n",
      "Variable: Neighborhood_Gilbert Importance: 0.0\n",
      "Variable: Neighborhood_IDOTRR  Importance: 0.0\n",
      "Variable: Neighborhood_NAmes   Importance: 0.0\n",
      "Variable: Neighborhood_NPkVill Importance: 0.0\n",
      "Variable: Neighborhood_NWAmes  Importance: 0.0\n",
      "Variable: Neighborhood_NoRidge Importance: 0.0\n",
      "Variable: Neighborhood_NridgHt Importance: 0.0\n",
      "Variable: Neighborhood_OldTown Importance: 0.0\n",
      "Variable: Neighborhood_SWISU   Importance: 0.0\n",
      "Variable: Neighborhood_Sawyer  Importance: 0.0\n",
      "Variable: Neighborhood_SawyerW Importance: 0.0\n",
      "Variable: Neighborhood_Somerst Importance: 0.0\n",
      "Variable: Neighborhood_StoneBr Importance: 0.0\n",
      "Variable: Neighborhood_Veenker Importance: 0.0\n",
      "Variable: NridgHtSF            Importance: 0.0\n",
      "Variable: GilbertSF            Importance: 0.0\n",
      "Variable: NWAmesSF             Importance: 0.0\n",
      "Variable: SawyerWSF            Importance: 0.0\n",
      "Variable: MitchelSF            Importance: 0.0\n",
      "Variable: IDOTRRSF             Importance: 0.0\n",
      "Variable: TimberSF             Importance: 0.0\n",
      "Variable: NoRidgeSF            Importance: 0.0\n",
      "Variable: StoneBrSF            Importance: 0.0\n",
      "Variable: SWISUSF              Importance: 0.0\n",
      "Variable: ClearCrSF            Importance: 0.0\n",
      "Variable: MeadowVSF            Importance: 0.0\n",
      "Variable: BrDaleSF             Importance: 0.0\n",
      "Variable: VeenkerSF            Importance: 0.0\n",
      "Variable: NPkVillSF            Importance: 0.0\n",
      "Variable: BluesteSF            Importance: 0.0\n",
      "Variable: NAmesQual            Importance: 0.0\n",
      "Variable: CollgCrQual          Importance: 0.0\n",
      "Variable: EdwardsQual          Importance: 0.0\n",
      "Variable: SomerstQual          Importance: 0.0\n",
      "Variable: NridgHtQual          Importance: 0.0\n",
      "Variable: SawyerQual           Importance: 0.0\n",
      "Variable: SawyerWQual          Importance: 0.0\n",
      "Variable: MitchelQual          Importance: 0.0\n",
      "Variable: CrawforQual          Importance: 0.0\n",
      "Variable: IDOTRRQual           Importance: 0.0\n",
      "Variable: TimberQual           Importance: 0.0\n",
      "Variable: NoRidgeQual          Importance: 0.0\n",
      "Variable: StoneBrQual          Importance: 0.0\n",
      "Variable: SWISUQual            Importance: 0.0\n",
      "Variable: MeadowVQual          Importance: 0.0\n",
      "Variable: BrDaleual            Importance: 0.0\n",
      "Variable: VeenkerQual          Importance: 0.0\n",
      "Variable: NPkVillQual          Importance: 0.0\n",
      "Variable: BluesteQual          Importance: 0.0\n"
     ]
    },
    {
     "data": {
      "text/plain": [
       "[None,\n",
       " None,\n",
       " None,\n",
       " None,\n",
       " None,\n",
       " None,\n",
       " None,\n",
       " None,\n",
       " None,\n",
       " None,\n",
       " None,\n",
       " None,\n",
       " None,\n",
       " None,\n",
       " None,\n",
       " None,\n",
       " None,\n",
       " None,\n",
       " None,\n",
       " None,\n",
       " None,\n",
       " None,\n",
       " None,\n",
       " None,\n",
       " None,\n",
       " None,\n",
       " None,\n",
       " None,\n",
       " None,\n",
       " None,\n",
       " None,\n",
       " None,\n",
       " None,\n",
       " None,\n",
       " None,\n",
       " None,\n",
       " None,\n",
       " None,\n",
       " None,\n",
       " None,\n",
       " None,\n",
       " None,\n",
       " None,\n",
       " None,\n",
       " None,\n",
       " None,\n",
       " None,\n",
       " None,\n",
       " None,\n",
       " None,\n",
       " None,\n",
       " None,\n",
       " None,\n",
       " None,\n",
       " None,\n",
       " None,\n",
       " None,\n",
       " None,\n",
       " None,\n",
       " None,\n",
       " None,\n",
       " None,\n",
       " None,\n",
       " None,\n",
       " None,\n",
       " None,\n",
       " None,\n",
       " None,\n",
       " None,\n",
       " None,\n",
       " None,\n",
       " None,\n",
       " None,\n",
       " None,\n",
       " None,\n",
       " None,\n",
       " None,\n",
       " None,\n",
       " None,\n",
       " None,\n",
       " None,\n",
       " None,\n",
       " None,\n",
       " None,\n",
       " None,\n",
       " None,\n",
       " None,\n",
       " None,\n",
       " None,\n",
       " None,\n",
       " None,\n",
       " None,\n",
       " None,\n",
       " None,\n",
       " None,\n",
       " None,\n",
       " None,\n",
       " None,\n",
       " None,\n",
       " None,\n",
       " None,\n",
       " None,\n",
       " None,\n",
       " None,\n",
       " None,\n",
       " None,\n",
       " None,\n",
       " None,\n",
       " None,\n",
       " None,\n",
       " None,\n",
       " None,\n",
       " None,\n",
       " None,\n",
       " None,\n",
       " None,\n",
       " None,\n",
       " None,\n",
       " None,\n",
       " None,\n",
       " None,\n",
       " None,\n",
       " None,\n",
       " None,\n",
       " None,\n",
       " None,\n",
       " None,\n",
       " None,\n",
       " None,\n",
       " None,\n",
       " None,\n",
       " None,\n",
       " None,\n",
       " None,\n",
       " None,\n",
       " None,\n",
       " None,\n",
       " None,\n",
       " None,\n",
       " None,\n",
       " None,\n",
       " None,\n",
       " None,\n",
       " None,\n",
       " None,\n",
       " None,\n",
       " None,\n",
       " None,\n",
       " None,\n",
       " None,\n",
       " None,\n",
       " None,\n",
       " None,\n",
       " None,\n",
       " None,\n",
       " None,\n",
       " None,\n",
       " None,\n",
       " None,\n",
       " None,\n",
       " None,\n",
       " None,\n",
       " None,\n",
       " None,\n",
       " None,\n",
       " None,\n",
       " None,\n",
       " None,\n",
       " None,\n",
       " None,\n",
       " None,\n",
       " None,\n",
       " None,\n",
       " None,\n",
       " None,\n",
       " None,\n",
       " None,\n",
       " None,\n",
       " None,\n",
       " None,\n",
       " None,\n",
       " None,\n",
       " None,\n",
       " None,\n",
       " None,\n",
       " None,\n",
       " None,\n",
       " None,\n",
       " None,\n",
       " None,\n",
       " None,\n",
       " None,\n",
       " None,\n",
       " None,\n",
       " None,\n",
       " None,\n",
       " None,\n",
       " None,\n",
       " None,\n",
       " None,\n",
       " None,\n",
       " None,\n",
       " None,\n",
       " None,\n",
       " None,\n",
       " None,\n",
       " None,\n",
       " None,\n",
       " None,\n",
       " None,\n",
       " None,\n",
       " None,\n",
       " None,\n",
       " None,\n",
       " None,\n",
       " None,\n",
       " None,\n",
       " None,\n",
       " None,\n",
       " None,\n",
       " None,\n",
       " None,\n",
       " None,\n",
       " None,\n",
       " None,\n",
       " None,\n",
       " None,\n",
       " None,\n",
       " None,\n",
       " None,\n",
       " None,\n",
       " None,\n",
       " None,\n",
       " None,\n",
       " None,\n",
       " None,\n",
       " None,\n",
       " None,\n",
       " None,\n",
       " None,\n",
       " None,\n",
       " None,\n",
       " None,\n",
       " None,\n",
       " None,\n",
       " None,\n",
       " None,\n",
       " None,\n",
       " None,\n",
       " None,\n",
       " None,\n",
       " None,\n",
       " None,\n",
       " None,\n",
       " None,\n",
       " None,\n",
       " None,\n",
       " None,\n",
       " None,\n",
       " None,\n",
       " None,\n",
       " None,\n",
       " None,\n",
       " None,\n",
       " None,\n",
       " None,\n",
       " None,\n",
       " None,\n",
       " None,\n",
       " None,\n",
       " None,\n",
       " None,\n",
       " None,\n",
       " None,\n",
       " None,\n",
       " None,\n",
       " None,\n",
       " None,\n",
       " None,\n",
       " None,\n",
       " None,\n",
       " None,\n",
       " None,\n",
       " None,\n",
       " None,\n",
       " None,\n",
       " None]"
      ]
     },
     "execution_count": 459,
     "metadata": {},
     "output_type": "execute_result"
    }
   ],
   "source": [
    "# Get numerical feature importances\n",
    "importances_xgb = list(xgb.feature_importances_)\n",
    "\n",
    "# List of tuples with variable and importance\n",
    "feature_importances_xgb = [(feature, round(importance, 5)) for feature, importance in zip(X_train.columns, importances_xgb)]\n",
    "\n",
    "# Sort the feature importances by most important first\n",
    "xgb_feature_importances = sorted(feature_importances_xgb, key = lambda x: x[1], reverse = True )\n",
    "\n",
    "# Print out the feature and importances \n",
    "[print('Variable: {:20} Importance: {}'.format(*pair)) for pair in xgb_feature_importances]"
   ]
  },
  {
   "cell_type": "markdown",
   "metadata": {},
   "source": [
    "<p><a name=\"fi_xg\"></a></p>\n",
    "\n",
    "### XGBoost Feature Importance"
   ]
  },
  {
   "cell_type": "code",
   "execution_count": 460,
   "metadata": {},
   "outputs": [
    {
     "data": {
      "text/plain": [
       "[('GarageCars', 0.15929),\n",
       " ('OverallQual', 0.09142),\n",
       " ('TotalBath', 0.07154),\n",
       " ('Fireplaces', 0.06689),\n",
       " ('YearRemodAdd', 0.06549),\n",
       " ('TotalSF', 0.06442),\n",
       " ('KitchenQual_TA', 0.05186),\n",
       " ('GarageType_Attchd', 0.03164),\n",
       " ('CentralAir_Y', 0.02991),\n",
       " ('MSZoning_RL', 0.02359),\n",
       " ('MSZoning_RM', 0.02301),\n",
       " ('YearBuilt', 0.0211),\n",
       " ('YrSoldMinRem', 0.01674),\n",
       " ('GarageArea', 0.01408),\n",
       " ('PavedDrive_Y', 0.0135),\n",
       " ('BsmtExposure_Gd', 0.01331),\n",
       " ('OverallCond', 0.01075),\n",
       " ('GarageCond_TA', 0.01026),\n",
       " ('GarageYrBlt', 0.01008),\n",
       " ('BsmtFinSF1', 0.00923)]"
      ]
     },
     "execution_count": 460,
     "metadata": {},
     "output_type": "execute_result"
    }
   ],
   "source": [
    "xgb_feature_importances_top20 = xgb_feature_importances[:20]\n",
    "featureNames, featureScores = zip(*list(xgb_feature_importances_top20))\n",
    "xgb_feature_importances_top20"
   ]
  },
  {
   "cell_type": "code",
   "execution_count": 464,
   "metadata": {},
   "outputs": [
    {
     "data": {
      "image/png": "[encoded data removed]",
      "text/plain": [
       "<Figure size 432x288 with 1 Axes>"
      ]
     },
     "metadata": {},
     "output_type": "display_data"
    }
   ],
   "source": [
    "plt.barh(range(len(featureScores)), featureScores, tick_label=featureNames)\n",
    "plt.gca().invert_yaxis()\n",
    "plt.title('feature importance')\n",
    "plt.ylabel('Features')\n",
    "plt.xlabel('Importance Score')\n",
    "plt.title('Feature Importances')\n",
    "plt.savefig('xgbFI.png')"
   ]
  },
  {
   "cell_type": "code",
   "execution_count": 465,
   "metadata": {},
   "outputs": [],
   "source": [
    "xgb_params_tuned_model = grid_search_xgb.best_estimator_\n",
    "xgb_feature_importance = 100.0 * (xgb_params_tuned_model.feature_importances_ / xgb_params_tuned_model.feature_importances_.max())\n",
    "xgb_important_features = X_train.columns[xgb_feature_importance >= 2]\n",
    "xgb_unimportant_features = X_train.columns[xgb_feature_importance < 2]"
   ]
  },
  {
   "cell_type": "code",
   "execution_count": 466,
   "metadata": {},
   "outputs": [
    {
     "data": {
      "text/plain": [
       "Index(['MSSubClass', 'LotFrontage', 'LotArea', 'OverallQual', 'OverallCond',\n",
       "       'YearBuilt', 'YearRemodAdd', 'MasVnrArea', 'BsmtFinSF1', 'GrLivArea',\n",
       "       'KitchenAbvGr', 'Fireplaces', 'GarageYrBlt', 'GarageCars', 'GarageArea',\n",
       "       'TotalSF', 'TotalBath', 'TotalPorchSF', 'Percent_BsmtF', 'YrSoldMinRem',\n",
       "       'BsmtFin', 'MSZoning_FV', 'MSZoning_RL', 'MSZoning_RM', 'LotShape_Reg',\n",
       "       'HouseStyle_2Story', 'Exterior1st_BrkFace', 'MasVnrType_Stone',\n",
       "       'ExterCond_TA', 'BsmtQual_Gd', 'BsmtExposure_Gd', 'CentralAir_Y',\n",
       "       'KitchenQual_TA', 'Functional_Typ', 'GarageType_Attchd',\n",
       "       'GarageFinish_Unf', 'PavedDrive_Y', 'SaleType_New',\n",
       "       'SaleCondition_Normal', 'SaleCondition_Partial', 'totNewNeigh',\n",
       "       'Neighborhood_Crawfor', 'Neighborhood_IDOTRR', 'Neighborhood_OldTown',\n",
       "       'NAmesSF', 'EdwardsSF', 'CrawforSF', 'OldTownQual', 'SomerstQual'],\n",
       "      dtype='object')"
      ]
     },
     "execution_count": 466,
     "metadata": {},
     "output_type": "execute_result"
    }
   ],
   "source": [
    "xgb_important_features"
   ]
  },
  {
   "cell_type": "code",
   "execution_count": 467,
   "metadata": {},
   "outputs": [],
   "source": [
    "X_train_xgbreduced = X_train.drop(xgb_unimportant_features, axis=1)\n",
    "X_test_xgbreduced = X_test.drop(xgb_unimportant_features, axis=1)"
   ]
  },
  {
   "cell_type": "code",
   "execution_count": 468,
   "metadata": {},
   "outputs": [
    {
     "name": "stdout",
     "output_type": "stream",
     "text": [
      "Fitting 5 folds for each of 27 candidates, totalling 135 fits\n"
     ]
    },
    {
     "name": "stderr",
     "output_type": "stream",
     "text": [
      "[Parallel(n_jobs=7)]: Using backend LokyBackend with 7 concurrent workers.\n",
      "[Parallel(n_jobs=7)]: Done  36 tasks      | elapsed:   44.4s\n",
      "[Parallel(n_jobs=7)]: Done 135 out of 135 | elapsed:  2.1min finished\n",
      "C:\\Users\\tnivo\\Anaconda3\\lib\\site-packages\\xgboost\\core.py:587: FutureWarning: Series.base is deprecated and will be removed in a future version\n",
      "  if getattr(data, 'base', None) is not None and \\\n"
     ]
    },
    {
     "name": "stdout",
     "output_type": "stream",
     "text": [
      "[16:04:01] WARNING: C:/Jenkins/workspace/xgboost-win64_release_0.90/src/objective/regression_obj.cu:152: reg:linear is now deprecated in favor of reg:squarederror.\n"
     ]
    },
    {
     "data": {
      "text/plain": [
       "GridSearchCV(cv=KFold(n_splits=5, random_state=32, shuffle=True),\n",
       "       error_score='raise-deprecating',\n",
       "       estimator=XGBRegressor(base_score=0.5, booster='gbtree', colsample_bylevel=1,\n",
       "       colsample_bynode=1, colsample_bytree=1, gamma=0,\n",
       "       importance_type='gain', learning_rate=0.1, max_delta_step=0,\n",
       "       max_depth=3, min_child_weight=1, missing=None, n_estimators=100,\n",
       "       n_jobs=1, nthread=None, objective='reg:linear', random_state=42,\n",
       "       reg_alpha=0, reg_lambda=1, scale_pos_weight=1, seed=None,\n",
       "       silent=None, subsample=1, verbosity=1),\n",
       "       fit_params=None, iid='warn', n_jobs=7,\n",
       "       param_grid={'learning_rate': [0.05, 0.1, 0.15], 'max_depth': [3, 4, 5], 'n_estimators': [500, 1000, 2000]},\n",
       "       pre_dispatch='2*n_jobs', refit=True, return_train_score=True,\n",
       "       scoring='neg_mean_squared_error', verbose=1)"
      ]
     },
     "execution_count": 468,
     "metadata": {},
     "output_type": "execute_result"
    }
   ],
   "source": [
    "# GridSearchCV for multiple hyperparameters:\n",
    "xgb=XGBRegressor()\n",
    "\n",
    "xgb_param_grid ={'learning_rate': [0.05, 0.1, 0.15],\n",
    "             'max_depth': [3, 4, 5],\n",
    "             'n_estimators': [500, 1000, 2000]}\n",
    "\n",
    "xgb.set_params(random_state=42)\n",
    "\n",
    "grid_search_xgb2 = ms.GridSearchCV(xgb, xgb_param_grid, scoring= 'neg_mean_squared_error',\n",
    "                           cv= kfo, n_jobs = 7, return_train_score=True, verbose = 1)\n",
    "grid_search_xgb2.fit(X_train_xgbreduced, Y_train)"
   ]
  },
  {
   "cell_type": "code",
   "execution_count": 469,
   "metadata": {},
   "outputs": [],
   "source": [
    "predictions_tuned_xgb2 = grid_search_xgb2.best_estimator_.predict(X_test_xgbreduced)"
   ]
  },
  {
   "cell_type": "code",
   "execution_count": 470,
   "metadata": {},
   "outputs": [
    {
     "name": "stdout",
     "output_type": "stream",
     "text": [
      "Mean Absolute Error (MAE): $ 13986.98\n",
      "Mean Squared Error (MSE): 0.017012884709177903\n",
      "Root Mean Square Error (RMSE): 0.1304334493493824\n",
      "Root Mean Square Log Error (RMSLE): 0.010254046544161682\n",
      "Mean Absolute Percent Error (MAPE): 8.48 %.\n"
     ]
    }
   ],
   "source": [
    "printErrors(Y_test, predictions_tuned_xgb2)"
   ]
  },
  {
   "cell_type": "markdown",
   "metadata": {},
   "source": [
    "<p><a name=\"ran_for\"></a></p>\n",
    "\n",
    "## Random Forest"
   ]
  },
  {
   "cell_type": "code",
   "execution_count": 471,
   "metadata": {},
   "outputs": [
    {
     "data": {
      "text/plain": [
       "RandomForestRegressor(bootstrap=True, criterion='mse', max_depth=None,\n",
       "           max_features='auto', max_leaf_nodes=None,\n",
       "           min_impurity_decrease=0.0, min_impurity_split=None,\n",
       "           min_samples_leaf=1, min_samples_split=2,\n",
       "           min_weight_fraction_leaf=0.0, n_estimators=10, n_jobs=None,\n",
       "           oob_score=False, random_state=52, verbose=0, warm_start=False)"
      ]
     },
     "execution_count": 471,
     "metadata": {},
     "output_type": "execute_result"
    }
   ],
   "source": [
    "#initialize RF model\n",
    "#default n estimators = 10 will be deprecated and changed to 100 by default in new version .22, \n",
    "#set parameter n_estimators to 10\n",
    "rforest = RandomForestRegressor()\n",
    "\n",
    "rforest.set_params(random_state=52,n_estimators=10,)"
   ]
  },
  {
   "cell_type": "code",
   "execution_count": 472,
   "metadata": {},
   "outputs": [
    {
     "data": {
      "text/plain": [
       "RandomForestRegressor(bootstrap=True, criterion='mse', max_depth=None,\n",
       "           max_features='auto', max_leaf_nodes=None,\n",
       "           min_impurity_decrease=0.0, min_impurity_split=None,\n",
       "           min_samples_leaf=1, min_samples_split=2,\n",
       "           min_weight_fraction_leaf=0.0, n_estimators=10, n_jobs=None,\n",
       "           oob_score=False, random_state=52, verbose=0, warm_start=False)"
      ]
     },
     "execution_count": 472,
     "metadata": {},
     "output_type": "execute_result"
    }
   ],
   "source": [
    "#fit model on train data set\n",
    "rforest.fit(X_train, Y_train)"
   ]
  },
  {
   "cell_type": "code",
   "execution_count": 473,
   "metadata": {},
   "outputs": [
    {
     "name": "stdout",
     "output_type": "stream",
     "text": [
      "The train set R^2 is: 0.97579\n",
      "The test set R^2 is is: 0.83772\n"
     ]
    }
   ],
   "source": [
    "#find R2 of model on train and test data sets\n",
    "print(\"The train set R^2 is: %.5f\" % rforest.score(X_train, Y_train))\n",
    "print(\"The test set R^2 is is: %.5f\" % rforest.score(X_test, Y_test))"
   ]
  },
  {
   "cell_type": "markdown",
   "metadata": {},
   "source": [
    "This fit is the widest gap of all models. Random forest overfits on the test training set. Need to tune parameters"
   ]
  },
  {
   "cell_type": "code",
   "execution_count": 474,
   "metadata": {},
   "outputs": [],
   "source": [
    "# Initial prediction\n",
    "rforest_pred = rforest.predict(X_test)"
   ]
  },
  {
   "cell_type": "code",
   "execution_count": 475,
   "metadata": {},
   "outputs": [
    {
     "name": "stdout",
     "output_type": "stream",
     "text": [
      "Mean Absolute Error (MAE): $ 18569.61\n",
      "Mean Squared Error (MSE): 0.02536417987608232\n",
      "Root Mean Square Error (RMSE): 0.15926135713374515\n",
      "Root Mean Square Log Error (RMSLE): 0.012441321319930365\n",
      "Mean Absolute Percent Error (MAPE): 10.96 %.\n"
     ]
    }
   ],
   "source": [
    "printErrors(Y_test, rforest_pred)"
   ]
  },
  {
   "cell_type": "markdown",
   "metadata": {},
   "source": [
    "MAE is not bad"
   ]
  },
  {
   "cell_type": "code",
   "execution_count": 476,
   "metadata": {},
   "outputs": [],
   "source": [
    "# set parameter grid for kfold cross validation kfold is set above to 5\n",
    "param_grid ={'max_depth': [20, 25, 30],\n",
    "             'max_features': ['auto','sqrt','log2'],\n",
    "             'min_samples_split':[2,3,4],\n",
    "             'min_samples_leaf':[1, 3, 5],\n",
    "             'n_estimators': [500, 750, 1000, 1250, 1500]}"
   ]
  },
  {
   "cell_type": "code",
   "execution_count": 477,
   "metadata": {},
   "outputs": [],
   "source": [
    "#test how different scoring impacts outcome...\n",
    "grid_search_rforest = ms.GridSearchCV(rforest, param_grid, scoring='neg_mean_squared_error', \n",
    "                                     cv= kfo, n_jobs=-1, return_train_score = True)"
   ]
  },
  {
   "cell_type": "code",
   "execution_count": 478,
   "metadata": {},
   "outputs": [
    {
     "name": "stdout",
     "output_type": "stream",
     "text": [
      "Wall time: 1h 2min 9s\n"
     ]
    },
    {
     "data": {
      "text/plain": [
       "GridSearchCV(cv=KFold(n_splits=5, random_state=32, shuffle=True),\n",
       "       error_score='raise-deprecating',\n",
       "       estimator=RandomForestRegressor(bootstrap=True, criterion='mse', max_depth=None,\n",
       "           max_features='auto', max_leaf_nodes=None,\n",
       "           min_impurity_decrease=0.0, min_impurity_split=None,\n",
       "           min_samples_leaf=1, min_samples_split=2,\n",
       "           min_weight_fraction_leaf=0.0, n_estimators=10, n_jobs=None,\n",
       "           oob_score=False, random_state=52, verbose=0, warm_start=False),\n",
       "       fit_params=None, iid='warn', n_jobs=-1,\n",
       "       param_grid={'max_depth': [20, 25, 30], 'max_features': ['auto', 'sqrt', 'log2'], 'min_samples_split': [2, 3, 4], 'min_samples_leaf': [1, 3, 5], 'n_estimators': [500, 750, 1000, 1250, 1500]},\n",
       "       pre_dispatch='2*n_jobs', refit=True, return_train_score=True,\n",
       "       scoring='neg_mean_squared_error', verbose=0)"
      ]
     },
     "execution_count": 478,
     "metadata": {},
     "output_type": "execute_result"
    }
   ],
   "source": [
    "%time grid_search_rforest.fit(X_train, Y_train)"
   ]
  },
  {
   "cell_type": "code",
   "execution_count": 479,
   "metadata": {},
   "outputs": [
    {
     "data": {
      "text/plain": [
       "{'max_depth': 30,\n",
       " 'max_features': 'auto',\n",
       " 'min_samples_leaf': 1,\n",
       " 'min_samples_split': 2,\n",
       " 'n_estimators': 500}"
      ]
     },
     "execution_count": 479,
     "metadata": {},
     "output_type": "execute_result"
    }
   ],
   "source": [
    "# get the best parameters\n",
    "grid_search_rforest.best_params_"
   ]
  },
  {
   "cell_type": "code",
   "execution_count": 480,
   "metadata": {},
   "outputs": [],
   "source": [
    "# Prediction using the tuned parameters\n",
    "grid_rforest = grid_search_rforest.best_estimator_"
   ]
  },
  {
   "cell_type": "code",
   "execution_count": 481,
   "metadata": {},
   "outputs": [
    {
     "name": "stdout",
     "output_type": "stream",
     "text": [
      "The train set R^2 is: 0.98403\n",
      "The test set R^2 is is: 0.85650\n"
     ]
    }
   ],
   "source": [
    "print(\"The train set R^2 is: %.5f\" % grid_rforest.score(X_train, Y_train))\n",
    "print(\"The test set R^2 is is: %.5f\" % grid_rforest.score(X_test, Y_test))"
   ]
  },
  {
   "cell_type": "markdown",
   "metadata": {},
   "source": [
    "Even more over fit on the train data"
   ]
  },
  {
   "cell_type": "code",
   "execution_count": 482,
   "metadata": {},
   "outputs": [],
   "source": [
    "#Prediction with tuned hyperparameters\n",
    "grid_rforest_pred = grid_rforest.predict(X_test)\n",
    "\n",
    "# Calculate the absolute errors\n",
    "#errors = abs(np.expm1(grid_rforest_pred) - np.expm1(y_test))\n",
    "\n",
    "# Print out MAE, MSE, and RMSE\n",
    "#print('Mean Absolute Error (MAE): $', round(np.mean(errors), 2))\n",
    "#print('Mean Squared Error (MSE):', mean_squared_error(y_test, grid_rforest_pred))\n",
    "#print('Root Mean Square Error (RMSE):', np.sqrt(mean_squared_error(y_test, grid_rforest_pred)))\n",
    "\n",
    "# Calculate mean absolute percentage error (MAPE)\n",
    "#mape = 100 * (errors / np.expm1(y_test))\n",
    "#print('Mean Absolute Percent Error (MAPE):', round(np.mean(mape), 2), '%.')\n"
   ]
  },
  {
   "cell_type": "code",
   "execution_count": 483,
   "metadata": {},
   "outputs": [
    {
     "name": "stdout",
     "output_type": "stream",
     "text": [
      "Mean Absolute Error (MAE): $ 16792.78\n",
      "Mean Squared Error (MSE): 0.022428691623270287\n",
      "Root Mean Square Error (RMSE): 0.14976211678281756\n",
      "Root Mean Square Log Error (RMSLE): 0.011717997184920257\n",
      "Mean Absolute Percent Error (MAPE): 10.0 %.\n"
     ]
    }
   ],
   "source": [
    "printErrors(Y_test, grid_rforest_pred)"
   ]
  },
  {
   "cell_type": "code",
   "execution_count": 484,
   "metadata": {},
   "outputs": [
    {
     "data": {
      "image/png": "[encoded data removed]",
      "text/plain": [
       "<Figure size 864x576 with 1 Axes>"
      ]
     },
     "metadata": {},
     "output_type": "display_data"
    }
   ],
   "source": [
    "printMod(X_train,X_test,Y_train,Y_test,grid_rforest,\"Random Forest\")"
   ]
  },
  {
   "cell_type": "code",
   "execution_count": 485,
   "metadata": {},
   "outputs": [
    {
     "name": "stdout",
     "output_type": "stream",
     "text": [
      "Variable: OverallQual          Importance: 0.49358\n",
      "Variable: TotalSF              Importance: 0.27131\n",
      "Variable: CentralAir_Y         Importance: 0.01866\n",
      "Variable: GrLivArea            Importance: 0.01715\n",
      "Variable: GarageArea           Importance: 0.01337\n",
      "Variable: YearBuilt            Importance: 0.01287\n",
      "Variable: YearRemodAdd         Importance: 0.0123\n",
      "Variable: TotalBath            Importance: 0.01225\n",
      "Variable: LotArea              Importance: 0.01209\n",
      "Variable: BsmtFinSF1           Importance: 0.0103\n",
      "Variable: YrSoldMinRem         Importance: 0.00745\n",
      "Variable: BsmtUnfSF            Importance: 0.00622\n",
      "Variable: TotalPorchSF         Importance: 0.0061\n",
      "Variable: OverallCond          Importance: 0.0055\n",
      "Variable: GarageQual_TA        Importance: 0.00521\n",
      "Variable: GarageYrBlt          Importance: 0.00509\n",
      "Variable: Percent_BsmtF        Importance: 0.00492\n",
      "Variable: MSZoning_RM          Importance: 0.00491\n",
      "Variable: GarageType_Detchd    Importance: 0.00449\n",
      "Variable: PavedDrive_Y         Importance: 0.0042\n",
      "Variable: LotFrontage          Importance: 0.00279\n",
      "Variable: MoSold               Importance: 0.00274\n",
      "Variable: NridgHtSF            Importance: 0.00268\n",
      "Variable: GarageCars           Importance: 0.00231\n",
      "Variable: MSSubClass           Importance: 0.00224\n",
      "Variable: Exterior1st_BrkComm  Importance: 0.00215\n",
      "Variable: totNewcity           Importance: 0.00209\n",
      "Variable: KitchenAbvGr         Importance: 0.00199\n",
      "Variable: TotRmsAbvGrd         Importance: 0.00183\n",
      "Variable: YrSold               Importance: 0.00181\n",
      "Variable: BsmtExposure_No      Importance: 0.00175\n",
      "Variable: MasVnrArea           Importance: 0.00164\n",
      "Variable: percent_grliving     Importance: 0.00153\n",
      "Variable: LotShape_Reg         Importance: 0.00139\n",
      "Variable: LotConfig_CulDSac    Importance: 0.00134\n",
      "Variable: KitchenQual_Gd       Importance: 0.00125\n",
      "Variable: BsmtQual_Gd          Importance: 0.00124\n",
      "Variable: SomerstSF            Importance: 0.00114\n",
      "Variable: SaleCondition_Normal Importance: 0.00106\n",
      "Variable: totNewNeigh          Importance: 0.00104\n",
      "Variable: ClearCrSF            Importance: 0.00102\n",
      "Variable: MSZoning_RL          Importance: 0.00099\n",
      "Variable: Exterior2nd_VinylSd  Importance: 0.00098\n",
      "Variable: Exterior2nd_Brk Cmn  Importance: 0.00095\n",
      "Variable: HouseStyle_2Story    Importance: 0.00093\n",
      "Variable: BedroomAbvGr         Importance: 0.00082\n",
      "Variable: Exterior2nd_Plywood  Importance: 0.00081\n",
      "Variable: Functional_Typ       Importance: 0.00081\n",
      "Variable: OldTownQual          Importance: 0.0008\n",
      "Variable: ExterCond_TA         Importance: 0.00079\n",
      "Variable: GarageType_Attchd    Importance: 0.00079\n",
      "Variable: BsmtExposure_Gd      Importance: 0.00076\n",
      "Variable: FireplaceQu_Gd       Importance: 0.00076\n",
      "Variable: YrRemMinBui          Importance: 0.0007\n",
      "Variable: Exterior2nd_CmentBd  Importance: 0.00067\n",
      "Variable: EdwardsSF            Importance: 0.00063\n",
      "Variable: BrkSideQual          Importance: 0.00063\n",
      "Variable: Functional_Maj2      Importance: 0.00062\n",
      "Variable: Fireplaces           Importance: 0.0006\n",
      "Variable: Exterior2nd_HdBoard  Importance: 0.0006\n",
      "Variable: BsmtCond_Gd          Importance: 0.00058\n",
      "Variable: KitchenQual_TA       Importance: 0.00057\n",
      "Variable: GarageFinish_Unf     Importance: 0.00055\n",
      "Variable: Exterior1st_VinylSd  Importance: 0.00054\n",
      "Variable: BrkSideSF            Importance: 0.00054\n",
      "Variable: ExterQual_Fa         Importance: 0.0005\n",
      "Variable: MasVnrType_BrkFace   Importance: 0.00047\n",
      "Variable: GarageQual_Fa        Importance: 0.00045\n",
      "Variable: FireplaceQu_TA       Importance: 0.00044\n",
      "Variable: LotShape_IR2         Importance: 0.00042\n",
      "Variable: LotConfig_Inside     Importance: 0.0004\n",
      "Variable: Electrical_SBrkr     Importance: 0.0004\n",
      "Variable: CrawforSF            Importance: 0.0004\n",
      "Variable: HouseStyle_1Story    Importance: 0.00039\n",
      "Variable: Condition1_Norm      Importance: 0.00037\n",
      "Variable: BsmtQual_Fa          Importance: 0.00036\n",
      "Variable: BsmtFinType2_No      Importance: 0.00035\n",
      "Variable: FireplaceQu_No       Importance: 0.00035\n",
      "Variable: CrawforQual          Importance: 0.00035\n",
      "Variable: BsmtFin              Importance: 0.00031\n",
      "Variable: ExterQual_TA         Importance: 0.00031\n",
      "Variable: BsmtFinSF2           Importance: 0.0003\n",
      "Variable: LandContour_Lvl      Importance: 0.0003\n",
      "Variable: GarageCond_TA        Importance: 0.0003\n",
      "Variable: Exterior1st_Wd Sdng  Importance: 0.00029\n",
      "Variable: OldTownSF            Importance: 0.00029\n",
      "Variable: BsmtFinType1_Rec     Importance: 0.00025\n",
      "Variable: NoRidgeQual          Importance: 0.00025\n",
      "Variable: GarageFinish_RFn     Importance: 0.00024\n",
      "Variable: Neighborhood_Crawfor Importance: 0.00023\n",
      "Variable: HeatingQC_TA         Importance: 0.00022\n",
      "Variable: GarageFinish_No      Importance: 0.00022\n",
      "Variable: Neighborhood_CollgCr Importance: 0.00021\n",
      "Variable: BsmtFinType1_GLQ     Importance: 0.0002\n",
      "Variable: isNew                Importance: 0.00019\n",
      "Variable: LandContour_HLS      Importance: 0.00019\n",
      "Variable: Condition2_Norm      Importance: 0.00019\n",
      "Variable: MasVnrType_Stone     Importance: 0.00019\n",
      "Variable: BsmtQual_TA          Importance: 0.00019\n",
      "Variable: NAmesQual            Importance: 0.00019\n",
      "Variable: ExterQual_Gd         Importance: 0.00018\n",
      "Variable: Electrical_FuseA     Importance: 0.00018\n",
      "Variable: RoofStyle_Gable      Importance: 0.00017\n",
      "Variable: BsmtFinType1_BLQ     Importance: 0.00017\n",
      "Variable: SaleCondition_Family Importance: 0.00017\n",
      "Variable: Neighborhood_Edwards Importance: 0.00017\n",
      "Variable: IDOTRRQual           Importance: 0.00017\n",
      "Variable: RoofStyle_Hip        Importance: 0.00016\n",
      "Variable: HeatingQC_Gd         Importance: 0.00016\n",
      "Variable: Neighborhood_Somerst Importance: 0.00016\n",
      "Variable: NAmesSF              Importance: 0.00016\n",
      "Variable: CollgCrSF            Importance: 0.00016\n",
      "Variable: Exterior1st_Plywood  Importance: 0.00015\n",
      "Variable: BsmtCond_TA          Importance: 0.00015\n",
      "Variable: NridgHtQual          Importance: 0.00015\n",
      "Variable: MiscVal              Importance: 0.00014\n",
      "Variable: BldgType_Duplex      Importance: 0.00014\n",
      "Variable: EdwardsQual          Importance: 0.00014\n",
      "Variable: SawyerWSF            Importance: 0.00013\n",
      "Variable: NoRidgeSF            Importance: 0.00013\n",
      "Variable: LandContour_Low      Importance: 0.00012\n",
      "Variable: BldgType_TwnhsE      Importance: 0.00012\n",
      "Variable: Foundation_PConc     Importance: 0.00012\n",
      "Variable: BsmtFinType1_LwQ     Importance: 0.00012\n",
      "Variable: KitchenQual_Fa       Importance: 0.00012\n",
      "Variable: BsmtExposure_Mn      Importance: 0.00011\n",
      "Variable: GarageCond_Fa        Importance: 0.00011\n",
      "Variable: SaleCondition_Partial Importance: 0.00011\n",
      "Variable: Electrical_FuseF     Importance: 0.0001\n",
      "Variable: Neighborhood_Veenker Importance: 0.0001\n",
      "Variable: Condition2_RRAn      Importance: 9e-05\n",
      "Variable: Exterior1st_CemntBd  Importance: 9e-05\n",
      "Variable: Exterior1st_MetalSd  Importance: 9e-05\n",
      "Variable: ExterCond_Gd         Importance: 9e-05\n",
      "Variable: Foundation_CBlock    Importance: 9e-05\n",
      "Variable: Neighborhood_NAmes   Importance: 9e-05\n",
      "Variable: PavedDrive_P         Importance: 8e-05\n",
      "Variable: GilbertSF            Importance: 8e-05\n",
      "Variable: SawyerSF             Importance: 8e-05\n",
      "Variable: Street_Pave          Importance: 7e-05\n",
      "Variable: GarageType_BuiltIn   Importance: 7e-05\n",
      "Variable: Neighborhood_BrkSide Importance: 7e-05\n",
      "Variable: TimberSF             Importance: 7e-05\n",
      "Variable: BsmtFinType2_GLQ     Importance: 6e-05\n",
      "Variable: MSZoning_RH          Importance: 5e-05\n",
      "Variable: Exterior2nd_Wd Shng  Importance: 5e-05\n",
      "Variable: BsmtFinType1_Unf     Importance: 5e-05\n",
      "Variable: HeatingQC_Fa         Importance: 5e-05\n",
      "Variable: SaleCondition_Alloca Importance: 5e-05\n",
      "Variable: Neighborhood_Gilbert Importance: 5e-05\n",
      "Variable: NWAmesQual           Importance: 5e-05\n",
      "Variable: LotShape_IR3         Importance: 4e-05\n",
      "Variable: BldgType_2fmCon      Importance: 4e-05\n",
      "Variable: Exterior1st_HdBoard  Importance: 4e-05\n",
      "Variable: Exterior2nd_MetalSd  Importance: 4e-05\n",
      "Variable: GarageType_No        Importance: 4e-05\n",
      "Variable: GarageQual_Po        Importance: 4e-05\n",
      "Variable: GarageCond_No        Importance: 4e-05\n",
      "Variable: NWAmesSF             Importance: 4e-05\n",
      "Variable: BldgType_Twnhs       Importance: 3e-05\n",
      "Variable: Exterior2nd_ImStucc  Importance: 3e-05\n",
      "Variable: Exterior2nd_Wd Sdng  Importance: 3e-05\n",
      "Variable: MasVnrType_None      Importance: 3e-05\n",
      "Variable: GarageCond_Po        Importance: 3e-05\n",
      "Variable: Neighborhood_NoRidge Importance: 3e-05\n",
      "Variable: Neighborhood_OldTown Importance: 3e-05\n",
      "Variable: MeadowVSF            Importance: 3e-05\n",
      "Variable: GilbertQual          Importance: 3e-05\n",
      "Variable: SawyerQual           Importance: 3e-05\n",
      "Variable: LowQualFinSF         Importance: 2e-05\n",
      "Variable: LotConfig_FR2        Importance: 2e-05\n",
      "Variable: HouseStyle_SLvl      Importance: 2e-05\n",
      "Variable: Exterior2nd_BrkFace  Importance: 2e-05\n",
      "Variable: Exterior2nd_Stucco   Importance: 2e-05\n",
      "Variable: BsmtFinType2_Rec     Importance: 2e-05\n",
      "Variable: Functional_Min1      Importance: 2e-05\n",
      "Variable: FireplaceQu_Po       Importance: 2e-05\n",
      "Variable: SaleType_New         Importance: 2e-05\n",
      "Variable: Neighborhood_IDOTRR  Importance: 2e-05\n",
      "Variable: Neighborhood_NridgHt Importance: 2e-05\n",
      "Variable: Neighborhood_Sawyer  Importance: 2e-05\n",
      "Variable: StoneBrSF            Importance: 2e-05\n",
      "Variable: SWISUSF              Importance: 2e-05\n",
      "Variable: CollgCrQual          Importance: 2e-05\n",
      "Variable: SawyerWQual          Importance: 2e-05\n",
      "Variable: MSZoning_FV          Importance: 1e-05\n",
      "Variable: Condition1_RRAn      Importance: 1e-05\n",
      "Variable: Exterior1st_BrkFace  Importance: 1e-05\n",
      "Variable: BsmtFinType2_BLQ     Importance: 1e-05\n",
      "Variable: BsmtFinType2_Unf     Importance: 1e-05\n",
      "Variable: Heating_GasA         Importance: 1e-05\n",
      "Variable: FireplaceQu_Fa       Importance: 1e-05\n",
      "Variable: Neighborhood_Mitchel Importance: 1e-05\n",
      "Variable: Neighborhood_NWAmes  Importance: 1e-05\n",
      "Variable: Neighborhood_SawyerW Importance: 1e-05\n",
      "Variable: Neighborhood_Timber  Importance: 1e-05\n",
      "Variable: VeenkerSF            Importance: 1e-05\n",
      "Variable: SomerstQual          Importance: 1e-05\n",
      "Variable: TimberQual           Importance: 1e-05\n",
      "Variable: SWISUQual            Importance: 1e-05\n",
      "Variable: ClearCrQual          Importance: 1e-05\n",
      "Variable: PoolArea             Importance: 0.0\n",
      "Variable: Utilities_NoSeWa     Importance: 0.0\n",
      "Variable: LotConfig_FR3        Importance: 0.0\n",
      "Variable: LandSlope_Mod        Importance: 0.0\n",
      "Variable: LandSlope_Sev        Importance: 0.0\n",
      "Variable: Condition1_Feedr     Importance: 0.0\n",
      "Variable: Condition1_PosA      Importance: 0.0\n",
      "Variable: Condition1_PosN      Importance: 0.0\n",
      "Variable: Condition1_RRAe      Importance: 0.0\n",
      "Variable: Condition1_RRNe      Importance: 0.0\n",
      "Variable: Condition1_RRNn      Importance: 0.0\n",
      "Variable: Condition2_Feedr     Importance: 0.0\n",
      "Variable: Condition2_PosA      Importance: 0.0\n",
      "Variable: Condition2_PosN      Importance: 0.0\n",
      "Variable: Condition2_RRAe      Importance: 0.0\n",
      "Variable: Condition2_RRNn      Importance: 0.0\n",
      "Variable: HouseStyle_1.5Unf    Importance: 0.0\n",
      "Variable: HouseStyle_2.5Fin    Importance: 0.0\n",
      "Variable: HouseStyle_2.5Unf    Importance: 0.0\n",
      "Variable: HouseStyle_SFoyer    Importance: 0.0\n",
      "Variable: RoofStyle_Gambrel    Importance: 0.0\n",
      "Variable: RoofStyle_Mansard    Importance: 0.0\n",
      "Variable: RoofStyle_Shed       Importance: 0.0\n",
      "Variable: RoofMatl_Membran     Importance: 0.0\n",
      "Variable: RoofMatl_Metal       Importance: 0.0\n",
      "Variable: RoofMatl_Roll        Importance: 0.0\n",
      "Variable: RoofMatl_Tar&Grv     Importance: 0.0\n",
      "Variable: RoofMatl_WdShake     Importance: 0.0\n",
      "Variable: RoofMatl_WdShngl     Importance: 0.0\n",
      "Variable: Exterior1st_AsphShn  Importance: 0.0\n",
      "Variable: Exterior1st_CBlock   Importance: 0.0\n",
      "Variable: Exterior1st_ImStucc  Importance: 0.0\n",
      "Variable: Exterior1st_No       Importance: 0.0\n",
      "Variable: Exterior1st_Stone    Importance: 0.0\n",
      "Variable: Exterior1st_Stucco   Importance: 0.0\n",
      "Variable: Exterior1st_WdShing  Importance: 0.0\n",
      "Variable: Exterior2nd_AsphShn  Importance: 0.0\n",
      "Variable: Exterior2nd_CBlock   Importance: 0.0\n",
      "Variable: Exterior2nd_No       Importance: 0.0\n",
      "Variable: Exterior2nd_Other    Importance: 0.0\n",
      "Variable: Exterior2nd_Stone    Importance: 0.0\n",
      "Variable: ExterCond_Fa         Importance: 0.0\n",
      "Variable: ExterCond_Po         Importance: 0.0\n",
      "Variable: Foundation_Slab      Importance: 0.0\n",
      "Variable: Foundation_Stone     Importance: 0.0\n",
      "Variable: Foundation_Wood      Importance: 0.0\n",
      "Variable: BsmtQual_No          Importance: 0.0\n",
      "Variable: BsmtCond_No          Importance: 0.0\n",
      "Variable: BsmtCond_Po          Importance: 0.0\n",
      "Variable: BsmtFinType1_No      Importance: 0.0\n",
      "Variable: BsmtFinType2_LwQ     Importance: 0.0\n",
      "Variable: Heating_GasW         Importance: 0.0\n",
      "Variable: Heating_Grav         Importance: 0.0\n",
      "Variable: Heating_OthW         Importance: 0.0\n",
      "Variable: Heating_Wall         Importance: 0.0\n",
      "Variable: HeatingQC_Po         Importance: 0.0\n",
      "Variable: Electrical_FuseP     Importance: 0.0\n",
      "Variable: Electrical_Mix       Importance: 0.0\n",
      "Variable: Functional_Min2      Importance: 0.0\n",
      "Variable: Functional_Mod       Importance: 0.0\n",
      "Variable: Functional_Sev       Importance: 0.0\n",
      "Variable: GarageType_Basment   Importance: 0.0\n",
      "Variable: GarageType_CarPort   Importance: 0.0\n",
      "Variable: GarageQual_Gd        Importance: 0.0\n",
      "Variable: GarageQual_No        Importance: 0.0\n",
      "Variable: GarageCond_Gd        Importance: 0.0\n",
      "Variable: SaleCondition_AdjLand Importance: 0.0\n",
      "Variable: Neighborhood_Blueste Importance: 0.0\n",
      "Variable: Neighborhood_BrDale  Importance: 0.0\n",
      "Variable: Neighborhood_ClearCr Importance: 0.0\n",
      "Variable: Neighborhood_MeadowV Importance: 0.0\n",
      "Variable: Neighborhood_NPkVill Importance: 0.0\n",
      "Variable: Neighborhood_SWISU   Importance: 0.0\n",
      "Variable: Neighborhood_StoneBr Importance: 0.0\n",
      "Variable: MitchelSF            Importance: 0.0\n",
      "Variable: IDOTRRSF             Importance: 0.0\n",
      "Variable: BrDaleSF             Importance: 0.0\n",
      "Variable: NPkVillSF            Importance: 0.0\n",
      "Variable: BluesteSF            Importance: 0.0\n",
      "Variable: MitchelQual          Importance: 0.0\n",
      "Variable: StoneBrQual          Importance: 0.0\n",
      "Variable: MeadowVQual          Importance: 0.0\n",
      "Variable: BrDaleual            Importance: 0.0\n",
      "Variable: VeenkerQual          Importance: 0.0\n",
      "Variable: NPkVillQual          Importance: 0.0\n",
      "Variable: BluesteQual          Importance: 0.0\n"
     ]
    },
    {
     "data": {
      "text/plain": [
       "[None,\n",
       " None,\n",
       " None,\n",
       " None,\n",
       " None,\n",
       " None,\n",
       " None,\n",
       " None,\n",
       " None,\n",
       " None,\n",
       " None,\n",
       " None,\n",
       " None,\n",
       " None,\n",
       " None,\n",
       " None,\n",
       " None,\n",
       " None,\n",
       " None,\n",
       " None,\n",
       " None,\n",
       " None,\n",
       " None,\n",
       " None,\n",
       " None,\n",
       " None,\n",
       " None,\n",
       " None,\n",
       " None,\n",
       " None,\n",
       " None,\n",
       " None,\n",
       " None,\n",
       " None,\n",
       " None,\n",
       " None,\n",
       " None,\n",
       " None,\n",
       " None,\n",
       " None,\n",
       " None,\n",
       " None,\n",
       " None,\n",
       " None,\n",
       " None,\n",
       " None,\n",
       " None,\n",
       " None,\n",
       " None,\n",
       " None,\n",
       " None,\n",
       " None,\n",
       " None,\n",
       " None,\n",
       " None,\n",
       " None,\n",
       " None,\n",
       " None,\n",
       " None,\n",
       " None,\n",
       " None,\n",
       " None,\n",
       " None,\n",
       " None,\n",
       " None,\n",
       " None,\n",
       " None,\n",
       " None,\n",
       " None,\n",
       " None,\n",
       " None,\n",
       " None,\n",
       " None,\n",
       " None,\n",
       " None,\n",
       " None,\n",
       " None,\n",
       " None,\n",
       " None,\n",
       " None,\n",
       " None,\n",
       " None,\n",
       " None,\n",
       " None,\n",
       " None,\n",
       " None,\n",
       " None,\n",
       " None,\n",
       " None,\n",
       " None,\n",
       " None,\n",
       " None,\n",
       " None,\n",
       " None,\n",
       " None,\n",
       " None,\n",
       " None,\n",
       " None,\n",
       " None,\n",
       " None,\n",
       " None,\n",
       " None,\n",
       " None,\n",
       " None,\n",
       " None,\n",
       " None,\n",
       " None,\n",
       " None,\n",
       " None,\n",
       " None,\n",
       " None,\n",
       " None,\n",
       " None,\n",
       " None,\n",
       " None,\n",
       " None,\n",
       " None,\n",
       " None,\n",
       " None,\n",
       " None,\n",
       " None,\n",
       " None,\n",
       " None,\n",
       " None,\n",
       " None,\n",
       " None,\n",
       " None,\n",
       " None,\n",
       " None,\n",
       " None,\n",
       " None,\n",
       " None,\n",
       " None,\n",
       " None,\n",
       " None,\n",
       " None,\n",
       " None,\n",
       " None,\n",
       " None,\n",
       " None,\n",
       " None,\n",
       " None,\n",
       " None,\n",
       " None,\n",
       " None,\n",
       " None,\n",
       " None,\n",
       " None,\n",
       " None,\n",
       " None,\n",
       " None,\n",
       " None,\n",
       " None,\n",
       " None,\n",
       " None,\n",
       " None,\n",
       " None,\n",
       " None,\n",
       " None,\n",
       " None,\n",
       " None,\n",
       " None,\n",
       " None,\n",
       " None,\n",
       " None,\n",
       " None,\n",
       " None,\n",
       " None,\n",
       " None,\n",
       " None,\n",
       " None,\n",
       " None,\n",
       " None,\n",
       " None,\n",
       " None,\n",
       " None,\n",
       " None,\n",
       " None,\n",
       " None,\n",
       " None,\n",
       " None,\n",
       " None,\n",
       " None,\n",
       " None,\n",
       " None,\n",
       " None,\n",
       " None,\n",
       " None,\n",
       " None,\n",
       " None,\n",
       " None,\n",
       " None,\n",
       " None,\n",
       " None,\n",
       " None,\n",
       " None,\n",
       " None,\n",
       " None,\n",
       " None,\n",
       " None,\n",
       " None,\n",
       " None,\n",
       " None,\n",
       " None,\n",
       " None,\n",
       " None,\n",
       " None,\n",
       " None,\n",
       " None,\n",
       " None,\n",
       " None,\n",
       " None,\n",
       " None,\n",
       " None,\n",
       " None,\n",
       " None,\n",
       " None,\n",
       " None,\n",
       " None,\n",
       " None,\n",
       " None,\n",
       " None,\n",
       " None,\n",
       " None,\n",
       " None,\n",
       " None,\n",
       " None,\n",
       " None,\n",
       " None,\n",
       " None,\n",
       " None,\n",
       " None,\n",
       " None,\n",
       " None,\n",
       " None,\n",
       " None,\n",
       " None,\n",
       " None,\n",
       " None,\n",
       " None,\n",
       " None,\n",
       " None,\n",
       " None,\n",
       " None,\n",
       " None,\n",
       " None,\n",
       " None,\n",
       " None,\n",
       " None,\n",
       " None,\n",
       " None,\n",
       " None,\n",
       " None,\n",
       " None,\n",
       " None,\n",
       " None,\n",
       " None,\n",
       " None,\n",
       " None,\n",
       " None,\n",
       " None,\n",
       " None,\n",
       " None,\n",
       " None,\n",
       " None,\n",
       " None,\n",
       " None,\n",
       " None,\n",
       " None,\n",
       " None,\n",
       " None,\n",
       " None,\n",
       " None,\n",
       " None,\n",
       " None,\n",
       " None,\n",
       " None,\n",
       " None,\n",
       " None,\n",
       " None,\n",
       " None,\n",
       " None,\n",
       " None,\n",
       " None,\n",
       " None,\n",
       " None,\n",
       " None]"
      ]
     },
     "execution_count": 485,
     "metadata": {},
     "output_type": "execute_result"
    }
   ],
   "source": [
    "# Random Forest Feature Importance \n",
    "# Get numerical feature importances\n",
    "feats_rf = list(rforest.feature_importances_)\n",
    "\n",
    "# List of tuples with variable and importance\n",
    "feats_rf_score = [(feature, round(importance, 5)) for feature, importance in zip(X_train.columns, feats_rf)]\n",
    "\n",
    "# Sort the feature importances by most important first\n",
    "sorted_feats_rf_score = sorted(feats_rf_score, key = lambda x: x[1], reverse = True )\n",
    "\n",
    "# Print out the feature and importances \n",
    "[print('Variable: {:20} Importance: {}'.format(*pair)) for pair in sorted_feats_rf_score]"
   ]
  },
  {
   "cell_type": "code",
   "execution_count": 486,
   "metadata": {},
   "outputs": [
    {
     "data": {
      "text/plain": [
       "Text(0.5, 1.0, 'Feature Importances')"
      ]
     },
     "execution_count": 486,
     "metadata": {},
     "output_type": "execute_result"
    },
    {
     "data": {
      "image/png": "[encoded data removed]",
      "text/plain": [
       "<Figure size 432x288 with 1 Axes>"
      ]
     },
     "metadata": {},
     "output_type": "display_data"
    }
   ],
   "source": [
    "rf_feature_importances_top20 = sorted_feats_rf_score[:20]\n",
    "featureNames, featureScores = zip(*list(rf_feature_importances_top20))\n",
    "\n",
    "plt.barh(range(len(featureScores)), featureScores, tick_label=featureNames)\n",
    "plt.gca().invert_yaxis()\n",
    "plt.title('feature importance')\n",
    "plt.ylabel('Features')\n",
    "plt.xlabel('Importance Score')\n",
    "plt.title('Feature Importances')"
   ]
  },
  {
   "cell_type": "code",
   "execution_count": 488,
   "metadata": {},
   "outputs": [],
   "source": [
    "grid_rforest = grid_search_rforest.best_estimator_\n",
    "feature_importance = 100.0 * (grid_rforest.feature_importances_ / grid_rforest.feature_importances_.max())\n",
    "important_features = X_train.columns[feature_importance >= 0.0]\n",
    "unimportant_features = X_train.columns[feature_importance < 0.0]"
   ]
  },
  {
   "cell_type": "code",
   "execution_count": 489,
   "metadata": {},
   "outputs": [],
   "source": [
    "X_train_reduced = X_train.drop(unimportant_features, axis=1)\n",
    "X_test_reduced = X_test.drop(unimportant_features, axis=1)"
   ]
  },
  {
   "cell_type": "code",
   "execution_count": 490,
   "metadata": {},
   "outputs": [
    {
     "name": "stdout",
     "output_type": "stream",
     "text": [
      "Fitting 5 folds for each of 180 candidates, totalling 900 fits\n"
     ]
    },
    {
     "name": "stderr",
     "output_type": "stream",
     "text": [
      "[Parallel(n_jobs=-1)]: Using backend LokyBackend with 4 concurrent workers.\n",
      "[Parallel(n_jobs=-1)]: Done  42 tasks      | elapsed:  1.5min\n",
      "[Parallel(n_jobs=-1)]: Done 192 tasks      | elapsed:  3.1min\n",
      "[Parallel(n_jobs=-1)]: Done 442 tasks      | elapsed:  8.6min\n",
      "[Parallel(n_jobs=-1)]: Done 792 tasks      | elapsed: 15.0min\n",
      "[Parallel(n_jobs=-1)]: Done 900 out of 900 | elapsed: 15.7min finished\n"
     ]
    },
    {
     "data": {
      "text/plain": [
       "GridSearchCV(cv=KFold(n_splits=5, random_state=32, shuffle=True),\n",
       "       error_score='raise-deprecating',\n",
       "       estimator=RandomForestRegressor(bootstrap=True, criterion='mse', max_depth=None,\n",
       "           max_features='auto', max_leaf_nodes=None,\n",
       "           min_impurity_decrease=0.0, min_impurity_split=None,\n",
       "           min_samples_leaf=1, min_samples_split=2,\n",
       "           min_weight_fraction_leaf=0.0, n_estimators='warn', n_jobs=None,\n",
       "           oob_score=False, random_state=42, verbose=0, warm_start=False),\n",
       "       fit_params=None, iid='warn', n_jobs=-1,\n",
       "       param_grid={'max_depth': [10, 20, 30, 40, 50], 'max_features': ['auto', 'sqrt', 'log2'], 'min_samples_split': [2, 3, 4], 'n_estimators': [100, 300, 500, 800]},\n",
       "       pre_dispatch='2*n_jobs', refit=True, return_train_score=True,\n",
       "       scoring='neg_mean_squared_error', verbose=1)"
      ]
     },
     "execution_count": 490,
     "metadata": {},
     "output_type": "execute_result"
    }
   ],
   "source": [
    "# GridSearchCV for multiple hyperparameters:\n",
    "rForest_feats = RandomForestRegressor()\n",
    "\n",
    "param_grid ={'max_depth': [10, 20, 30, 40, 50],\n",
    "             'max_features': ['auto','sqrt','log2'],\n",
    "             'min_samples_split':[2,3,4],\n",
    "             'n_estimators': [100, 300, 500, 800]}\n",
    "\n",
    "rForest_feats.set_params(random_state=42)\n",
    "\n",
    "grid_search_rForest2 = ms.GridSearchCV(rForest_feats, param_grid, scoring= 'neg_mean_squared_error',\n",
    "                           cv= kfo, n_jobs = -1, return_train_score=True, verbose = 1)\n",
    "grid_search_rForest2.fit(X_train_reduced, Y_train)"
   ]
  },
  {
   "cell_type": "code",
   "execution_count": null,
   "metadata": {},
   "outputs": [
    {
     "name": "stdout",
     "output_type": "stream",
     "text": [
      "Fitting 5 folds for each of 180 candidates, totalling 900 fits\n"
     ]
    },
    {
     "name": "stderr",
     "output_type": "stream",
     "text": [
      "[Parallel(n_jobs=-1)]: Using backend LokyBackend with 4 concurrent workers.\n",
      "[Parallel(n_jobs=-1)]: Done  42 tasks      | elapsed:  1.3min\n",
      "[Parallel(n_jobs=-1)]: Done 192 tasks      | elapsed:  2.8min\n",
      "[Parallel(n_jobs=-1)]: Done 442 tasks      | elapsed:  7.9min\n",
      "[Parallel(n_jobs=-1)]: Done 792 tasks      | elapsed: 14.1min\n",
      "[Parallel(n_jobs=-1)]: Done 900 out of 900 | elapsed: 14.8min finished\n"
     ]
    },
    {
     "name": "stdout",
     "output_type": "stream",
     "text": [
      "Fitting 5 folds for each of 180 candidates, totalling 900 fits\n"
     ]
    },
    {
     "name": "stderr",
     "output_type": "stream",
     "text": [
      "[Parallel(n_jobs=-1)]: Using backend LokyBackend with 4 concurrent workers.\n",
      "[Parallel(n_jobs=-1)]: Done  42 tasks      | elapsed:  1.4min\n",
      "[Parallel(n_jobs=-1)]: Done 192 tasks      | elapsed:  2.9min\n",
      "[Parallel(n_jobs=-1)]: Done 442 tasks      | elapsed:  8.3min\n"
     ]
    }
   ],
   "source": [
    "# GridSearchCV for multiple hyperparameters:\n",
    "rForest_feats = RandomForestRegressor()\n",
    "\n",
    "param_grid ={'max_depth': [10, 20, 30, 40, 50],\n",
    "             'max_features': ['auto','sqrt','log2'],\n",
    "             'min_samples_split':[2,3,4],\n",
    "             'n_estimators': [100, 300, 500, 800]}\n",
    "\n",
    "rForest_feats.set_params(random_state=42)\n",
    "\n",
    "grid_search_rForest2 = ms.GridSearchCV(rForest_feats, param_grid, scoring= 'neg_mean_squared_error',\n",
    "                           cv= kfo, n_jobs = -1, return_train_score=True, verbose = 1)\n",
    "grid_search_rForest2.fit(X_train_reduced, Y_train)# GridSearchCV for multiple hyperparameters:\n",
    "rForest_feats = RandomForestRegressor()\n",
    "\n",
    "param_grid ={'max_depth': [10, 20, 30, 40, 50],\n",
    "             'max_features': ['auto','sqrt','log2'],\n",
    "             'min_samples_split':[2,3,4],\n",
    "             'n_estimators': [100, 300, 500, 800]}\n",
    "\n",
    "rForest_feats.set_params(random_state=42)\n",
    "\n",
    "grid_search_rForest2 = ms.GridSearchCV(rForest_feats, param_grid, scoring= 'neg_mean_squared_error',\n",
    "                           cv= kfo, n_jobs = -1, return_train_score=True, verbose = 1)\n",
    "grid_search_rForest2.fit(X_train_reduced, Y_train)"
   ]
  },
  {
   "cell_type": "code",
   "execution_count": 348,
   "metadata": {},
   "outputs": [
    {
     "data": {
      "text/plain": [
       "{'max_depth': 20,\n",
       " 'max_features': 'auto',\n",
       " 'min_samples_split': 3,\n",
       " 'n_estimators': 800}"
      ]
     },
     "execution_count": 348,
     "metadata": {},
     "output_type": "execute_result"
    }
   ],
   "source": [
    "# get the best parameters\n",
    "grid_search_rForest2.best_params_"
   ]
  },
  {
   "cell_type": "code",
   "execution_count": 349,
   "metadata": {},
   "outputs": [
    {
     "name": "stdout",
     "output_type": "stream",
     "text": [
      "Mean Absolute Error (MAE): $ 16704.88\n",
      "MSE: 0.022159477981654564\n",
      "RMSE: 0.14886059915791877\n",
      "MAPE: 10.0 %.\n"
     ]
    }
   ],
   "source": [
    "# Use the forest's predict method on the test data\n",
    "predictions_tuned_rForest2 = grid_search_rForest2.best_estimator_.predict(X_test_reduced)\n",
    "\n",
    "# Calculate the absolute errors\n",
    "errors = abs(np.expm1(predictions_tuned_rForest2) - np.expm1(Y_test))\n",
    "\n",
    "# Print out the mean absolute error (MAE)\n",
    "print('Mean Absolute Error (MAE): $', round(np.mean(errors), 2))\n",
    "print('MSE:', mean_squared_error(Y_test, predictions_tuned_rForest2))\n",
    "print('RMSE:', np.sqrt(mean_squared_error(Y_test, predictions_tuned_rForest2)))\n",
    "\n",
    "# Calculate mean absolute percentage error (MAPE)\n",
    "mape = 100 * (errors / np.expm1(Y_test))\n",
    "\n",
    "# Calculate and display MAPE\n",
    "#accuracy = 100 - np.mean(mape)\n",
    "print('MAPE:', round(np.mean(mape), 2), '%.')"
   ]
  },
  {
   "cell_type": "markdown",
   "metadata": {},
   "source": [
    "<p><a name=\"sim_stack\"></a></p>\n",
    "\n",
    "## Stacking"
   ]
  },
  {
   "cell_type": "code",
   "execution_count": 307,
   "metadata": {},
   "outputs": [],
   "source": [
    "stackMod = StackingCVRegressor(regressors=(grid_lasso,grid_eNet,grid_xgb,grid_rforest),\n",
    "                              meta_regressor = grid_xgb, shuffle = True,\n",
    "                              random_state = 20,\n",
    "                              use_features_in_secondary= True)"
   ]
  },
  {
   "cell_type": "code",
   "execution_count": 308,
   "metadata": {},
   "outputs": [
    {
     "name": "stdout",
     "output_type": "stream",
     "text": [
      "Wall time: 57 s\n"
     ]
    },
    {
     "data": {
      "text/plain": [
       "StackingCVRegressor(cv=5,\n",
       "          meta_regressor=XGBRegressor(base_score=0.5, booster='gbtree', colsample_bylevel=1,\n",
       "       colsample_bynode=1, colsample_bytree=1, gamma=0,\n",
       "       importance_type='gain', learning_rate=0.05, max_delta_step=0,\n",
       "       max_depth=2, min_child_weight=6, missing=None, n_estimators=600,\n",
       "       n_jobs=1, nthread=None, objective='reg:squarederror',\n",
       "       random_state=22, reg_alpha=0, reg_lambda=1, scale_pos_weight=1,\n",
       "       seed=None, silent=None, subsample=1, verbosity=1),\n",
       "          n_jobs=None, pre_dispatch='2*n_jobs', random_state=20,\n",
       "          refit=True,\n",
       "          regressors=(Lasso(alpha=5e-05, copy_X=True, fit_intercept=True, max_iter=500,\n",
       "   normalize=True, positive=False, precompute=False, random_state=28,\n",
       "   selection='cyclic', tol=0.0001, warm_start=False), ElasticNet(alpha=0.00010263188763546239, copy_X=True, fit_intercept=True,\n",
       "      l1_ratio=0.9, max_...imators=500, n_jobs=None,\n",
       "           oob_score=False, random_state=52, verbose=0, warm_start=False)),\n",
       "          shuffle=True, store_train_meta_features=False,\n",
       "          use_features_in_secondary=True, verbose=0)"
      ]
     },
     "execution_count": 308,
     "metadata": {},
     "output_type": "execute_result"
    }
   ],
   "source": [
    "%time stackMod.fit(X_train,Y_train)"
   ]
  },
  {
   "cell_type": "code",
   "execution_count": 310,
   "metadata": {},
   "outputs": [
    {
     "name": "stdout",
     "output_type": "stream",
     "text": [
      "Train R^2: 0.97401\n",
      "Test R^2: 0.89806\n"
     ]
    }
   ],
   "source": [
    "print(\"Train R^2: %.5f\" % stackMod.score(np.array(X_train), np.array(Y_train)))\n",
    "print(\"Test R^2: %.5f\" % stackMod.score(np.array(X_test), np.array(Y_test)))"
   ]
  },
  {
   "cell_type": "code",
   "execution_count": 316,
   "metadata": {},
   "outputs": [],
   "source": [
    "# Initial prediction\n",
    "stackMod_pred = stackMod.predict(np.array(X_test))"
   ]
  },
  {
   "cell_type": "code",
   "execution_count": 317,
   "metadata": {},
   "outputs": [
    {
     "name": "stdout",
     "output_type": "stream",
     "text": [
      "Mean Absolute Error (MAE): $ 13588.6\n",
      "Mean Squared Error (MSE): 0.015933952975111874\n",
      "Root Mean Square Error (RMSE): 0.12622976263588503\n",
      "Root Mean Square Log Error (RMSLE): 0.009964777221980681\n",
      "Mean Absolute Percent Error (MAPE): 8.0 %.\n"
     ]
    }
   ],
   "source": [
    "printErrors(Y_test, stackMod_pred)"
   ]
  },
  {
   "cell_type": "markdown",
   "metadata": {},
   "source": [
    "#### Meta-Model without Random Forest"
   ]
  },
  {
   "cell_type": "code",
   "execution_count": 318,
   "metadata": {},
   "outputs": [],
   "source": [
    "stackModwoRF = StackingCVRegressor(regressors=(grid_lasso, grid_eNet, grid_xgb1),\n",
    "                                meta_regressor=grid_eNet, shuffle = True,\n",
    "                                random_state = 20,\n",
    "                                use_features_in_secondary=True)"
   ]
  },
  {
   "cell_type": "code",
   "execution_count": 319,
   "metadata": {},
   "outputs": [
    {
     "name": "stdout",
     "output_type": "stream",
     "text": [
      "Wall time: 1min 47s\n"
     ]
    },
    {
     "data": {
      "text/plain": [
       "StackingCVRegressor(cv=5,\n",
       "          meta_regressor=ElasticNet(alpha=0.00010263188763546239, copy_X=True, fit_intercept=True,\n",
       "      l1_ratio=0.9, max_iter=500, normalize=True, positive=False,\n",
       "      precompute=False, random_state=42, selection='cyclic', tol=0.0001,\n",
       "      warm_start=False),\n",
       "          n_jobs=None, pre_dispatch='2*n_jobs', random_state=20,\n",
       "          refit=True,\n",
       "          regressors=(Lasso(alpha=5e-05, copy_X=True, fit_intercept=True, max_iter=500,\n",
       "   normalize=True, positive=False, precompute=False, random_state=28,\n",
       "   selection='cyclic', tol=0.0001, warm_start=False), ElasticNet(alpha=0.00010263188763546239, copy_X=True, fit_intercept=True,\n",
       "      l1_ratio=0.9, max_...a=6e-05, reg_lambda=1, scale_pos_weight=1, seed=27,\n",
       "       silent=None, subsample=0.7, verbosity=1)),\n",
       "          shuffle=True, store_train_meta_features=False,\n",
       "          use_features_in_secondary=True, verbose=0)"
      ]
     },
     "execution_count": 319,
     "metadata": {},
     "output_type": "execute_result"
    }
   ],
   "source": [
    "%time stackModwoRF.fit(np.array(X_train),np.array(Y_train))"
   ]
  },
  {
   "cell_type": "code",
   "execution_count": 320,
   "metadata": {},
   "outputs": [
    {
     "name": "stdout",
     "output_type": "stream",
     "text": [
      "Train R^2: 0.96658\n",
      "Test R^2: 0.89335\n"
     ]
    }
   ],
   "source": [
    "print(\"Train R^2: %.5f\" % stackModwoRF.score(np.array(X_train), np.array(Y_train)))\n",
    "print(\"Test R^2: %.5f\" % stackModwoRF.score(np.array(X_test), np.array(Y_test)))"
   ]
  },
  {
   "cell_type": "code",
   "execution_count": 321,
   "metadata": {},
   "outputs": [],
   "source": [
    "# Initial prediction\n",
    "stackModwoRF_pred = stackModwoRF.predict(np.array(X_test))\n"
   ]
  },
  {
   "cell_type": "code",
   "execution_count": 322,
   "metadata": {},
   "outputs": [
    {
     "name": "stdout",
     "output_type": "stream",
     "text": [
      "Mean Absolute Error (MAE): $ 13156.04\n",
      "Mean Squared Error (MSE): 0.01666914345415851\n",
      "Root Mean Square Error (RMSE): 0.12910903707393417\n",
      "Root Mean Square Log Error (RMSLE): 0.010238637156632745\n",
      "Mean Absolute Percent Error (MAPE): 8.12 %.\n"
     ]
    }
   ],
   "source": [
    "printErrors(Y_test, stackModwoRF_pred)"
   ]
  },
  {
   "cell_type": "markdown",
   "metadata": {},
   "source": [
    "#### Meta-Model All meta regressor Lasso"
   ]
  },
  {
   "cell_type": "code",
   "execution_count": 381,
   "metadata": {},
   "outputs": [],
   "source": [
    "stackModwAllLas = StackingCVRegressor(regressors=(grid_lasso, grid_eNet, grid_search_xgb2,grid_rforest),\n",
    "                                meta_regressor=grid_lasso, shuffle = True,\n",
    "                                random_state = 20,\n",
    "                                use_features_in_secondary=True)"
   ]
  },
  {
   "cell_type": "code",
   "execution_count": 382,
   "metadata": {},
   "outputs": [
    {
     "name": "stdout",
     "output_type": "stream",
     "text": [
      "Fitting 5 folds for each of 27 candidates, totalling 135 fits\n"
     ]
    },
    {
     "name": "stderr",
     "output_type": "stream",
     "text": [
      "[Parallel(n_jobs=7)]: Using backend LokyBackend with 7 concurrent workers.\n",
      "[Parallel(n_jobs=7)]: Done  36 tasks      | elapsed:   45.7s\n",
      "[Parallel(n_jobs=7)]: Done 135 out of 135 | elapsed:  2.3min finished\n"
     ]
    },
    {
     "name": "stdout",
     "output_type": "stream",
     "text": [
      "[13:31:41] WARNING: C:/Jenkins/workspace/xgboost-win64_release_0.90/src/objective/regression_obj.cu:152: reg:linear is now deprecated in favor of reg:squarederror.\n",
      "Fitting 5 folds for each of 27 candidates, totalling 135 fits\n"
     ]
    },
    {
     "name": "stderr",
     "output_type": "stream",
     "text": [
      "[Parallel(n_jobs=7)]: Using backend LokyBackend with 7 concurrent workers.\n",
      "[Parallel(n_jobs=7)]: Done  36 tasks      | elapsed:   44.8s\n",
      "[Parallel(n_jobs=7)]: Done 135 out of 135 | elapsed:  2.3min finished\n"
     ]
    },
    {
     "name": "stdout",
     "output_type": "stream",
     "text": [
      "[13:33:59] WARNING: C:/Jenkins/workspace/xgboost-win64_release_0.90/src/objective/regression_obj.cu:152: reg:linear is now deprecated in favor of reg:squarederror.\n",
      "Fitting 5 folds for each of 27 candidates, totalling 135 fits\n"
     ]
    },
    {
     "name": "stderr",
     "output_type": "stream",
     "text": [
      "[Parallel(n_jobs=7)]: Using backend LokyBackend with 7 concurrent workers.\n",
      "[Parallel(n_jobs=7)]: Done  36 tasks      | elapsed:   47.3s\n",
      "[Parallel(n_jobs=7)]: Done 135 out of 135 | elapsed:  2.3min finished\n"
     ]
    },
    {
     "name": "stdout",
     "output_type": "stream",
     "text": [
      "[13:36:19] WARNING: C:/Jenkins/workspace/xgboost-win64_release_0.90/src/objective/regression_obj.cu:152: reg:linear is now deprecated in favor of reg:squarederror.\n",
      "Fitting 5 folds for each of 27 candidates, totalling 135 fits\n"
     ]
    },
    {
     "name": "stderr",
     "output_type": "stream",
     "text": [
      "[Parallel(n_jobs=7)]: Using backend LokyBackend with 7 concurrent workers.\n",
      "[Parallel(n_jobs=7)]: Done  36 tasks      | elapsed:   44.5s\n",
      "[Parallel(n_jobs=7)]: Done 135 out of 135 | elapsed:  2.3min finished\n"
     ]
    },
    {
     "name": "stdout",
     "output_type": "stream",
     "text": [
      "[13:38:41] WARNING: C:/Jenkins/workspace/xgboost-win64_release_0.90/src/objective/regression_obj.cu:152: reg:linear is now deprecated in favor of reg:squarederror.\n",
      "Fitting 5 folds for each of 27 candidates, totalling 135 fits\n"
     ]
    },
    {
     "name": "stderr",
     "output_type": "stream",
     "text": [
      "[Parallel(n_jobs=7)]: Using backend LokyBackend with 7 concurrent workers.\n",
      "[Parallel(n_jobs=7)]: Done  36 tasks      | elapsed:   45.6s\n",
      "[Parallel(n_jobs=7)]: Done 135 out of 135 | elapsed:  2.3min finished\n"
     ]
    },
    {
     "name": "stdout",
     "output_type": "stream",
     "text": [
      "[13:41:00] WARNING: C:/Jenkins/workspace/xgboost-win64_release_0.90/src/objective/regression_obj.cu:152: reg:linear is now deprecated in favor of reg:squarederror.\n",
      "Fitting 5 folds for each of 27 candidates, totalling 135 fits\n"
     ]
    },
    {
     "name": "stderr",
     "output_type": "stream",
     "text": [
      "[Parallel(n_jobs=7)]: Using backend LokyBackend with 7 concurrent workers.\n",
      "[Parallel(n_jobs=7)]: Done  36 tasks      | elapsed:   57.4s\n",
      "[Parallel(n_jobs=7)]: Done 135 out of 135 | elapsed:  2.9min finished\n"
     ]
    },
    {
     "name": "stdout",
     "output_type": "stream",
     "text": [
      "[13:44:07] WARNING: C:/Jenkins/workspace/xgboost-win64_release_0.90/src/objective/regression_obj.cu:152: reg:linear is now deprecated in favor of reg:squarederror.\n",
      "Wall time: 14min 51s\n"
     ]
    },
    {
     "data": {
      "text/plain": [
       "StackingCVRegressor(cv=5,\n",
       "          meta_regressor=Lasso(alpha=5e-05, copy_X=True, fit_intercept=True, max_iter=500,\n",
       "   normalize=True, positive=False, precompute=False, random_state=28,\n",
       "   selection='cyclic', tol=0.0001, warm_start=False),\n",
       "          n_jobs=None, pre_dispatch='2*n_jobs', random_state=20,\n",
       "          refit=True,\n",
       "          regressors=(Lasso(alpha=5e-05, copy_X=True, fit_intercept=True, max_iter=500,\n",
       "   normalize=True, positive=False, precompute=False, random_state=28,\n",
       "   selection='cyclic', tol=0.0001, warm_start=False), ElasticNet(alpha=0.00010263188763546239, copy_X=True, fit_intercept=True,\n",
       "      l1_ratio=0.9, max_...imators=500, n_jobs=None,\n",
       "           oob_score=False, random_state=52, verbose=0, warm_start=False)),\n",
       "          shuffle=True, store_train_meta_features=False,\n",
       "          use_features_in_secondary=True, verbose=0)"
      ]
     },
     "execution_count": 382,
     "metadata": {},
     "output_type": "execute_result"
    }
   ],
   "source": [
    "%time stackModwAllLas.fit(np.array(X_test),np.array(Y_test))"
   ]
  },
  {
   "cell_type": "code",
   "execution_count": 383,
   "metadata": {},
   "outputs": [
    {
     "name": "stdout",
     "output_type": "stream",
     "text": [
      "Train R^2: 0.88741\n",
      "Test R^2: 0.94969\n"
     ]
    }
   ],
   "source": [
    "print(\"Train R^2: %.5f\" % stackModwAllLas.score(np.array(X_train), np.array(Y_train)))\n",
    "print(\"Test R^2: %.5f\" % stackModwAllLas.score(np.array(X_test), np.array(Y_test)))"
   ]
  },
  {
   "cell_type": "markdown",
   "metadata": {},
   "source": [
    "Model using Lasso as meta regressor performs better on the test than the train, will select this model and tune hyper parameters"
   ]
  },
  {
   "cell_type": "code",
   "execution_count": 384,
   "metadata": {},
   "outputs": [],
   "source": [
    "# Initial prediction\n",
    "stackModwAllLas_pred = stackModwAllLas.predict(np.array(X_test))"
   ]
  },
  {
   "cell_type": "code",
   "execution_count": 385,
   "metadata": {},
   "outputs": [
    {
     "name": "stdout",
     "output_type": "stream",
     "text": [
      "Mean Absolute Error (MAE): $ 10724.97\n",
      "Mean Squared Error (MSE): 0.007863017527441677\n",
      "Root Mean Square Error (RMSE): 0.08867365746061046\n",
      "Root Mean Square Log Error (RMSLE): 0.0069602152227022426\n",
      "Mean Absolute Percent Error (MAPE): 6.41 %.\n"
     ]
    }
   ],
   "source": [
    "printErrors(Y_test, stackModwAllLas_pred)"
   ]
  },
  {
   "cell_type": "code",
   "execution_count": 368,
   "metadata": {},
   "outputs": [],
   "source": [
    "\n",
    "def rmse_stack(model):\n",
    "    \"\"\"\n",
    "    Perform kfold cross validation on stack model\n",
    "    k = 5\n",
    "    \"\"\"\n",
    "    kf = KFold(n_splits = 5, shuffle=True, random_state=20).get_n_splits(X_train)\n",
    "    rmse= np.sqrt(-cross_val_score(model, np.array(X_train), Y_train, scoring=\"neg_mean_squared_error\", cv = kf))\n",
    "    return(rmse)"
   ]
  },
  {
   "cell_type": "code",
   "execution_count": 369,
   "metadata": {},
   "outputs": [
    {
     "name": "stdout",
     "output_type": "stream",
     "text": [
      "\n",
      "Stacking score: 0.1099 (0.0051)\n",
      "\n"
     ]
    }
   ],
   "source": [
    "score = rmse_stack(stackModwAllLas)\n",
    "print(\"\\nStacking score: {:.4f} ({:.4f})\\n\".format(score.mean(), score.std()))"
   ]
  },
  {
   "cell_type": "code",
   "execution_count": 370,
   "metadata": {},
   "outputs": [
    {
     "data": {
      "image/png": "[encoded data removed]",
      "text/plain": [
       "<Figure size 864x576 with 1 Axes>"
      ]
     },
     "metadata": {},
     "output_type": "display_data"
    }
   ],
   "source": [
    "y_test_stack = stackModwAllLas.predict(np.array(X_test))\n",
    "y_train_las = grid_lasso.predict(X_train)\n",
    "y_test_las = grid_lasso.predict(X_test)\n",
    "\n",
    "# Plot predictions\n",
    "plt.figure(figsize=(12,8))\n",
    "plt.scatter(np.expm1(y_train_las), np.expm1(Y_train), c='black', marker=\"o\", s=15, label = \"Training data\")\n",
    "plt.scatter(np.expm1(y_test_las), np.expm1(Y_test), c='orange', marker='o', s=15, label = \"Validation data\")\n",
    "plt.title(\"Stacking\", fontsize = 20)\n",
    "plt.xlabel(\"Predicted Prices\", fontsize = 16)\n",
    "plt.ylabel(\"Actual Prices\", fontsize = 16)\n",
    "plt.xlim(0, 800000)\n",
    "plt.ylim(0, 800000)\n",
    "plt.legend(loc = \"upper left\")\n",
    "plt.plot([0, 800000], [0, 800000], c = \"grey\")\n",
    "plt.show()"
   ]
  },
  {
   "cell_type": "markdown",
   "metadata": {},
   "source": [
    "<p><a name=\"sub\"></a></p>\n",
    "\n",
    "## Submissions"
   ]
  },
  {
   "cell_type": "markdown",
   "metadata": {},
   "source": [
    "Define file name for import"
   ]
  },
  {
   "cell_type": "code",
   "execution_count": 442,
   "metadata": {},
   "outputs": [],
   "source": [
    "fNte = \"te7\""
   ]
  },
  {
   "cell_type": "code",
   "execution_count": 443,
   "metadata": {},
   "outputs": [],
   "source": [
    "testDF = pd.read_csv(fNte + '.csv', index_col = 0)"
   ]
  },
  {
   "cell_type": "code",
   "execution_count": 243,
   "metadata": {},
   "outputs": [],
   "source": [
    "#testDF['YrSoldMinRem'] = testDF['YrSoldMinRem'].fillna(0)"
   ]
  },
  {
   "cell_type": "markdown",
   "metadata": {},
   "source": [
    "Lasso"
   ]
  },
  {
   "cell_type": "code",
   "execution_count": 444,
   "metadata": {},
   "outputs": [],
   "source": [
    "Y_pred = grid_lasso.predict(testDF)\n",
    "Y_pred = np.expm1(Y_pred)\n",
    "ids = np.arange(1461,2920,1)"
   ]
  },
  {
   "cell_type": "code",
   "execution_count": 445,
   "metadata": {},
   "outputs": [],
   "source": [
    "predictions = pd.DataFrame({'Id':ids,'SalePrice': Y_pred})"
   ]
  },
  {
   "cell_type": "code",
   "execution_count": 446,
   "metadata": {},
   "outputs": [],
   "source": [
    "predictions.to_csv('predictlas11.csv', index=False)"
   ]
  },
  {
   "cell_type": "code",
   "execution_count": 102,
   "metadata": {
    "collapsed": true
   },
   "outputs": [
    {
     "name": "stderr",
     "output_type": "stream",
     "text": [
      "C:\\Users\\tnivo\\Anaconda3\\lib\\site-packages\\ipykernel_launcher.py:9: RuntimeWarning: overflow encountered in expm1\n",
      "  if __name__ == '__main__':\n"
     ]
    },
    {
     "ename": "ValueError",
     "evalue": "Shape of passed values is (2, 2), indices imply (1459, 2)",
     "output_type": "error",
     "traceback": [
      "\u001b[1;31m---------------------------------------------------------------------------\u001b[0m",
      "\u001b[1;31mValueError\u001b[0m                                Traceback (most recent call last)",
      "\u001b[1;32m<ipython-input-102-f8bbf3935415>\u001b[0m in \u001b[0;36m<module>\u001b[1;34m\u001b[0m\n\u001b[1;32m----> 1\u001b[1;33m \u001b[0mpredictTocsv\u001b[0m\u001b[1;33m(\u001b[0m\u001b[0mgrid_lasso\u001b[0m\u001b[1;33m,\u001b[0m \u001b[1;34m'predictlas3'\u001b[0m\u001b[1;33m)\u001b[0m\u001b[1;33m\u001b[0m\u001b[1;33m\u001b[0m\u001b[0m\n\u001b[0m",
      "\u001b[1;32m<ipython-input-4-33dbe78dda7f>\u001b[0m in \u001b[0;36mpredictTocsv\u001b[1;34m(modSel, title)\u001b[0m\n\u001b[0;32m      9\u001b[0m     \u001b[0mpred\u001b[0m \u001b[1;33m=\u001b[0m \u001b[0mnp\u001b[0m\u001b[1;33m.\u001b[0m\u001b[0mexpm1\u001b[0m\u001b[1;33m(\u001b[0m\u001b[0mpredEnet\u001b[0m\u001b[1;33m)\u001b[0m\u001b[1;33m\u001b[0m\u001b[1;33m\u001b[0m\u001b[0m\n\u001b[0;32m     10\u001b[0m     \u001b[0mids\u001b[0m \u001b[1;33m=\u001b[0m \u001b[0mnp\u001b[0m\u001b[1;33m.\u001b[0m\u001b[0marange\u001b[0m\u001b[1;33m(\u001b[0m\u001b[1;36m1461\u001b[0m\u001b[1;33m,\u001b[0m\u001b[1;36m2920\u001b[0m\u001b[1;33m,\u001b[0m\u001b[1;36m1\u001b[0m\u001b[1;33m)\u001b[0m\u001b[1;33m\u001b[0m\u001b[1;33m\u001b[0m\u001b[0m\n\u001b[1;32m---> 11\u001b[1;33m     \u001b[0mpredfin\u001b[0m \u001b[1;33m=\u001b[0m \u001b[0mpd\u001b[0m\u001b[1;33m.\u001b[0m\u001b[0mDataFrame\u001b[0m\u001b[1;33m(\u001b[0m\u001b[1;33m{\u001b[0m\u001b[1;34m'Id'\u001b[0m\u001b[1;33m:\u001b[0m\u001b[0mids\u001b[0m\u001b[1;33m,\u001b[0m\u001b[1;34m'SalePrice'\u001b[0m\u001b[1;33m:\u001b[0m \u001b[0mpred\u001b[0m\u001b[1;33m}\u001b[0m\u001b[1;33m)\u001b[0m\u001b[1;33m\u001b[0m\u001b[1;33m\u001b[0m\u001b[0m\n\u001b[0m\u001b[0;32m     12\u001b[0m     \u001b[0mpredfin\u001b[0m\u001b[1;33m.\u001b[0m\u001b[0mto_csv\u001b[0m\u001b[1;33m(\u001b[0m\u001b[0mtitle\u001b[0m \u001b[1;33m+\u001b[0m \u001b[1;34m'.csv'\u001b[0m\u001b[1;33m,\u001b[0m \u001b[0mindex\u001b[0m\u001b[1;33m=\u001b[0m\u001b[1;32mFalse\u001b[0m\u001b[1;33m)\u001b[0m\u001b[1;33m\u001b[0m\u001b[1;33m\u001b[0m\u001b[0m\n",
      "\u001b[1;32m~\\Anaconda3\\lib\\site-packages\\pandas\\core\\frame.py\u001b[0m in \u001b[0;36m__init__\u001b[1;34m(self, data, index, columns, dtype, copy)\u001b[0m\n\u001b[0;32m    390\u001b[0m                                  dtype=dtype, copy=copy)\n\u001b[0;32m    391\u001b[0m         \u001b[1;32melif\u001b[0m \u001b[0misinstance\u001b[0m\u001b[1;33m(\u001b[0m\u001b[0mdata\u001b[0m\u001b[1;33m,\u001b[0m \u001b[0mdict\u001b[0m\u001b[1;33m)\u001b[0m\u001b[1;33m:\u001b[0m\u001b[1;33m\u001b[0m\u001b[1;33m\u001b[0m\u001b[0m\n\u001b[1;32m--> 392\u001b[1;33m             \u001b[0mmgr\u001b[0m \u001b[1;33m=\u001b[0m \u001b[0minit_dict\u001b[0m\u001b[1;33m(\u001b[0m\u001b[0mdata\u001b[0m\u001b[1;33m,\u001b[0m \u001b[0mindex\u001b[0m\u001b[1;33m,\u001b[0m \u001b[0mcolumns\u001b[0m\u001b[1;33m,\u001b[0m \u001b[0mdtype\u001b[0m\u001b[1;33m=\u001b[0m\u001b[0mdtype\u001b[0m\u001b[1;33m)\u001b[0m\u001b[1;33m\u001b[0m\u001b[1;33m\u001b[0m\u001b[0m\n\u001b[0m\u001b[0;32m    393\u001b[0m         \u001b[1;32melif\u001b[0m \u001b[0misinstance\u001b[0m\u001b[1;33m(\u001b[0m\u001b[0mdata\u001b[0m\u001b[1;33m,\u001b[0m \u001b[0mma\u001b[0m\u001b[1;33m.\u001b[0m\u001b[0mMaskedArray\u001b[0m\u001b[1;33m)\u001b[0m\u001b[1;33m:\u001b[0m\u001b[1;33m\u001b[0m\u001b[1;33m\u001b[0m\u001b[0m\n\u001b[0;32m    394\u001b[0m             \u001b[1;32mimport\u001b[0m \u001b[0mnumpy\u001b[0m\u001b[1;33m.\u001b[0m\u001b[0mma\u001b[0m\u001b[1;33m.\u001b[0m\u001b[0mmrecords\u001b[0m \u001b[1;32mas\u001b[0m \u001b[0mmrecords\u001b[0m\u001b[1;33m\u001b[0m\u001b[1;33m\u001b[0m\u001b[0m\n",
      "\u001b[1;32m~\\Anaconda3\\lib\\site-packages\\pandas\\core\\internals\\construction.py\u001b[0m in \u001b[0;36minit_dict\u001b[1;34m(data, index, columns, dtype)\u001b[0m\n\u001b[0;32m    210\u001b[0m         \u001b[0marrays\u001b[0m \u001b[1;33m=\u001b[0m \u001b[1;33m[\u001b[0m\u001b[0mdata\u001b[0m\u001b[1;33m[\u001b[0m\u001b[0mk\u001b[0m\u001b[1;33m]\u001b[0m \u001b[1;32mfor\u001b[0m \u001b[0mk\u001b[0m \u001b[1;32min\u001b[0m \u001b[0mkeys\u001b[0m\u001b[1;33m]\u001b[0m\u001b[1;33m\u001b[0m\u001b[1;33m\u001b[0m\u001b[0m\n\u001b[0;32m    211\u001b[0m \u001b[1;33m\u001b[0m\u001b[0m\n\u001b[1;32m--> 212\u001b[1;33m     \u001b[1;32mreturn\u001b[0m \u001b[0marrays_to_mgr\u001b[0m\u001b[1;33m(\u001b[0m\u001b[0marrays\u001b[0m\u001b[1;33m,\u001b[0m \u001b[0mdata_names\u001b[0m\u001b[1;33m,\u001b[0m \u001b[0mindex\u001b[0m\u001b[1;33m,\u001b[0m \u001b[0mcolumns\u001b[0m\u001b[1;33m,\u001b[0m \u001b[0mdtype\u001b[0m\u001b[1;33m=\u001b[0m\u001b[0mdtype\u001b[0m\u001b[1;33m)\u001b[0m\u001b[1;33m\u001b[0m\u001b[1;33m\u001b[0m\u001b[0m\n\u001b[0m\u001b[0;32m    213\u001b[0m \u001b[1;33m\u001b[0m\u001b[0m\n\u001b[0;32m    214\u001b[0m \u001b[1;33m\u001b[0m\u001b[0m\n",
      "\u001b[1;32m~\\Anaconda3\\lib\\site-packages\\pandas\\core\\internals\\construction.py\u001b[0m in \u001b[0;36marrays_to_mgr\u001b[1;34m(arrays, arr_names, index, columns, dtype)\u001b[0m\n\u001b[0;32m     59\u001b[0m     \u001b[0maxes\u001b[0m \u001b[1;33m=\u001b[0m \u001b[1;33m[\u001b[0m\u001b[0mensure_index\u001b[0m\u001b[1;33m(\u001b[0m\u001b[0mcolumns\u001b[0m\u001b[1;33m)\u001b[0m\u001b[1;33m,\u001b[0m \u001b[0mindex\u001b[0m\u001b[1;33m]\u001b[0m\u001b[1;33m\u001b[0m\u001b[1;33m\u001b[0m\u001b[0m\n\u001b[0;32m     60\u001b[0m \u001b[1;33m\u001b[0m\u001b[0m\n\u001b[1;32m---> 61\u001b[1;33m     \u001b[1;32mreturn\u001b[0m \u001b[0mcreate_block_manager_from_arrays\u001b[0m\u001b[1;33m(\u001b[0m\u001b[0marrays\u001b[0m\u001b[1;33m,\u001b[0m \u001b[0marr_names\u001b[0m\u001b[1;33m,\u001b[0m \u001b[0maxes\u001b[0m\u001b[1;33m)\u001b[0m\u001b[1;33m\u001b[0m\u001b[1;33m\u001b[0m\u001b[0m\n\u001b[0m\u001b[0;32m     62\u001b[0m \u001b[1;33m\u001b[0m\u001b[0m\n\u001b[0;32m     63\u001b[0m \u001b[1;33m\u001b[0m\u001b[0m\n",
      "\u001b[1;32m~\\Anaconda3\\lib\\site-packages\\pandas\\core\\internals\\managers.py\u001b[0m in \u001b[0;36mcreate_block_manager_from_arrays\u001b[1;34m(arrays, names, axes)\u001b[0m\n\u001b[0;32m   1669\u001b[0m         \u001b[1;32mreturn\u001b[0m \u001b[0mmgr\u001b[0m\u001b[1;33m\u001b[0m\u001b[1;33m\u001b[0m\u001b[0m\n\u001b[0;32m   1670\u001b[0m     \u001b[1;32mexcept\u001b[0m \u001b[0mValueError\u001b[0m \u001b[1;32mas\u001b[0m \u001b[0me\u001b[0m\u001b[1;33m:\u001b[0m\u001b[1;33m\u001b[0m\u001b[1;33m\u001b[0m\u001b[0m\n\u001b[1;32m-> 1671\u001b[1;33m         \u001b[0mconstruction_error\u001b[0m\u001b[1;33m(\u001b[0m\u001b[0mlen\u001b[0m\u001b[1;33m(\u001b[0m\u001b[0marrays\u001b[0m\u001b[1;33m)\u001b[0m\u001b[1;33m,\u001b[0m \u001b[0marrays\u001b[0m\u001b[1;33m[\u001b[0m\u001b[1;36m0\u001b[0m\u001b[1;33m]\u001b[0m\u001b[1;33m.\u001b[0m\u001b[0mshape\u001b[0m\u001b[1;33m,\u001b[0m \u001b[0maxes\u001b[0m\u001b[1;33m,\u001b[0m \u001b[0me\u001b[0m\u001b[1;33m)\u001b[0m\u001b[1;33m\u001b[0m\u001b[1;33m\u001b[0m\u001b[0m\n\u001b[0m\u001b[0;32m   1672\u001b[0m \u001b[1;33m\u001b[0m\u001b[0m\n\u001b[0;32m   1673\u001b[0m \u001b[1;33m\u001b[0m\u001b[0m\n",
      "\u001b[1;32m~\\Anaconda3\\lib\\site-packages\\pandas\\core\\internals\\managers.py\u001b[0m in \u001b[0;36mconstruction_error\u001b[1;34m(tot_items, block_shape, axes, e)\u001b[0m\n\u001b[0;32m   1685\u001b[0m \u001b[1;33m\u001b[0m\u001b[0m\n\u001b[0;32m   1686\u001b[0m     \u001b[1;32mif\u001b[0m \u001b[0mpassed\u001b[0m \u001b[1;33m==\u001b[0m \u001b[0mimplied\u001b[0m \u001b[1;32mand\u001b[0m \u001b[0me\u001b[0m \u001b[1;32mis\u001b[0m \u001b[1;32mnot\u001b[0m \u001b[1;32mNone\u001b[0m\u001b[1;33m:\u001b[0m\u001b[1;33m\u001b[0m\u001b[1;33m\u001b[0m\u001b[0m\n\u001b[1;32m-> 1687\u001b[1;33m         \u001b[1;32mraise\u001b[0m \u001b[0me\u001b[0m\u001b[1;33m\u001b[0m\u001b[1;33m\u001b[0m\u001b[0m\n\u001b[0m\u001b[0;32m   1688\u001b[0m     \u001b[1;32mif\u001b[0m \u001b[0mblock_shape\u001b[0m\u001b[1;33m[\u001b[0m\u001b[1;36m0\u001b[0m\u001b[1;33m]\u001b[0m \u001b[1;33m==\u001b[0m \u001b[1;36m0\u001b[0m\u001b[1;33m:\u001b[0m\u001b[1;33m\u001b[0m\u001b[1;33m\u001b[0m\u001b[0m\n\u001b[0;32m   1689\u001b[0m         \u001b[1;32mraise\u001b[0m \u001b[0mValueError\u001b[0m\u001b[1;33m(\u001b[0m\u001b[1;34m\"Empty data passed with indices specified.\"\u001b[0m\u001b[1;33m)\u001b[0m\u001b[1;33m\u001b[0m\u001b[1;33m\u001b[0m\u001b[0m\n",
      "\u001b[1;32m~\\Anaconda3\\lib\\site-packages\\pandas\\core\\internals\\managers.py\u001b[0m in \u001b[0;36mcreate_block_manager_from_arrays\u001b[1;34m(arrays, names, axes)\u001b[0m\n\u001b[0;32m   1665\u001b[0m     \u001b[1;32mtry\u001b[0m\u001b[1;33m:\u001b[0m\u001b[1;33m\u001b[0m\u001b[1;33m\u001b[0m\u001b[0m\n\u001b[0;32m   1666\u001b[0m         \u001b[0mblocks\u001b[0m \u001b[1;33m=\u001b[0m \u001b[0mform_blocks\u001b[0m\u001b[1;33m(\u001b[0m\u001b[0marrays\u001b[0m\u001b[1;33m,\u001b[0m \u001b[0mnames\u001b[0m\u001b[1;33m,\u001b[0m \u001b[0maxes\u001b[0m\u001b[1;33m)\u001b[0m\u001b[1;33m\u001b[0m\u001b[1;33m\u001b[0m\u001b[0m\n\u001b[1;32m-> 1667\u001b[1;33m         \u001b[0mmgr\u001b[0m \u001b[1;33m=\u001b[0m \u001b[0mBlockManager\u001b[0m\u001b[1;33m(\u001b[0m\u001b[0mblocks\u001b[0m\u001b[1;33m,\u001b[0m \u001b[0maxes\u001b[0m\u001b[1;33m)\u001b[0m\u001b[1;33m\u001b[0m\u001b[1;33m\u001b[0m\u001b[0m\n\u001b[0m\u001b[0;32m   1668\u001b[0m         \u001b[0mmgr\u001b[0m\u001b[1;33m.\u001b[0m\u001b[0m_consolidate_inplace\u001b[0m\u001b[1;33m(\u001b[0m\u001b[1;33m)\u001b[0m\u001b[1;33m\u001b[0m\u001b[1;33m\u001b[0m\u001b[0m\n\u001b[0;32m   1669\u001b[0m         \u001b[1;32mreturn\u001b[0m \u001b[0mmgr\u001b[0m\u001b[1;33m\u001b[0m\u001b[1;33m\u001b[0m\u001b[0m\n",
      "\u001b[1;32m~\\Anaconda3\\lib\\site-packages\\pandas\\core\\internals\\managers.py\u001b[0m in \u001b[0;36m__init__\u001b[1;34m(self, blocks, axes, do_integrity_check)\u001b[0m\n\u001b[0;32m    112\u001b[0m \u001b[1;33m\u001b[0m\u001b[0m\n\u001b[0;32m    113\u001b[0m         \u001b[1;32mif\u001b[0m \u001b[0mdo_integrity_check\u001b[0m\u001b[1;33m:\u001b[0m\u001b[1;33m\u001b[0m\u001b[1;33m\u001b[0m\u001b[0m\n\u001b[1;32m--> 114\u001b[1;33m             \u001b[0mself\u001b[0m\u001b[1;33m.\u001b[0m\u001b[0m_verify_integrity\u001b[0m\u001b[1;33m(\u001b[0m\u001b[1;33m)\u001b[0m\u001b[1;33m\u001b[0m\u001b[1;33m\u001b[0m\u001b[0m\n\u001b[0m\u001b[0;32m    115\u001b[0m \u001b[1;33m\u001b[0m\u001b[0m\n\u001b[0;32m    116\u001b[0m         \u001b[0mself\u001b[0m\u001b[1;33m.\u001b[0m\u001b[0m_consolidate_check\u001b[0m\u001b[1;33m(\u001b[0m\u001b[1;33m)\u001b[0m\u001b[1;33m\u001b[0m\u001b[1;33m\u001b[0m\u001b[0m\n",
      "\u001b[1;32m~\\Anaconda3\\lib\\site-packages\\pandas\\core\\internals\\managers.py\u001b[0m in \u001b[0;36m_verify_integrity\u001b[1;34m(self)\u001b[0m\n\u001b[0;32m    309\u001b[0m         \u001b[1;32mfor\u001b[0m \u001b[0mblock\u001b[0m \u001b[1;32min\u001b[0m \u001b[0mself\u001b[0m\u001b[1;33m.\u001b[0m\u001b[0mblocks\u001b[0m\u001b[1;33m:\u001b[0m\u001b[1;33m\u001b[0m\u001b[1;33m\u001b[0m\u001b[0m\n\u001b[0;32m    310\u001b[0m             \u001b[1;32mif\u001b[0m \u001b[0mblock\u001b[0m\u001b[1;33m.\u001b[0m\u001b[0m_verify_integrity\u001b[0m \u001b[1;32mand\u001b[0m \u001b[0mblock\u001b[0m\u001b[1;33m.\u001b[0m\u001b[0mshape\u001b[0m\u001b[1;33m[\u001b[0m\u001b[1;36m1\u001b[0m\u001b[1;33m:\u001b[0m\u001b[1;33m]\u001b[0m \u001b[1;33m!=\u001b[0m \u001b[0mmgr_shape\u001b[0m\u001b[1;33m[\u001b[0m\u001b[1;36m1\u001b[0m\u001b[1;33m:\u001b[0m\u001b[1;33m]\u001b[0m\u001b[1;33m:\u001b[0m\u001b[1;33m\u001b[0m\u001b[1;33m\u001b[0m\u001b[0m\n\u001b[1;32m--> 311\u001b[1;33m                 \u001b[0mconstruction_error\u001b[0m\u001b[1;33m(\u001b[0m\u001b[0mtot_items\u001b[0m\u001b[1;33m,\u001b[0m \u001b[0mblock\u001b[0m\u001b[1;33m.\u001b[0m\u001b[0mshape\u001b[0m\u001b[1;33m[\u001b[0m\u001b[1;36m1\u001b[0m\u001b[1;33m:\u001b[0m\u001b[1;33m]\u001b[0m\u001b[1;33m,\u001b[0m \u001b[0mself\u001b[0m\u001b[1;33m.\u001b[0m\u001b[0maxes\u001b[0m\u001b[1;33m)\u001b[0m\u001b[1;33m\u001b[0m\u001b[1;33m\u001b[0m\u001b[0m\n\u001b[0m\u001b[0;32m    312\u001b[0m         \u001b[1;32mif\u001b[0m \u001b[0mlen\u001b[0m\u001b[1;33m(\u001b[0m\u001b[0mself\u001b[0m\u001b[1;33m.\u001b[0m\u001b[0mitems\u001b[0m\u001b[1;33m)\u001b[0m \u001b[1;33m!=\u001b[0m \u001b[0mtot_items\u001b[0m\u001b[1;33m:\u001b[0m\u001b[1;33m\u001b[0m\u001b[1;33m\u001b[0m\u001b[0m\n\u001b[0;32m    313\u001b[0m             raise AssertionError('Number of manager items must equal union of '\n",
      "\u001b[1;32m~\\Anaconda3\\lib\\site-packages\\pandas\\core\\internals\\managers.py\u001b[0m in \u001b[0;36mconstruction_error\u001b[1;34m(tot_items, block_shape, axes, e)\u001b[0m\n\u001b[0;32m   1689\u001b[0m         \u001b[1;32mraise\u001b[0m \u001b[0mValueError\u001b[0m\u001b[1;33m(\u001b[0m\u001b[1;34m\"Empty data passed with indices specified.\"\u001b[0m\u001b[1;33m)\u001b[0m\u001b[1;33m\u001b[0m\u001b[1;33m\u001b[0m\u001b[0m\n\u001b[0;32m   1690\u001b[0m     raise ValueError(\"Shape of passed values is {0}, indices imply {1}\".format(\n\u001b[1;32m-> 1691\u001b[1;33m         passed, implied))\n\u001b[0m\u001b[0;32m   1692\u001b[0m \u001b[1;33m\u001b[0m\u001b[0m\n\u001b[0;32m   1693\u001b[0m \u001b[1;33m\u001b[0m\u001b[0m\n",
      "\u001b[1;31mValueError\u001b[0m: Shape of passed values is (2, 2), indices imply (1459, 2)"
     ]
    }
   ],
   "source": [
    "#predictTocsv(grid_lasso, 'predictlas3')"
   ]
  },
  {
   "cell_type": "markdown",
   "metadata": {},
   "source": [
    "Elastic Net"
   ]
  },
  {
   "cell_type": "code",
   "execution_count": 184,
   "metadata": {},
   "outputs": [],
   "source": [
    "predEnet = grid_eNet.predict(testDF)\n",
    "predEnet = np.expm1(predEnet)\n",
    "ids = np.arange(1461,2920,1)\n",
    "predEnet = pd.DataFrame({'Id':ids,'SalePrice': predEnet})\n",
    "predEnet.to_csv('predictENet3.csv', index=False)"
   ]
  },
  {
   "cell_type": "code",
   "execution_count": null,
   "metadata": {},
   "outputs": [],
   "source": [
    "predictTocsv(grid_eNet, 'predictENet2')"
   ]
  },
  {
   "cell_type": "markdown",
   "metadata": {},
   "source": [
    "XGBoost"
   ]
  },
  {
   "cell_type": "code",
   "execution_count": 247,
   "metadata": {},
   "outputs": [],
   "source": [
    "#Back to csv for kaggle\n",
    "test_predict = grid_xgb.predict(testDF)\n",
    "id_price = list(zip(range(1461, 2920), np.expm1(test_predict)))\n",
    "id_price = list(map(lambda x: [x[0], round(x[1], 1)], id_price))\n",
    "final_df = pd.DataFrame(id_price, columns=['Id', 'SalePrice'])"
   ]
  },
  {
   "cell_type": "markdown",
   "metadata": {},
   "source": [
    "Random Forest"
   ]
  },
  {
   "cell_type": "code",
   "execution_count": 391,
   "metadata": {},
   "outputs": [],
   "source": [
    "test_rForest = grid_rforest.predict(testDF)\n",
    "test_rForest = np.expm1(test_rForest)\n",
    "#test_predictions_tuned_rForest2 = grid_search_rForest2.best_estimator_.predict(test)"
   ]
  },
  {
   "cell_type": "code",
   "execution_count": 392,
   "metadata": {},
   "outputs": [],
   "source": [
    "Ids = np.arange(1461, 2920, 1)\n",
    "#test_rForest = np.exp(test_rForest) - 1\n",
    "pred = pd.DataFrame({'Id': Ids,'SalePrice': test_rForest})\n",
    "#test_rForest\n",
    "pred.to_csv('predRF2.csv', index = False)"
   ]
  },
  {
   "cell_type": "markdown",
   "metadata": {},
   "source": [
    "Stacking"
   ]
  },
  {
   "cell_type": "code",
   "execution_count": 386,
   "metadata": {},
   "outputs": [],
   "source": [
    "#stackModwAllLas\n",
    "test_stack = stackModwAllLas.predict(np.array(testDF))\n",
    "test_stack = np.expm1(test_stack)\n",
    "#test_predictions_tuned_rForest2 = grid_search_rForest2.best_estimator_.predict(test)"
   ]
  },
  {
   "cell_type": "code",
   "execution_count": 387,
   "metadata": {},
   "outputs": [],
   "source": [
    "Ids = np.arange(1461, 2920, 1)\n",
    "\n",
    "pred = pd.DataFrame({'Id': Ids,'SalePrice': test_stack})\n",
    "\n",
    "#pred.to_csv('predStack2.csv', index = False)"
   ]
  },
  {
   "cell_type": "code",
   "execution_count": 389,
   "metadata": {},
   "outputs": [],
   "source": [
    "pred.to_csv('predStack3.csv', index = False)"
   ]
  },
  {
   "cell_type": "code",
   "execution_count": 390,
   "metadata": {},
   "outputs": [],
   "source": [
    "test_stack2 = stackModwoRF.predict(np.array(testDF))\n",
    "test_stack2 = np.expm1(test_stack2)\n",
    "Ids = np.arange(1461, 2920, 1)\n",
    "pred = pd.DataFrame({'Id': Ids,'SalePrice': test_stack})\n",
    "pred.to_csv('predStack4.csv', index = False)"
   ]
  },
  {
   "cell_type": "code",
   "execution_count": 251,
   "metadata": {},
   "outputs": [],
   "source": [
    "#final_df.to_csv('predictxg.csv', index=False)"
   ]
  },
  {
   "cell_type": "code",
   "execution_count": 253,
   "metadata": {},
   "outputs": [],
   "source": [
    "#predictTocsv(grid_xgb, testDF,'predictxg1')"
   ]
  },
  {
   "cell_type": "code",
   "execution_count": null,
   "metadata": {},
   "outputs": [],
   "source": [
    "def predictTocsv(modSel, title):\n",
    "    \"\"\"\n",
    "    Function takes selected model and creates CSV file\n",
    "    Function takes two inputs:\n",
    "    1. modSel = selected model used to create predictions\n",
    "    2. title = title for CSV\n",
    "    \"\"\"\n",
    "    pred = modSel.predict(testDF)\n",
    "    pred = np.expm1(predEnet)\n",
    "    ids = np.arange(1461,2920,1)\n",
    "    predEnet = pd.DataFrame({'Id':ids,'SalePrice': pred})\n",
    "    predEnet.to_csv(title + '.csv', index=False)"
   ]
  }
 ],
 "metadata": {
  "kernelspec": {
   "display_name": "Python 3",
   "language": "python",
   "name": "python3"
  },
  "language_info": {
   "codemirror_mode": {
    "name": "ipython",
    "version": 3
   },
   "file_extension": ".py",
   "mimetype": "text/x-python",
   "name": "python",
   "nbconvert_exporter": "python",
   "pygments_lexer": "ipython3",
   "version": "3.7.3"
  }
 },
 "nbformat": 4,
 "nbformat_minor": 2
}
