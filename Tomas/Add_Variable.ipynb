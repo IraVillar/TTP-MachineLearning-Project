{
 "cells": [
  {
   "cell_type": "code",
   "execution_count": 1,
   "metadata": {},
   "outputs": [],
   "source": [
    "import pandas as pd\n",
    "import numpy as np"
   ]
  },
  {
   "cell_type": "code",
   "execution_count": 8,
   "metadata": {},
   "outputs": [],
   "source": [
    "combinedDF = pd.read_csv('test_train.csv')"
   ]
  },
  {
   "cell_type": "code",
   "execution_count": 15,
   "metadata": {
    "collapsed": true
   },
   "outputs": [
    {
     "name": "stdout",
     "output_type": "stream",
     "text": [
      "0\n",
      "0\n",
      "1\n"
     ]
    }
   ],
   "source": [
    "print(combinedDF['2ndFlrSF'].isnull().sum())\n",
    "print(combinedDF['1stFlrSF'].isnull().sum())\n",
    "print(combinedDF['TotalBsmtSF'].isnull().sum())\n"
   ]
  },
  {
   "cell_type": "code",
   "execution_count": 16,
   "metadata": {},
   "outputs": [],
   "source": [
    "combinedDF['TotalBsmtSF'].fillna(value=0, inplace=True)"
   ]
  },
  {
   "cell_type": "code",
   "execution_count": 17,
   "metadata": {
    "collapsed": true
   },
   "outputs": [
    {
     "name": "stdout",
     "output_type": "stream",
     "text": [
      "0\n"
     ]
    }
   ],
   "source": [
    "print(combinedDF['TotalBsmtSF'].isnull().sum())"
   ]
  },
  {
   "cell_type": "code",
   "execution_count": 18,
   "metadata": {},
   "outputs": [],
   "source": [
    "#Create a variable for Total SF\n",
    "#Combine all Bsmt + 1st + 2nd fl, does not distinguish between quality\n",
    "combinedDF['TotalSF'] = combinedDF['TotalBsmtSF'] + combinedDF['1stFlrSF'] + combinedDF['2ndFlrSF']"
   ]
  },
  {
   "cell_type": "code",
   "execution_count": null,
   "metadata": {},
   "outputs": [],
   "source": [
    "BsmtFullBath     2917 non-null float64\n",
    "BsmtHalfBath     2917 non-null float64\n",
    "FullBath         2919 non-null int64\n",
    "HalfBath"
   ]
  },
  {
   "cell_type": "code",
   "execution_count": 20,
   "metadata": {
    "collapsed": true
   },
   "outputs": [
    {
     "name": "stdout",
     "output_type": "stream",
     "text": [
      "2\n",
      "2\n",
      "0\n",
      "0\n"
     ]
    }
   ],
   "source": [
    "print(combinedDF['BsmtFullBath'].isnull().sum())\n",
    "print(combinedDF['BsmtHalfBath'].isnull().sum())\n",
    "print(combinedDF['FullBath'].isnull().sum())\n",
    "print(combinedDF['HalfBath'].isnull().sum())"
   ]
  },
  {
   "cell_type": "code",
   "execution_count": 21,
   "metadata": {},
   "outputs": [],
   "source": [
    "combinedDF['BsmtFullBath'].fillna(value=0, inplace=True)\n",
    "combinedDF['BsmtHalfBath'].fillna(value=0, inplace=True)"
   ]
  },
  {
   "cell_type": "code",
   "execution_count": 23,
   "metadata": {
    "collapsed": true
   },
   "outputs": [
    {
     "name": "stdout",
     "output_type": "stream",
     "text": [
      "0\n",
      "0\n"
     ]
    }
   ],
   "source": [
    "print(combinedDF['BsmtFullBath'].isnull().sum())\n",
    "print(combinedDF['BsmtHalfBath'].isnull().sum())"
   ]
  },
  {
   "cell_type": "code",
   "execution_count": 24,
   "metadata": {},
   "outputs": [],
   "source": [
    "#Create Variable For Total Bath\n",
    "#Half Baths are multiplied by 0.5 and Full are added as a whole\n",
    "combinedDF['TotalBath'] = combinedDF['BsmtFullBath'] + combinedDF['FullBath'] + 0.5* combinedDF['BsmtHalfBath'] + 0.5 * combinedDF['HalfBath'] "
   ]
  },
  {
   "cell_type": "code",
   "execution_count": 27,
   "metadata": {
    "collapsed": true
   },
   "outputs": [
    {
     "name": "stdout",
     "output_type": "stream",
     "text": [
      "0\n",
      "0\n",
      "0\n",
      "0\n",
      "0\n"
     ]
    }
   ],
   "source": [
    "print(combinedDF['WoodDeckSF'].isnull().sum())\n",
    "print(combinedDF['OpenPorchSF'].isnull().sum())\n",
    "print(combinedDF['EnclosedPorch'].isnull().sum())\n",
    "print(combinedDF['3SsnPorch'].isnull().sum())\n",
    "print(combinedDF['ScreenPorch'].isnull().sum())"
   ]
  },
  {
   "cell_type": "code",
   "execution_count": 28,
   "metadata": {},
   "outputs": [],
   "source": [
    "#Create Variable For Total Porch SF\n",
    "#We do not distinguish between the variables\n",
    "combinedDF['TotalPorchSF'] = combinedDF['WoodDeckSF'] + combinedDF['OpenPorchSF'] + combinedDF['EnclosedPorch']+ combinedDF['3SsnPorch']+ combinedDF['ScreenPorch']"
   ]
  },
  {
   "cell_type": "code",
   "execution_count": 44,
   "metadata": {
    "collapsed": true
   },
   "outputs": [
    {
     "data": {
      "text/plain": [
       "Unf    851\n",
       "GLQ    849\n",
       "ALQ    429\n",
       "Rec    288\n",
       "BLQ    269\n",
       "LwQ    154\n",
       "Name: BsmtFinType1, dtype: int64"
      ]
     },
     "execution_count": 44,
     "metadata": {},
     "output_type": "execute_result"
    }
   ],
   "source": [
    "combinedDF['BsmtFinType1'].value_counts()"
   ]
  },
  {
   "cell_type": "code",
   "execution_count": 52,
   "metadata": {},
   "outputs": [
    {
     "data": {
      "text/plain": [
       "2068"
      ]
     },
     "execution_count": 52,
     "metadata": {},
     "output_type": "execute_result"
    }
   ],
   "source": [
    "(combinedDF['BsmtFinType1'] != 'Unf').sum()"
   ]
  },
  {
   "cell_type": "code",
   "execution_count": 53,
   "metadata": {},
   "outputs": [],
   "source": [
    "#Create Dummy variable for finished bsmt\n",
    "#not distinguishing between finish quality for basement only if the basement is unfinished\n",
    "combinedDF['BsmtFin']= (combinedDF['BsmtFinType1'] != 'Unf')*1"
   ]
  },
  {
   "cell_type": "code",
   "execution_count": 57,
   "metadata": {},
   "outputs": [],
   "source": [
    "combinedDF.to_csv('combinedCleaned.csv')"
   ]
  },
  {
   "cell_type": "code",
   "execution_count": null,
   "metadata": {},
   "outputs": [],
   "source": []
  }
 ],
 "metadata": {
  "kernelspec": {
   "display_name": "Python 3",
   "language": "python",
   "name": "python3"
  },
  "language_info": {
   "codemirror_mode": {
    "name": "ipython",
    "version": 3
   },
   "file_extension": ".py",
   "mimetype": "text/x-python",
   "name": "python",
   "nbconvert_exporter": "python",
   "pygments_lexer": "ipython3",
   "version": "3.7.3"
  }
 },
 "nbformat": 4,
 "nbformat_minor": 2
}
